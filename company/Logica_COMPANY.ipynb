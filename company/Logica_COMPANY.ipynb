{
 "cells": [
  {
   "cell_type": "markdown",
   "id": "27441829-3bf0-45fd-8d7a-dafaf6947fad",
   "metadata": {},
   "source": [
    "# Company Problem"
   ]
  },
  {
   "cell_type": "markdown",
   "id": "fb7d5965-a607-4107-97fa-2039ece0fc5d",
   "metadata": {},
   "source": [
    "In this notebook, our goal is to familiarize you with Logica while also enabling you to contrast Logica with SQL."
   ]
  },
  {
   "cell_type": "markdown",
   "id": "ea2bb6a1-4751-431e-a25f-8e21b55df47f",
   "metadata": {},
   "source": [
    "### Package Installation"
   ]
  },
  {
   "cell_type": "markdown",
   "id": "e1405820-19cd-47d4-be87-a88776845db2",
   "metadata": {},
   "source": [
    "First-time users need to install the following packages"
   ]
  },
  {
   "cell_type": "code",
   "execution_count": 1,
   "id": "3ff4af4b-e77e-46fe-9855-bda28e33068d",
   "metadata": {},
   "outputs": [
    {
     "name": "stdout",
     "output_type": "stream",
     "text": [
      "Requirement already satisfied: logica in /home/vscode/.local/lib/python3.9/site-packages (1.3.1415926)\n",
      "Requirement already satisfied: pandas in /home/vscode/.local/lib/python3.9/site-packages (2.1.2)\n",
      "Requirement already satisfied: numpy<2,>=1.22.4 in /home/vscode/.local/lib/python3.9/site-packages (from pandas) (1.26.1)\n",
      "Requirement already satisfied: python-dateutil>=2.8.2 in /home/vscode/.local/lib/python3.9/site-packages (from pandas) (2.8.2)\n",
      "Requirement already satisfied: tzdata>=2022.1 in /home/vscode/.local/lib/python3.9/site-packages (from pandas) (2023.3)\n",
      "Requirement already satisfied: pytz>=2020.1 in /home/vscode/.local/lib/python3.9/site-packages (from pandas) (2023.3.post1)\n",
      "Requirement already satisfied: six>=1.5 in /home/vscode/.local/lib/python3.9/site-packages (from python-dateutil>=2.8.2->pandas) (1.16.0)\n",
      "Requirement already satisfied: ipython-sql in /home/vscode/.local/lib/python3.9/site-packages (0.5.0)\n",
      "Requirement already satisfied: prettytable in /home/vscode/.local/lib/python3.9/site-packages (from ipython-sql) (3.9.0)\n",
      "Requirement already satisfied: ipython-genutils in /home/vscode/.local/lib/python3.9/site-packages (from ipython-sql) (0.2.0)\n",
      "Requirement already satisfied: six in /home/vscode/.local/lib/python3.9/site-packages (from ipython-sql) (1.16.0)\n",
      "Requirement already satisfied: sqlparse in /home/vscode/.local/lib/python3.9/site-packages (from ipython-sql) (0.4.4)\n",
      "Requirement already satisfied: ipython in /home/vscode/.local/lib/python3.9/site-packages (from ipython-sql) (8.17.2)\n",
      "Requirement already satisfied: sqlalchemy>=2.0 in /home/vscode/.local/lib/python3.9/site-packages (from ipython-sql) (2.0.23)\n",
      "Requirement already satisfied: typing-extensions>=4.2.0 in /home/vscode/.local/lib/python3.9/site-packages (from sqlalchemy>=2.0->ipython-sql) (4.8.0)\n",
      "Requirement already satisfied: greenlet!=0.4.17 in /home/vscode/.local/lib/python3.9/site-packages (from sqlalchemy>=2.0->ipython-sql) (3.0.1)\n",
      "Requirement already satisfied: pexpect>4.3 in /home/vscode/.local/lib/python3.9/site-packages (from ipython->ipython-sql) (4.8.0)\n",
      "Requirement already satisfied: stack-data in /home/vscode/.local/lib/python3.9/site-packages (from ipython->ipython-sql) (0.6.3)\n",
      "Requirement already satisfied: prompt-toolkit!=3.0.37,<3.1.0,>=3.0.30 in /home/vscode/.local/lib/python3.9/site-packages (from ipython->ipython-sql) (3.0.39)\n",
      "Requirement already satisfied: exceptiongroup in /home/vscode/.local/lib/python3.9/site-packages (from ipython->ipython-sql) (1.1.3)\n",
      "Requirement already satisfied: matplotlib-inline in /home/vscode/.local/lib/python3.9/site-packages (from ipython->ipython-sql) (0.1.6)\n",
      "Requirement already satisfied: jedi>=0.16 in /home/vscode/.local/lib/python3.9/site-packages (from ipython->ipython-sql) (0.19.1)\n",
      "Requirement already satisfied: decorator in /home/vscode/.local/lib/python3.9/site-packages (from ipython->ipython-sql) (5.1.1)\n",
      "Requirement already satisfied: pygments>=2.4.0 in /home/vscode/.local/lib/python3.9/site-packages (from ipython->ipython-sql) (2.16.1)\n",
      "Requirement already satisfied: traitlets>=5 in /home/vscode/.local/lib/python3.9/site-packages (from ipython->ipython-sql) (5.13.0)\n",
      "Requirement already satisfied: parso<0.9.0,>=0.8.3 in /home/vscode/.local/lib/python3.9/site-packages (from jedi>=0.16->ipython->ipython-sql) (0.8.3)\n",
      "Requirement already satisfied: ptyprocess>=0.5 in /home/vscode/.local/lib/python3.9/site-packages (from pexpect>4.3->ipython->ipython-sql) (0.7.0)\n",
      "Requirement already satisfied: wcwidth in /home/vscode/.local/lib/python3.9/site-packages (from prompt-toolkit!=3.0.37,<3.1.0,>=3.0.30->ipython->ipython-sql) (0.2.9)\n",
      "Requirement already satisfied: pure-eval in /home/vscode/.local/lib/python3.9/site-packages (from stack-data->ipython->ipython-sql) (0.2.2)\n",
      "Requirement already satisfied: executing>=1.2.0 in /home/vscode/.local/lib/python3.9/site-packages (from stack-data->ipython->ipython-sql) (2.0.1)\n",
      "Requirement already satisfied: asttokens>=2.1.0 in /home/vscode/.local/lib/python3.9/site-packages (from stack-data->ipython->ipython-sql) (2.4.1)\n"
     ]
    }
   ],
   "source": [
    "!python3 -m pip install logica\n",
    "!python3 -m pip install pandas\n",
    "!pip install ipython-sql"
   ]
  },
  {
   "cell_type": "markdown",
   "id": "2e3f5043-7460-4779-b370-b5b7c26dc1aa",
   "metadata": {},
   "source": [
    "After running the cell above, please restart the kernel to move on"
   ]
  },
  {
   "cell_type": "markdown",
   "id": "d5336421-0f54-4e6b-bfa0-17aec63b9c7f",
   "metadata": {},
   "source": [
    "### Package Import"
   ]
  },
  {
   "cell_type": "markdown",
   "id": "07f5ff1f-ff73-48b9-a421-7dc7677e17db",
   "metadata": {},
   "source": [
    "You can disregard the messages (\"Could not import ...\") when executing the cell below"
   ]
  },
  {
   "cell_type": "code",
   "execution_count": 2,
   "id": "bdc4b02a-6333-4ba6-8e4b-2db8c9c69195",
   "metadata": {},
   "outputs": [
    {
     "name": "stdout",
     "output_type": "stream",
     "text": [
      "Could not import google.cloud.bigquery.\n",
      "Could not import google.cloud.auth.\n",
      "Could not import google.colab.widgets.\n"
     ]
    }
   ],
   "source": [
    "from logica import colab_logica\n",
    "import pandas as pd\n",
    "import sqlite3"
   ]
  },
  {
   "cell_type": "code",
   "execution_count": 3,
   "id": "a3dca9da-8207-47a2-ac26-cb9760710cae",
   "metadata": {},
   "outputs": [],
   "source": [
    "colab_logica.SetPreamble(\n",
    "    '@Engine(\"sqlite\"); @AttachDatabase(\"mydata\", \"my_database.db\");'\n",
    ")"
   ]
  },
  {
   "cell_type": "code",
   "execution_count": 4,
   "id": "e3c7e1d4-c95c-4a1f-82c2-9e3201d0d011",
   "metadata": {},
   "outputs": [],
   "source": [
    "%load_ext sql"
   ]
  },
  {
   "cell_type": "markdown",
   "id": "45392a18-e405-49e4-9c33-7aff747f0be7",
   "metadata": {},
   "source": [
    "### Database Creation"
   ]
  },
  {
   "cell_type": "markdown",
   "id": "d068c2f8-4acc-478b-b3f0-00064c481c56",
   "metadata": {},
   "source": [
    "Logica is typically run on a database. Since we only possess CSV files, we need first create a database."
   ]
  },
  {
   "cell_type": "code",
   "execution_count": 5,
   "id": "0d5b18f1-d4d2-4637-afb7-31932fb6340d",
   "metadata": {},
   "outputs": [],
   "source": [
    "Dep = pd.read_csv(\"datasets/Department.csv\")\n",
    "Dpd = pd.read_csv(\"datasets/Dependent.csv\")\n",
    "Dep_loc = pd.read_csv(\"datasets/Dept_Location.csv\")\n",
    "Emp = pd.read_csv(\"datasets/Employee.csv\", dtype={\"Super_ssn\": \"str\"})\n",
    "Proj = pd.read_csv(\"datasets/Project.csv\")\n",
    "Works_On = pd.read_csv(\"datasets/Works_On.csv\", dtype={\"Pno\": \"str\"})"
   ]
  },
  {
   "cell_type": "code",
   "execution_count": 6,
   "id": "78ac9632-f8a9-4810-8ba1-2f65dc00f408",
   "metadata": {},
   "outputs": [],
   "source": [
    "Dep.columns = Dep.columns.str.lower()\n",
    "Dpd.columns = Dpd.columns.str.lower()\n",
    "Dep_loc.columns = Dep_loc.columns.str.lower()\n",
    "Emp.columns = Emp.columns.str.lower()\n",
    "Proj.columns = Proj.columns.str.lower()\n",
    "Works_On.columns = Works_On.columns.str.lower()"
   ]
  },
  {
   "cell_type": "code",
   "execution_count": 7,
   "id": "451fa7cb-d7c1-4717-a49f-0a843bb0de88",
   "metadata": {},
   "outputs": [],
   "source": [
    "conn = sqlite3.connect(\"my_database.db\")\n",
    "\n",
    "Dep.to_sql(\"Department\", conn, if_exists=\"replace\", index=False)\n",
    "Dpd.to_sql(\"Dependent\", conn, if_exists=\"replace\", index=False)\n",
    "Dep_loc.to_sql(\"Dept_Location\", conn, if_exists=\"replace\", index=False)\n",
    "Emp.to_sql(\"Employee\", conn, if_exists=\"replace\", index=False)\n",
    "Proj.to_sql(\"Project\", conn, if_exists=\"replace\", index=False)\n",
    "Works_On.to_sql(\"Works_On\", conn, if_exists=\"replace\", index=False)\n",
    "\n",
    "conn.close()"
   ]
  },
  {
   "cell_type": "markdown",
   "id": "013c1314-3656-4234-bb5a-a5f6f9a35180",
   "metadata": {},
   "source": [
    "### Queries"
   ]
  },
  {
   "cell_type": "markdown",
   "id": "b8299008-3486-4f67-bedb-cd9d77cf05c0",
   "metadata": {},
   "source": [
    "We've provided a range of queries, in SQL and Logica formats, sourced from the textbook \"FUNDAMENTALS OF Database Systems\". Consider these as your starting point. Enjoy!"
   ]
  },
  {
   "cell_type": "markdown",
   "id": "da79fee8",
   "metadata": {},
   "source": [
    "#### Query 0: Retrieve the birth date and address of the employee(s) whose name is 'John B. Smith'."
   ]
  },
  {
   "cell_type": "markdown",
   "id": "3a77d415",
   "metadata": {},
   "source": [
    "$\\mathrm{\\sigma_{Fname='John' \\land Minit='B' \\land Lname='Smith'}(EMPLOYEE)}$"
   ]
  },
  {
   "cell_type": "code",
   "execution_count": 8,
   "id": "8daf6215",
   "metadata": {},
   "outputs": [
    {
     "name": "stdout",
     "output_type": "stream",
     "text": [
      "Done.\n"
     ]
    },
    {
     "data": {
      "text/html": [
       "<table>\n",
       "    <thead>\n",
       "        <tr>\n",
       "            <th>bdate</th>\n",
       "            <th>address</th>\n",
       "        </tr>\n",
       "    </thead>\n",
       "    <tbody>\n",
       "        <tr>\n",
       "            <td>1965-01-09</td>\n",
       "            <td>731 Fondren,Houston,TX</td>\n",
       "        </tr>\n",
       "    </tbody>\n",
       "</table>"
      ],
      "text/plain": [
       "[('1965-01-09', '731 Fondren,Houston,TX')]"
      ]
     },
     "execution_count": 8,
     "metadata": {},
     "output_type": "execute_result"
    }
   ],
   "source": [
    "%%sql sqlite:///my_database.db\n",
    "SELECT Bdate, Address\n",
    "FROM EMPLOYEE\n",
    "WHERE Fname='John' AND Minit='B' AND Lname='Smith'"
   ]
  },
  {
   "cell_type": "code",
   "execution_count": 9,
   "id": "be8ede99-34f1-4522-8f10-df3704696e03",
   "metadata": {},
   "outputs": [
    {
     "name": "stdout",
     "output_type": "stream",
     "text": [
      "Query is stored at \u001b[1mJohnSmith_sql\u001b[0m variable.\n"
     ]
    },
    {
     "data": {
      "image/svg+xml": [
       "<?xml version=\"1.0\" encoding=\"UTF-8\" standalone=\"no\"?>\n",
       "<!DOCTYPE svg PUBLIC \"-//W3C//DTD SVG 1.1//EN\"\n",
       " \"http://www.w3.org/Graphics/SVG/1.1/DTD/svg11.dtd\">\n",
       "<!-- Generated by graphviz version 2.43.0 (0)\n",
       " -->\n",
       "<!-- Title: Concertina Pages: 1 -->\n",
       "<svg width=\"175pt\" height=\"116pt\"\n",
       " viewBox=\"0.00 0.00 175.29 116.00\" xmlns=\"http://www.w3.org/2000/svg\" xmlns:xlink=\"http://www.w3.org/1999/xlink\">\n",
       "<g id=\"graph0\" class=\"graph\" transform=\"scale(1 1) rotate(0) translate(4 112)\">\n",
       "<title>Concertina</title>\n",
       "<polygon fill=\"white\" stroke=\"transparent\" points=\"-4,4 -4,-112 171.29,-112 171.29,4 -4,4\"/>\n",
       "<!-- Employee -->\n",
       "<g id=\"node1\" class=\"node\">\n",
       "<title>Employee</title>\n",
       "<path fill=\"#b0e2ff\" stroke=\"#575757\" d=\"M127.14,-104.73C127.14,-106.53 107.65,-108 83.64,-108 59.64,-108 40.14,-106.53 40.14,-104.73 40.14,-104.73 40.14,-75.27 40.14,-75.27 40.14,-73.47 59.64,-72 83.64,-72 107.65,-72 127.14,-73.47 127.14,-75.27 127.14,-75.27 127.14,-104.73 127.14,-104.73\"/>\n",
       "<path fill=\"none\" stroke=\"#575757\" d=\"M127.14,-104.73C127.14,-102.92 107.65,-101.45 83.64,-101.45 59.64,-101.45 40.14,-102.92 40.14,-104.73\"/>\n",
       "<text text-anchor=\"middle\" x=\"83.64\" y=\"-86.3\" font-family=\"Times,serif\" font-size=\"14.00\">Employee</text>\n",
       "</g>\n",
       "<!-- JohnSmith -->\n",
       "<g id=\"node2\" class=\"node\">\n",
       "<title>JohnSmith</title>\n",
       "<path fill=\"#caff70\" stroke=\"#575757\" d=\"M71.91,-33.48C71.91,-33.48 11.59,-20.52 11.59,-20.52 5.72,-19.26 5.72,-16.74 11.59,-15.48 11.59,-15.48 71.91,-2.52 71.91,-2.52 77.78,-1.26 89.51,-1.26 95.38,-2.52 95.38,-2.52 155.7,-15.48 155.7,-15.48 161.56,-16.74 161.56,-19.26 155.7,-20.52 155.7,-20.52 95.38,-33.48 95.38,-33.48 89.51,-34.74 77.78,-34.74 71.91,-33.48\"/>\n",
       "<text text-anchor=\"middle\" x=\"83.64\" y=\"-14.3\" font-family=\"Times,serif\" font-size=\"14.00\">JohnSmith</text>\n",
       "</g>\n",
       "<!-- Employee&#45;&gt;JohnSmith -->\n",
       "<g id=\"edge1\" class=\"edge\">\n",
       "<title>Employee&#45;&gt;JohnSmith</title>\n",
       "<path fill=\"none\" stroke=\"black\" d=\"M83.64,-71.7C83.64,-63.98 83.64,-54.71 83.64,-46.11\"/>\n",
       "<polygon fill=\"black\" stroke=\"black\" points=\"87.14,-46.1 83.64,-36.1 80.14,-46.1 87.14,-46.1\"/>\n",
       "</g>\n",
       "</g>\n",
       "</svg>\n"
      ],
      "text/plain": [
       "<graphviz.graphs.Digraph at 0x7f1aa3510910>"
      ]
     },
     "metadata": {},
     "output_type": "display_data"
    },
    {
     "name": "stdout",
     "output_type": "stream",
     "text": [
      "Running predicate: JohnSmith (1 ms)\n",
      "The following table is stored at \u001b[1mJohnSmith\u001b[0m variable.\n"
     ]
    },
    {
     "data": {
      "text/html": [
       "<div>\n",
       "<style scoped>\n",
       "    .dataframe tbody tr th:only-of-type {\n",
       "        vertical-align: middle;\n",
       "    }\n",
       "\n",
       "    .dataframe tbody tr th {\n",
       "        vertical-align: top;\n",
       "    }\n",
       "\n",
       "    .dataframe thead th {\n",
       "        text-align: right;\n",
       "    }\n",
       "</style>\n",
       "<table border=\"1\" class=\"dataframe\">\n",
       "  <thead>\n",
       "    <tr style=\"text-align: right;\">\n",
       "      <th></th>\n",
       "      <th>bdate</th>\n",
       "      <th>address</th>\n",
       "    </tr>\n",
       "  </thead>\n",
       "  <tbody>\n",
       "    <tr>\n",
       "      <th>0</th>\n",
       "      <td>1965-01-09</td>\n",
       "      <td>731 Fondren,Houston,TX</td>\n",
       "    </tr>\n",
       "  </tbody>\n",
       "</table>\n",
       "</div>"
      ],
      "text/plain": [
       "        bdate                 address\n",
       "0  1965-01-09  731 Fondren,Houston,TX"
      ]
     },
     "metadata": {},
     "output_type": "display_data"
    },
    {
     "name": "stdout",
     "output_type": "stream",
     "text": [
      " \n"
     ]
    }
   ],
   "source": [
    "%%logica JohnSmith\n",
    "\n",
    "JohnSmith(bdate:, address:) :- \n",
    "    Employee(bdate:, address:, fname:\"John\", minit:\"B\", lname:\"Smith\");"
   ]
  },
  {
   "cell_type": "markdown",
   "id": "962d3f77-b3fe-47f1-b11a-0c90f269297e",
   "metadata": {},
   "source": [
    "#### Query 1: Retrieve the name and address of all employees who work for the 'Research' department. "
   ]
  },
  {
   "cell_type": "markdown",
   "id": "87c18b8a",
   "metadata": {},
   "source": [
    "$\\mathrm{\\Pi_{Fname, Lname, Address}(\\sigma_{Dname='Research'}(DEPARTMENT\\bowtie_{Dnumber=Dno}(EMPLOYEE))}$"
   ]
  },
  {
   "cell_type": "code",
   "execution_count": 10,
   "id": "92b9b590",
   "metadata": {},
   "outputs": [
    {
     "name": "stdout",
     "output_type": "stream",
     "text": [
      "Done.\n"
     ]
    },
    {
     "data": {
      "text/html": [
       "<table>\n",
       "    <thead>\n",
       "        <tr>\n",
       "            <th>fname</th>\n",
       "            <th>lname</th>\n",
       "            <th>address</th>\n",
       "        </tr>\n",
       "    </thead>\n",
       "    <tbody>\n",
       "        <tr>\n",
       "            <td>Franklin</td>\n",
       "            <td>Wong</td>\n",
       "            <td>638 Voss,Houston,TX</td>\n",
       "        </tr>\n",
       "        <tr>\n",
       "            <td>John</td>\n",
       "            <td>Smith</td>\n",
       "            <td>731 Fondren,Houston,TX</td>\n",
       "        </tr>\n",
       "        <tr>\n",
       "            <td>Joyce</td>\n",
       "            <td>English</td>\n",
       "            <td>5631 Rice,Houston,TX</td>\n",
       "        </tr>\n",
       "        <tr>\n",
       "            <td>Ramesh</td>\n",
       "            <td>Narayan</td>\n",
       "            <td>975 Fire Oak,Humble,TX</td>\n",
       "        </tr>\n",
       "    </tbody>\n",
       "</table>"
      ],
      "text/plain": [
       "[('Franklin', 'Wong', '638 Voss,Houston,TX'),\n",
       " ('John', 'Smith', '731 Fondren,Houston,TX'),\n",
       " ('Joyce', 'English', '5631 Rice,Houston,TX'),\n",
       " ('Ramesh', 'Narayan', '975 Fire Oak,Humble,TX')]"
      ]
     },
     "execution_count": 10,
     "metadata": {},
     "output_type": "execute_result"
    }
   ],
   "source": [
    "%%sql sqlite:///my_database.db\n",
    "SELECT Fname,Lname,Address\n",
    "FROM EMPLOYEE,DEPARTMENT\n",
    "WHERE Dname='Research' AND Dnumber=Dno;"
   ]
  },
  {
   "cell_type": "code",
   "execution_count": 11,
   "id": "afb740b8-ef07-4dce-9df5-d6ac21597d9d",
   "metadata": {},
   "outputs": [
    {
     "name": "stdout",
     "output_type": "stream",
     "text": [
      "Query is stored at \u001b[1mResearchDep_sql\u001b[0m variable.\n"
     ]
    },
    {
     "data": {
      "image/svg+xml": [
       "<?xml version=\"1.0\" encoding=\"UTF-8\" standalone=\"no\"?>\n",
       "<!DOCTYPE svg PUBLIC \"-//W3C//DTD SVG 1.1//EN\"\n",
       " \"http://www.w3.org/Graphics/SVG/1.1/DTD/svg11.dtd\">\n",
       "<!-- Generated by graphviz version 2.43.0 (0)\n",
       " -->\n",
       "<!-- Title: Concertina Pages: 1 -->\n",
       "<svg width=\"218pt\" height=\"116pt\"\n",
       " viewBox=\"0.00 0.00 217.53 116.00\" xmlns=\"http://www.w3.org/2000/svg\" xmlns:xlink=\"http://www.w3.org/1999/xlink\">\n",
       "<g id=\"graph0\" class=\"graph\" transform=\"scale(1 1) rotate(0) translate(4 112)\">\n",
       "<title>Concertina</title>\n",
       "<polygon fill=\"white\" stroke=\"transparent\" points=\"-4,4 -4,-112 213.53,-112 213.53,4 -4,4\"/>\n",
       "<!-- Department -->\n",
       "<g id=\"node1\" class=\"node\">\n",
       "<title>Department</title>\n",
       "<path fill=\"#b0e2ff\" stroke=\"#575757\" d=\"M103,-104.73C103,-106.53 79.92,-108 51.5,-108 23.08,-108 0,-106.53 0,-104.73 0,-104.73 0,-75.27 0,-75.27 0,-73.47 23.08,-72 51.5,-72 79.92,-72 103,-73.47 103,-75.27 103,-75.27 103,-104.73 103,-104.73\"/>\n",
       "<path fill=\"none\" stroke=\"#575757\" d=\"M103,-104.73C103,-102.92 79.92,-101.45 51.5,-101.45 23.08,-101.45 0,-102.92 0,-104.73\"/>\n",
       "<text text-anchor=\"middle\" x=\"51.5\" y=\"-86.3\" font-family=\"Times,serif\" font-size=\"14.00\">Department</text>\n",
       "</g>\n",
       "<!-- ResearchDep -->\n",
       "<g id=\"node2\" class=\"node\">\n",
       "<title>ResearchDep</title>\n",
       "<path fill=\"#caff70\" stroke=\"#575757\" d=\"M95.68,-33.92C95.68,-33.92 17.26,-20.08 17.26,-20.08 11.36,-19.04 11.36,-16.96 17.26,-15.92 17.26,-15.92 95.68,-2.08 95.68,-2.08 101.59,-1.04 113.41,-1.04 119.32,-2.08 119.32,-2.08 197.74,-15.92 197.74,-15.92 203.64,-16.96 203.64,-19.04 197.74,-20.08 197.74,-20.08 119.32,-33.92 119.32,-33.92 113.41,-34.96 101.59,-34.96 95.68,-33.92\"/>\n",
       "<text text-anchor=\"middle\" x=\"107.5\" y=\"-14.3\" font-family=\"Times,serif\" font-size=\"14.00\">ResearchDep</text>\n",
       "</g>\n",
       "<!-- Department&#45;&gt;ResearchDep -->\n",
       "<g id=\"edge1\" class=\"edge\">\n",
       "<title>Department&#45;&gt;ResearchDep</title>\n",
       "<path fill=\"none\" stroke=\"black\" d=\"M65.34,-71.7C72.46,-62.8 81.23,-51.84 88.92,-42.22\"/>\n",
       "<polygon fill=\"black\" stroke=\"black\" points=\"91.82,-44.2 95.34,-34.2 86.36,-39.82 91.82,-44.2\"/>\n",
       "</g>\n",
       "<!-- Employee -->\n",
       "<g id=\"node3\" class=\"node\">\n",
       "<title>Employee</title>\n",
       "<path fill=\"#b0e2ff\" stroke=\"#575757\" d=\"M208,-104.73C208,-106.53 188.5,-108 164.5,-108 140.5,-108 121,-106.53 121,-104.73 121,-104.73 121,-75.27 121,-75.27 121,-73.47 140.5,-72 164.5,-72 188.5,-72 208,-73.47 208,-75.27 208,-75.27 208,-104.73 208,-104.73\"/>\n",
       "<path fill=\"none\" stroke=\"#575757\" d=\"M208,-104.73C208,-102.92 188.5,-101.45 164.5,-101.45 140.5,-101.45 121,-102.92 121,-104.73\"/>\n",
       "<text text-anchor=\"middle\" x=\"164.5\" y=\"-86.3\" font-family=\"Times,serif\" font-size=\"14.00\">Employee</text>\n",
       "</g>\n",
       "<!-- Employee&#45;&gt;ResearchDep -->\n",
       "<g id=\"edge2\" class=\"edge\">\n",
       "<title>Employee&#45;&gt;ResearchDep</title>\n",
       "<path fill=\"none\" stroke=\"black\" d=\"M150.41,-71.7C143.17,-62.8 134.24,-51.84 126.41,-42.22\"/>\n",
       "<polygon fill=\"black\" stroke=\"black\" points=\"128.91,-39.75 119.88,-34.2 123.48,-44.17 128.91,-39.75\"/>\n",
       "</g>\n",
       "</g>\n",
       "</svg>\n"
      ],
      "text/plain": [
       "<graphviz.graphs.Digraph at 0x7f1aa35b1460>"
      ]
     },
     "metadata": {},
     "output_type": "display_data"
    },
    {
     "name": "stdout",
     "output_type": "stream",
     "text": [
      "Running predicate: ResearchDep (1 ms)\n",
      "The following table is stored at \u001b[1mResearchDep\u001b[0m variable.\n"
     ]
    },
    {
     "data": {
      "text/html": [
       "<div>\n",
       "<style scoped>\n",
       "    .dataframe tbody tr th:only-of-type {\n",
       "        vertical-align: middle;\n",
       "    }\n",
       "\n",
       "    .dataframe tbody tr th {\n",
       "        vertical-align: top;\n",
       "    }\n",
       "\n",
       "    .dataframe thead th {\n",
       "        text-align: right;\n",
       "    }\n",
       "</style>\n",
       "<table border=\"1\" class=\"dataframe\">\n",
       "  <thead>\n",
       "    <tr style=\"text-align: right;\">\n",
       "      <th></th>\n",
       "      <th>fname</th>\n",
       "      <th>lname</th>\n",
       "      <th>address</th>\n",
       "    </tr>\n",
       "  </thead>\n",
       "  <tbody>\n",
       "    <tr>\n",
       "      <th>0</th>\n",
       "      <td>Franklin</td>\n",
       "      <td>Wong</td>\n",
       "      <td>638 Voss,Houston,TX</td>\n",
       "    </tr>\n",
       "    <tr>\n",
       "      <th>1</th>\n",
       "      <td>John</td>\n",
       "      <td>Smith</td>\n",
       "      <td>731 Fondren,Houston,TX</td>\n",
       "    </tr>\n",
       "    <tr>\n",
       "      <th>2</th>\n",
       "      <td>Joyce</td>\n",
       "      <td>English</td>\n",
       "      <td>5631 Rice,Houston,TX</td>\n",
       "    </tr>\n",
       "    <tr>\n",
       "      <th>3</th>\n",
       "      <td>Ramesh</td>\n",
       "      <td>Narayan</td>\n",
       "      <td>975 Fire Oak,Humble,TX</td>\n",
       "    </tr>\n",
       "  </tbody>\n",
       "</table>\n",
       "</div>"
      ],
      "text/plain": [
       "      fname    lname                 address\n",
       "0  Franklin     Wong     638 Voss,Houston,TX\n",
       "1      John    Smith  731 Fondren,Houston,TX\n",
       "2     Joyce  English    5631 Rice,Houston,TX\n",
       "3    Ramesh  Narayan  975 Fire Oak,Humble,TX"
      ]
     },
     "metadata": {},
     "output_type": "display_data"
    },
    {
     "name": "stdout",
     "output_type": "stream",
     "text": [
      " \n"
     ]
    }
   ],
   "source": [
    "%%logica ResearchDep\n",
    "\n",
    "ResearchDep(fname:, lname:, address:):- \n",
    "    Employee(fname:, lname:, address:, dno:), \n",
    "    Department(dname:\"Research\", dnumber:dno);"
   ]
  },
  {
   "cell_type": "markdown",
   "id": "81ccd6f9",
   "metadata": {},
   "source": [
    "#### Query 2: For every project located in 'Stafford', list the project number, the controlling department number, and the department manager's last name, address, and birth date. "
   ]
  },
  {
   "cell_type": "markdown",
   "id": "a2b6091f",
   "metadata": {},
   "source": [
    "$\\mathrm{\\Pi_{Pnumber,Dnum,Lname,Address,Bdate}(((\\sigma_{Plocation='Stafford'}(PROJECT))\n",
    "\\bowtie_{Dnum=Dnumber}(DEPARTMENT))\\bowtie_{Mgr\\_ssn=Ssn}(EMPLOYEE))}$"
   ]
  },
  {
   "cell_type": "code",
   "execution_count": 12,
   "id": "5e821d05",
   "metadata": {},
   "outputs": [
    {
     "name": "stdout",
     "output_type": "stream",
     "text": [
      "Done.\n"
     ]
    },
    {
     "data": {
      "text/html": [
       "<table>\n",
       "    <thead>\n",
       "        <tr>\n",
       "            <th>pnumber</th>\n",
       "            <th>dnum</th>\n",
       "            <th>lname</th>\n",
       "            <th>address</th>\n",
       "            <th>bdate</th>\n",
       "        </tr>\n",
       "    </thead>\n",
       "    <tbody>\n",
       "        <tr>\n",
       "            <td>10</td>\n",
       "            <td>4</td>\n",
       "            <td>Wallace</td>\n",
       "            <td>291 Berry,Bellaire,TX</td>\n",
       "            <td>1941-06-20</td>\n",
       "        </tr>\n",
       "        <tr>\n",
       "            <td>30</td>\n",
       "            <td>4</td>\n",
       "            <td>Wallace</td>\n",
       "            <td>291 Berry,Bellaire,TX</td>\n",
       "            <td>1941-06-20</td>\n",
       "        </tr>\n",
       "    </tbody>\n",
       "</table>"
      ],
      "text/plain": [
       "[(10, 4, 'Wallace', '291 Berry,Bellaire,TX', '1941-06-20'),\n",
       " (30, 4, 'Wallace', '291 Berry,Bellaire,TX', '1941-06-20')]"
      ]
     },
     "execution_count": 12,
     "metadata": {},
     "output_type": "execute_result"
    }
   ],
   "source": [
    "%%sql sqlite:///my_database.db\n",
    "Select Pnumber,Dnum,Lname,Address,Bdate\n",
    "From Project,Department,Employee\n",
    "Where Dnum=Dnumber And Mgr_ssn=Ssn And Plocation='Stafford'"
   ]
  },
  {
   "cell_type": "code",
   "execution_count": 13,
   "id": "5e668d16",
   "metadata": {},
   "outputs": [
    {
     "name": "stdout",
     "output_type": "stream",
     "text": [
      "Query is stored at \u001b[1mStaffordProj_sql\u001b[0m variable.\n"
     ]
    },
    {
     "data": {
      "image/svg+xml": [
       "<?xml version=\"1.0\" encoding=\"UTF-8\" standalone=\"no\"?>\n",
       "<!DOCTYPE svg PUBLIC \"-//W3C//DTD SVG 1.1//EN\"\n",
       " \"http://www.w3.org/Graphics/SVG/1.1/DTD/svg11.dtd\">\n",
       "<!-- Generated by graphviz version 2.43.0 (0)\n",
       " -->\n",
       "<!-- Title: Concertina Pages: 1 -->\n",
       "<svg width=\"303pt\" height=\"116pt\"\n",
       " viewBox=\"0.00 0.00 302.50 116.00\" xmlns=\"http://www.w3.org/2000/svg\" xmlns:xlink=\"http://www.w3.org/1999/xlink\">\n",
       "<g id=\"graph0\" class=\"graph\" transform=\"scale(1 1) rotate(0) translate(4 112)\">\n",
       "<title>Concertina</title>\n",
       "<polygon fill=\"white\" stroke=\"transparent\" points=\"-4,4 -4,-112 298.5,-112 298.5,4 -4,4\"/>\n",
       "<!-- Department -->\n",
       "<g id=\"node1\" class=\"node\">\n",
       "<title>Department</title>\n",
       "<path fill=\"#b0e2ff\" stroke=\"#575757\" d=\"M103,-104.73C103,-106.53 79.92,-108 51.5,-108 23.08,-108 0,-106.53 0,-104.73 0,-104.73 0,-75.27 0,-75.27 0,-73.47 23.08,-72 51.5,-72 79.92,-72 103,-73.47 103,-75.27 103,-75.27 103,-104.73 103,-104.73\"/>\n",
       "<path fill=\"none\" stroke=\"#575757\" d=\"M103,-104.73C103,-102.92 79.92,-101.45 51.5,-101.45 23.08,-101.45 0,-102.92 0,-104.73\"/>\n",
       "<text text-anchor=\"middle\" x=\"51.5\" y=\"-86.3\" font-family=\"Times,serif\" font-size=\"14.00\">Department</text>\n",
       "</g>\n",
       "<!-- StaffordProj -->\n",
       "<g id=\"node2\" class=\"node\">\n",
       "<title>StaffordProj</title>\n",
       "<path fill=\"#caff70\" stroke=\"#575757\" d=\"M152.71,-33.78C152.71,-33.78 80.61,-20.22 80.61,-20.22 74.71,-19.11 74.71,-16.89 80.61,-15.78 80.61,-15.78 152.71,-2.22 152.71,-2.22 158.6,-1.11 170.4,-1.11 176.29,-2.22 176.29,-2.22 248.39,-15.78 248.39,-15.78 254.29,-16.89 254.29,-19.11 248.39,-20.22 248.39,-20.22 176.29,-33.78 176.29,-33.78 170.4,-34.89 158.6,-34.89 152.71,-33.78\"/>\n",
       "<text text-anchor=\"middle\" x=\"164.5\" y=\"-14.3\" font-family=\"Times,serif\" font-size=\"14.00\">StaffordProj</text>\n",
       "</g>\n",
       "<!-- Department&#45;&gt;StaffordProj -->\n",
       "<g id=\"edge1\" class=\"edge\">\n",
       "<title>Department&#45;&gt;StaffordProj</title>\n",
       "<path fill=\"none\" stroke=\"black\" d=\"M79.14,-71.88C95.95,-61.47 117.4,-48.17 134.6,-37.52\"/>\n",
       "<polygon fill=\"black\" stroke=\"black\" points=\"136.5,-40.46 143.16,-32.22 132.82,-34.51 136.5,-40.46\"/>\n",
       "</g>\n",
       "<!-- Employee -->\n",
       "<g id=\"node3\" class=\"node\">\n",
       "<title>Employee</title>\n",
       "<path fill=\"#b0e2ff\" stroke=\"#575757\" d=\"M208,-104.73C208,-106.53 188.5,-108 164.5,-108 140.5,-108 121,-106.53 121,-104.73 121,-104.73 121,-75.27 121,-75.27 121,-73.47 140.5,-72 164.5,-72 188.5,-72 208,-73.47 208,-75.27 208,-75.27 208,-104.73 208,-104.73\"/>\n",
       "<path fill=\"none\" stroke=\"#575757\" d=\"M208,-104.73C208,-102.92 188.5,-101.45 164.5,-101.45 140.5,-101.45 121,-102.92 121,-104.73\"/>\n",
       "<text text-anchor=\"middle\" x=\"164.5\" y=\"-86.3\" font-family=\"Times,serif\" font-size=\"14.00\">Employee</text>\n",
       "</g>\n",
       "<!-- Employee&#45;&gt;StaffordProj -->\n",
       "<g id=\"edge2\" class=\"edge\">\n",
       "<title>Employee&#45;&gt;StaffordProj</title>\n",
       "<path fill=\"none\" stroke=\"black\" d=\"M164.5,-71.7C164.5,-63.98 164.5,-54.71 164.5,-46.11\"/>\n",
       "<polygon fill=\"black\" stroke=\"black\" points=\"168,-46.1 164.5,-36.1 161,-46.1 168,-46.1\"/>\n",
       "</g>\n",
       "<!-- Project -->\n",
       "<g id=\"node4\" class=\"node\">\n",
       "<title>Project</title>\n",
       "<path fill=\"#b0e2ff\" stroke=\"#575757\" d=\"M294.5,-104.73C294.5,-106.53 279.26,-108 260.5,-108 241.74,-108 226.5,-106.53 226.5,-104.73 226.5,-104.73 226.5,-75.27 226.5,-75.27 226.5,-73.47 241.74,-72 260.5,-72 279.26,-72 294.5,-73.47 294.5,-75.27 294.5,-75.27 294.5,-104.73 294.5,-104.73\"/>\n",
       "<path fill=\"none\" stroke=\"#575757\" d=\"M294.5,-104.73C294.5,-102.92 279.26,-101.45 260.5,-101.45 241.74,-101.45 226.5,-102.92 226.5,-104.73\"/>\n",
       "<text text-anchor=\"middle\" x=\"260.5\" y=\"-86.3\" font-family=\"Times,serif\" font-size=\"14.00\">Project</text>\n",
       "</g>\n",
       "<!-- Project&#45;&gt;StaffordProj -->\n",
       "<g id=\"edge3\" class=\"edge\">\n",
       "<title>Project&#45;&gt;StaffordProj</title>\n",
       "<path fill=\"none\" stroke=\"black\" d=\"M237.26,-72.05C223.57,-62.07 206.17,-49.38 191.82,-38.92\"/>\n",
       "<polygon fill=\"black\" stroke=\"black\" points=\"193.48,-35.8 183.34,-32.74 189.36,-41.46 193.48,-35.8\"/>\n",
       "</g>\n",
       "</g>\n",
       "</svg>\n"
      ],
      "text/plain": [
       "<graphviz.graphs.Digraph at 0x7f1aa34616d0>"
      ]
     },
     "metadata": {},
     "output_type": "display_data"
    },
    {
     "name": "stdout",
     "output_type": "stream",
     "text": [
      "Running predicate: StaffordProj (1 ms)\n",
      "The following table is stored at \u001b[1mStaffordProj\u001b[0m variable.\n"
     ]
    },
    {
     "data": {
      "text/html": [
       "<div>\n",
       "<style scoped>\n",
       "    .dataframe tbody tr th:only-of-type {\n",
       "        vertical-align: middle;\n",
       "    }\n",
       "\n",
       "    .dataframe tbody tr th {\n",
       "        vertical-align: top;\n",
       "    }\n",
       "\n",
       "    .dataframe thead th {\n",
       "        text-align: right;\n",
       "    }\n",
       "</style>\n",
       "<table border=\"1\" class=\"dataframe\">\n",
       "  <thead>\n",
       "    <tr style=\"text-align: right;\">\n",
       "      <th></th>\n",
       "      <th>pnumber</th>\n",
       "      <th>dnum</th>\n",
       "      <th>lname</th>\n",
       "      <th>address</th>\n",
       "      <th>bdate</th>\n",
       "    </tr>\n",
       "  </thead>\n",
       "  <tbody>\n",
       "    <tr>\n",
       "      <th>0</th>\n",
       "      <td>10</td>\n",
       "      <td>4</td>\n",
       "      <td>Wallace</td>\n",
       "      <td>291 Berry,Bellaire,TX</td>\n",
       "      <td>1941-06-20</td>\n",
       "    </tr>\n",
       "    <tr>\n",
       "      <th>1</th>\n",
       "      <td>30</td>\n",
       "      <td>4</td>\n",
       "      <td>Wallace</td>\n",
       "      <td>291 Berry,Bellaire,TX</td>\n",
       "      <td>1941-06-20</td>\n",
       "    </tr>\n",
       "  </tbody>\n",
       "</table>\n",
       "</div>"
      ],
      "text/plain": [
       "   pnumber  dnum    lname                address       bdate\n",
       "0       10     4  Wallace  291 Berry,Bellaire,TX  1941-06-20\n",
       "1       30     4  Wallace  291 Berry,Bellaire,TX  1941-06-20"
      ]
     },
     "metadata": {},
     "output_type": "display_data"
    },
    {
     "name": "stdout",
     "output_type": "stream",
     "text": [
      " \n"
     ]
    }
   ],
   "source": [
    "%%logica StaffordProj\n",
    "\n",
    "StaffordProj(pnumber:, dnum:, lname:, address:, bdate:):-\n",
    "    Project(pnumber:, dnum:, plocation:\"Stafford\"), \n",
    "    Department(dnumber:dnum, mgr_ssn:),\n",
    "    Employee(lname:, address:, ssn:mgr_ssn, bdate:);"
   ]
  },
  {
   "cell_type": "markdown",
   "id": "0b106a70-83d7-4db1-803d-09b9c7d41b0e",
   "metadata": {},
   "source": [
    "#### Query 3: Who is the boss? The manager of the department that an employee works for!"
   ]
  },
  {
   "cell_type": "markdown",
   "id": "f808c240",
   "metadata": {},
   "source": [
    "$\\mathrm{\\Pi_{SSN, Lname, Address}(EMPLOYEE\\bowtie_{Super\\_Ssn=Ssn}(EMPLOYEE))}$"
   ]
  },
  {
   "cell_type": "code",
   "execution_count": 14,
   "id": "812a668c-47c2-44be-acf7-9a38c2abfd1a",
   "metadata": {},
   "outputs": [
    {
     "name": "stdout",
     "output_type": "stream",
     "text": [
      "Done.\n"
     ]
    },
    {
     "data": {
      "text/html": [
       "<table>\n",
       "    <thead>\n",
       "        <tr>\n",
       "            <th>Employee</th>\n",
       "            <th>Boss</th>\n",
       "        </tr>\n",
       "    </thead>\n",
       "    <tbody>\n",
       "        <tr>\n",
       "            <td>123456789</td>\n",
       "            <td>333445555</td>\n",
       "        </tr>\n",
       "        <tr>\n",
       "            <td>666884444</td>\n",
       "            <td>333445555</td>\n",
       "        </tr>\n",
       "        <tr>\n",
       "            <td>453453453</td>\n",
       "            <td>333445555</td>\n",
       "        </tr>\n",
       "        <tr>\n",
       "            <td>333445555</td>\n",
       "            <td>888665555</td>\n",
       "        </tr>\n",
       "        <tr>\n",
       "            <td>987654321</td>\n",
       "            <td>888665555</td>\n",
       "        </tr>\n",
       "        <tr>\n",
       "            <td>999887777</td>\n",
       "            <td>987654321</td>\n",
       "        </tr>\n",
       "        <tr>\n",
       "            <td>987987987</td>\n",
       "            <td>987654321</td>\n",
       "        </tr>\n",
       "    </tbody>\n",
       "</table>"
      ],
      "text/plain": [
       "[(123456789, 333445555),\n",
       " (666884444, 333445555),\n",
       " (453453453, 333445555),\n",
       " (333445555, 888665555),\n",
       " (987654321, 888665555),\n",
       " (999887777, 987654321),\n",
       " (987987987, 987654321)]"
      ]
     },
     "execution_count": 14,
     "metadata": {},
     "output_type": "execute_result"
    }
   ],
   "source": [
    "%%sql sqlite:///my_database.db\n",
    "\n",
    "SELECT E.SSN as 'Employee', \n",
    "       M.SSN as 'Boss'\n",
    "FROM   Employee E, \n",
    "       Employee M\n",
    "WHERE E.Super_SSN = M.SSN\n",
    "ORDER BY M.SSN;"
   ]
  },
  {
   "cell_type": "code",
   "execution_count": 15,
   "id": "ffd7ebc8-98c4-47f7-9e64-c8133c5e08ae",
   "metadata": {},
   "outputs": [
    {
     "name": "stdout",
     "output_type": "stream",
     "text": [
      "Query is stored at \u001b[1mEmpBoss_sql\u001b[0m variable.\n"
     ]
    },
    {
     "data": {
      "image/svg+xml": [
       "<?xml version=\"1.0\" encoding=\"UTF-8\" standalone=\"no\"?>\n",
       "<!DOCTYPE svg PUBLIC \"-//W3C//DTD SVG 1.1//EN\"\n",
       " \"http://www.w3.org/Graphics/SVG/1.1/DTD/svg11.dtd\">\n",
       "<!-- Generated by graphviz version 2.43.0 (0)\n",
       " -->\n",
       "<!-- Title: Concertina Pages: 1 -->\n",
       "<svg width=\"161pt\" height=\"116pt\"\n",
       " viewBox=\"0.00 0.00 160.58 116.00\" xmlns=\"http://www.w3.org/2000/svg\" xmlns:xlink=\"http://www.w3.org/1999/xlink\">\n",
       "<g id=\"graph0\" class=\"graph\" transform=\"scale(1 1) rotate(0) translate(4 112)\">\n",
       "<title>Concertina</title>\n",
       "<polygon fill=\"white\" stroke=\"transparent\" points=\"-4,4 -4,-112 156.58,-112 156.58,4 -4,4\"/>\n",
       "<!-- EmpBoss -->\n",
       "<g id=\"node1\" class=\"node\">\n",
       "<title>EmpBoss</title>\n",
       "<path fill=\"#caff70\" stroke=\"#575757\" d=\"M64.61,-33.24C64.61,-33.24 11.89,-20.76 11.89,-20.76 6.05,-19.38 6.05,-16.62 11.89,-15.24 11.89,-15.24 64.61,-2.76 64.61,-2.76 70.45,-1.38 82.13,-1.38 87.97,-2.76 87.97,-2.76 140.69,-15.24 140.69,-15.24 146.53,-16.62 146.53,-19.38 140.69,-20.76 140.69,-20.76 87.97,-33.24 87.97,-33.24 82.13,-34.62 70.45,-34.62 64.61,-33.24\"/>\n",
       "<text text-anchor=\"middle\" x=\"76.29\" y=\"-14.3\" font-family=\"Times,serif\" font-size=\"14.00\">EmpBoss</text>\n",
       "</g>\n",
       "<!-- Employee -->\n",
       "<g id=\"node2\" class=\"node\">\n",
       "<title>Employee</title>\n",
       "<path fill=\"#b0e2ff\" stroke=\"#575757\" d=\"M119.79,-104.73C119.79,-106.53 100.29,-108 76.29,-108 52.29,-108 32.79,-106.53 32.79,-104.73 32.79,-104.73 32.79,-75.27 32.79,-75.27 32.79,-73.47 52.29,-72 76.29,-72 100.29,-72 119.79,-73.47 119.79,-75.27 119.79,-75.27 119.79,-104.73 119.79,-104.73\"/>\n",
       "<path fill=\"none\" stroke=\"#575757\" d=\"M119.79,-104.73C119.79,-102.92 100.29,-101.45 76.29,-101.45 52.29,-101.45 32.79,-102.92 32.79,-104.73\"/>\n",
       "<text text-anchor=\"middle\" x=\"76.29\" y=\"-86.3\" font-family=\"Times,serif\" font-size=\"14.00\">Employee</text>\n",
       "</g>\n",
       "<!-- Employee&#45;&gt;EmpBoss -->\n",
       "<g id=\"edge1\" class=\"edge\">\n",
       "<title>Employee&#45;&gt;EmpBoss</title>\n",
       "<path fill=\"none\" stroke=\"black\" d=\"M76.29,-71.7C76.29,-63.98 76.29,-54.71 76.29,-46.11\"/>\n",
       "<polygon fill=\"black\" stroke=\"black\" points=\"79.79,-46.1 76.29,-36.1 72.79,-46.1 79.79,-46.1\"/>\n",
       "</g>\n",
       "</g>\n",
       "</svg>\n"
      ],
      "text/plain": [
       "<graphviz.graphs.Digraph at 0x7f1aa349cc10>"
      ]
     },
     "metadata": {},
     "output_type": "display_data"
    },
    {
     "name": "stdout",
     "output_type": "stream",
     "text": [
      "Running predicate: EmpBoss (1 ms)\n",
      "The following table is stored at \u001b[1mEmpBoss\u001b[0m variable.\n"
     ]
    },
    {
     "data": {
      "text/html": [
       "<div>\n",
       "<style scoped>\n",
       "    .dataframe tbody tr th:only-of-type {\n",
       "        vertical-align: middle;\n",
       "    }\n",
       "\n",
       "    .dataframe tbody tr th {\n",
       "        vertical-align: top;\n",
       "    }\n",
       "\n",
       "    .dataframe thead th {\n",
       "        text-align: right;\n",
       "    }\n",
       "</style>\n",
       "<table border=\"1\" class=\"dataframe\">\n",
       "  <thead>\n",
       "    <tr style=\"text-align: right;\">\n",
       "      <th></th>\n",
       "      <th>employee</th>\n",
       "      <th>boss</th>\n",
       "    </tr>\n",
       "  </thead>\n",
       "  <tbody>\n",
       "    <tr>\n",
       "      <th>0</th>\n",
       "      <td>123456789</td>\n",
       "      <td>333445555</td>\n",
       "    </tr>\n",
       "    <tr>\n",
       "      <th>1</th>\n",
       "      <td>333445555</td>\n",
       "      <td>888665555</td>\n",
       "    </tr>\n",
       "    <tr>\n",
       "      <th>2</th>\n",
       "      <td>999887777</td>\n",
       "      <td>987654321</td>\n",
       "    </tr>\n",
       "    <tr>\n",
       "      <th>3</th>\n",
       "      <td>987654321</td>\n",
       "      <td>888665555</td>\n",
       "    </tr>\n",
       "    <tr>\n",
       "      <th>4</th>\n",
       "      <td>666884444</td>\n",
       "      <td>333445555</td>\n",
       "    </tr>\n",
       "    <tr>\n",
       "      <th>5</th>\n",
       "      <td>453453453</td>\n",
       "      <td>333445555</td>\n",
       "    </tr>\n",
       "    <tr>\n",
       "      <th>6</th>\n",
       "      <td>987987987</td>\n",
       "      <td>987654321</td>\n",
       "    </tr>\n",
       "  </tbody>\n",
       "</table>\n",
       "</div>"
      ],
      "text/plain": [
       "    employee       boss\n",
       "0  123456789  333445555\n",
       "1  333445555  888665555\n",
       "2  999887777  987654321\n",
       "3  987654321  888665555\n",
       "4  666884444  333445555\n",
       "5  453453453  333445555\n",
       "6  987987987  987654321"
      ]
     },
     "metadata": {},
     "output_type": "display_data"
    },
    {
     "name": "stdout",
     "output_type": "stream",
     "text": [
      " \n"
     ]
    }
   ],
   "source": [
    "%%logica EmpBoss\n",
    "\n",
    "EmpBoss(employee:ssn,boss:super_ssn):- \n",
    "    Employee(ssn:, super_ssn:),Employee(ssn:super_ssn);"
   ]
  },
  {
   "cell_type": "markdown",
   "id": "00ca3ef2",
   "metadata": {},
   "source": [
    "#### Query 4: Make a list of all project numbers for projects that involve an employee whose last name is ‘Smith’, either as a worker or as a manager of the department that controls the project."
   ]
  },
  {
   "cell_type": "markdown",
   "id": "db0c3d5d",
   "metadata": {},
   "source": [
    "$\\mathrm{SMITHS(Essn) \\leftarrow \\pi_{Ssn}(\\sigma_{Lname='Smith'}(EMPLOYEE))}$\n",
    "\n",
    "$\\mathrm{SMITH\\_WORKER\\_PROJS \\leftarrow \\pi_{Pno}(WORKS\\_ON) \\ast SMITHS}$\n",
    "\n",
    "$\\mathrm{MGRS \\leftarrow \\pi_{Lname,Dnumber}(EMPLOYEE \\bowtie_{Ssn=Mgr\\_ssn}DEPARTMENT)}$\n",
    "\n",
    "$\\mathrm{SMITH\\_MANAGED\\_DEPTS(Dnum) \\leftarrow \\pi_{Dnumber}(\\sigma_{Lname='Smith'}(MGRS))}$\n",
    "\n",
    "$\\mathrm{SMITH\\_MANAGED\\_PROJS(Pno) \\leftarrow \\pi_{Pnumber}(SMITH\\_MANAGED\\_DEPTS * PROJECT)}$\n",
    "\n",
    "$\\mathrm{RESULT \\leftarrow (SMITH\\_WORKER\\_PROJS \\cup SMITH\\_MANAGED\\_PROJS)}$"
   ]
  },
  {
   "cell_type": "code",
   "execution_count": 16,
   "id": "1821a67c",
   "metadata": {},
   "outputs": [
    {
     "name": "stdout",
     "output_type": "stream",
     "text": [
      "Done.\n"
     ]
    },
    {
     "data": {
      "text/html": [
       "<table>\n",
       "    <thead>\n",
       "        <tr>\n",
       "            <th>pnumber</th>\n",
       "        </tr>\n",
       "    </thead>\n",
       "    <tbody>\n",
       "        <tr>\n",
       "            <td>1</td>\n",
       "        </tr>\n",
       "        <tr>\n",
       "            <td>2</td>\n",
       "        </tr>\n",
       "    </tbody>\n",
       "</table>"
      ],
      "text/plain": [
       "[(1,), (2,)]"
      ]
     },
     "execution_count": 16,
     "metadata": {},
     "output_type": "execute_result"
    }
   ],
   "source": [
    "%%sql sqlite:///my_database.db\n",
    "\n",
    "SELECT DISTINCT P.Pnumber\n",
    "FROM Project AS P\n",
    "JOIN Department AS D ON P.Dnum = D.Dnumber\n",
    "JOIN Employee AS E ON D.Mgr_ssn = E.ssn\n",
    "WHERE E.Lname = 'Smith'\n",
    "\n",
    "UNION\n",
    "\n",
    "SELECT DISTINCT P.Pnumber\n",
    "FROM Project AS P\n",
    "JOIN Works_on AS W ON P.Pnumber = W.Pno\n",
    "JOIN Employee AS E ON W.Essn = E.Ssn\n",
    "WHERE E.Lname = 'Smith'"
   ]
  },
  {
   "cell_type": "code",
   "execution_count": 17,
   "id": "8b604956-754a-4d2f-b343-c950c13cc781",
   "metadata": {},
   "outputs": [
    {
     "name": "stdout",
     "output_type": "stream",
     "text": [
      "Query is stored at \u001b[1mSmithProj_sql\u001b[0m variable.\n"
     ]
    },
    {
     "data": {
      "image/svg+xml": [
       "<?xml version=\"1.0\" encoding=\"UTF-8\" standalone=\"no\"?>\n",
       "<!DOCTYPE svg PUBLIC \"-//W3C//DTD SVG 1.1//EN\"\n",
       " \"http://www.w3.org/Graphics/SVG/1.1/DTD/svg11.dtd\">\n",
       "<!-- Generated by graphviz version 2.43.0 (0)\n",
       " -->\n",
       "<!-- Title: Concertina Pages: 1 -->\n",
       "<svg width=\"409pt\" height=\"116pt\"\n",
       " viewBox=\"0.00 0.00 408.50 116.00\" xmlns=\"http://www.w3.org/2000/svg\" xmlns:xlink=\"http://www.w3.org/1999/xlink\">\n",
       "<g id=\"graph0\" class=\"graph\" transform=\"scale(1 1) rotate(0) translate(4 112)\">\n",
       "<title>Concertina</title>\n",
       "<polygon fill=\"white\" stroke=\"transparent\" points=\"-4,4 -4,-112 404.5,-112 404.5,4 -4,4\"/>\n",
       "<!-- Department -->\n",
       "<g id=\"node1\" class=\"node\">\n",
       "<title>Department</title>\n",
       "<path fill=\"#b0e2ff\" stroke=\"#575757\" d=\"M103,-104.73C103,-106.53 79.92,-108 51.5,-108 23.08,-108 0,-106.53 0,-104.73 0,-104.73 0,-75.27 0,-75.27 0,-73.47 23.08,-72 51.5,-72 79.92,-72 103,-73.47 103,-75.27 103,-75.27 103,-104.73 103,-104.73\"/>\n",
       "<path fill=\"none\" stroke=\"#575757\" d=\"M103,-104.73C103,-102.92 79.92,-101.45 51.5,-101.45 23.08,-101.45 0,-102.92 0,-104.73\"/>\n",
       "<text text-anchor=\"middle\" x=\"51.5\" y=\"-86.3\" font-family=\"Times,serif\" font-size=\"14.00\">Department</text>\n",
       "</g>\n",
       "<!-- SmithProj -->\n",
       "<g id=\"node4\" class=\"node\">\n",
       "<title>SmithProj</title>\n",
       "<path fill=\"#caff70\" stroke=\"#575757\" d=\"M200.78,-33.42C200.78,-33.42 142.61,-20.58 142.61,-20.58 136.75,-19.29 136.75,-16.71 142.61,-15.42 142.61,-15.42 200.78,-2.58 200.78,-2.58 206.64,-1.29 218.36,-1.29 224.22,-2.58 224.22,-2.58 282.39,-15.42 282.39,-15.42 288.25,-16.71 288.25,-19.29 282.39,-20.58 282.39,-20.58 224.22,-33.42 224.22,-33.42 218.36,-34.71 206.64,-34.71 200.78,-33.42\"/>\n",
       "<text text-anchor=\"middle\" x=\"212.5\" y=\"-14.3\" font-family=\"Times,serif\" font-size=\"14.00\">SmithProj</text>\n",
       "</g>\n",
       "<!-- Department&#45;&gt;SmithProj -->\n",
       "<g id=\"edge1\" class=\"edge\">\n",
       "<title>Department&#45;&gt;SmithProj</title>\n",
       "<path fill=\"none\" stroke=\"black\" d=\"M89.25,-72.59C115.78,-61.05 151.05,-45.72 177.06,-34.41\"/>\n",
       "<polygon fill=\"black\" stroke=\"black\" points=\"178.77,-37.48 186.54,-30.29 175.98,-31.06 178.77,-37.48\"/>\n",
       "</g>\n",
       "<!-- Employee -->\n",
       "<g id=\"node2\" class=\"node\">\n",
       "<title>Employee</title>\n",
       "<path fill=\"#b0e2ff\" stroke=\"#575757\" d=\"M208,-104.73C208,-106.53 188.5,-108 164.5,-108 140.5,-108 121,-106.53 121,-104.73 121,-104.73 121,-75.27 121,-75.27 121,-73.47 140.5,-72 164.5,-72 188.5,-72 208,-73.47 208,-75.27 208,-75.27 208,-104.73 208,-104.73\"/>\n",
       "<path fill=\"none\" stroke=\"#575757\" d=\"M208,-104.73C208,-102.92 188.5,-101.45 164.5,-101.45 140.5,-101.45 121,-102.92 121,-104.73\"/>\n",
       "<text text-anchor=\"middle\" x=\"164.5\" y=\"-86.3\" font-family=\"Times,serif\" font-size=\"14.00\">Employee</text>\n",
       "</g>\n",
       "<!-- Employee&#45;&gt;SmithProj -->\n",
       "<g id=\"edge3\" class=\"edge\">\n",
       "<title>Employee&#45;&gt;SmithProj</title>\n",
       "<path fill=\"none\" stroke=\"black\" d=\"M176.37,-71.7C182.4,-62.89 189.83,-52.06 196.38,-42.52\"/>\n",
       "<polygon fill=\"black\" stroke=\"black\" points=\"199.31,-44.43 202.08,-34.2 193.53,-40.47 199.31,-44.43\"/>\n",
       "</g>\n",
       "<!-- Project -->\n",
       "<g id=\"node3\" class=\"node\">\n",
       "<title>Project</title>\n",
       "<path fill=\"#b0e2ff\" stroke=\"#575757\" d=\"M294.5,-104.73C294.5,-106.53 279.26,-108 260.5,-108 241.74,-108 226.5,-106.53 226.5,-104.73 226.5,-104.73 226.5,-75.27 226.5,-75.27 226.5,-73.47 241.74,-72 260.5,-72 279.26,-72 294.5,-73.47 294.5,-75.27 294.5,-75.27 294.5,-104.73 294.5,-104.73\"/>\n",
       "<path fill=\"none\" stroke=\"#575757\" d=\"M294.5,-104.73C294.5,-102.92 279.26,-101.45 260.5,-101.45 241.74,-101.45 226.5,-102.92 226.5,-104.73\"/>\n",
       "<text text-anchor=\"middle\" x=\"260.5\" y=\"-86.3\" font-family=\"Times,serif\" font-size=\"14.00\">Project</text>\n",
       "</g>\n",
       "<!-- Project&#45;&gt;SmithProj -->\n",
       "<g id=\"edge4\" class=\"edge\">\n",
       "<title>Project&#45;&gt;SmithProj</title>\n",
       "<path fill=\"none\" stroke=\"black\" d=\"M248.63,-71.7C242.6,-62.89 235.17,-52.06 228.62,-42.52\"/>\n",
       "<polygon fill=\"black\" stroke=\"black\" points=\"231.47,-40.47 222.92,-34.2 225.69,-44.43 231.47,-40.47\"/>\n",
       "</g>\n",
       "<!-- Works_On -->\n",
       "<g id=\"node5\" class=\"node\">\n",
       "<title>Works_On</title>\n",
       "<path fill=\"#b0e2ff\" stroke=\"#575757\" d=\"M400.5,-104.73C400.5,-106.53 380.78,-108 356.5,-108 332.22,-108 312.5,-106.53 312.5,-104.73 312.5,-104.73 312.5,-75.27 312.5,-75.27 312.5,-73.47 332.22,-72 356.5,-72 380.78,-72 400.5,-73.47 400.5,-75.27 400.5,-75.27 400.5,-104.73 400.5,-104.73\"/>\n",
       "<path fill=\"none\" stroke=\"#575757\" d=\"M400.5,-104.73C400.5,-102.92 380.78,-101.45 356.5,-101.45 332.22,-101.45 312.5,-102.92 312.5,-104.73\"/>\n",
       "<text text-anchor=\"middle\" x=\"356.5\" y=\"-86.3\" font-family=\"Times,serif\" font-size=\"14.00\">Works_On</text>\n",
       "</g>\n",
       "<!-- Works_On&#45;&gt;SmithProj -->\n",
       "<g id=\"edge2\" class=\"edge\">\n",
       "<title>Works_On&#45;&gt;SmithProj</title>\n",
       "<path fill=\"none\" stroke=\"black\" d=\"M322.74,-72.59C299.5,-61.29 268.79,-46.36 245.68,-35.13\"/>\n",
       "<polygon fill=\"black\" stroke=\"black\" points=\"247.12,-31.94 236.6,-30.72 244.06,-38.24 247.12,-31.94\"/>\n",
       "</g>\n",
       "</g>\n",
       "</svg>\n"
      ],
      "text/plain": [
       "<graphviz.graphs.Digraph at 0x7f1aa3593370>"
      ]
     },
     "metadata": {},
     "output_type": "display_data"
    },
    {
     "name": "stdout",
     "output_type": "stream",
     "text": [
      "Running predicate: SmithProj (1 ms)\n",
      "The following table is stored at \u001b[1mSmithProj\u001b[0m variable.\n"
     ]
    },
    {
     "data": {
      "text/html": [
       "<div>\n",
       "<style scoped>\n",
       "    .dataframe tbody tr th:only-of-type {\n",
       "        vertical-align: middle;\n",
       "    }\n",
       "\n",
       "    .dataframe tbody tr th {\n",
       "        vertical-align: top;\n",
       "    }\n",
       "\n",
       "    .dataframe thead th {\n",
       "        text-align: right;\n",
       "    }\n",
       "</style>\n",
       "<table border=\"1\" class=\"dataframe\">\n",
       "  <thead>\n",
       "    <tr style=\"text-align: right;\">\n",
       "      <th></th>\n",
       "      <th>pnumber</th>\n",
       "    </tr>\n",
       "  </thead>\n",
       "  <tbody>\n",
       "    <tr>\n",
       "      <th>0</th>\n",
       "      <td>1</td>\n",
       "    </tr>\n",
       "    <tr>\n",
       "      <th>1</th>\n",
       "      <td>2</td>\n",
       "    </tr>\n",
       "  </tbody>\n",
       "</table>\n",
       "</div>"
      ],
      "text/plain": [
       "  pnumber\n",
       "0       1\n",
       "1       2"
      ]
     },
     "metadata": {},
     "output_type": "display_data"
    },
    {
     "name": "stdout",
     "output_type": "stream",
     "text": [
      " \n"
     ]
    }
   ],
   "source": [
    "%%logica SmithProj\n",
    "\n",
    "SmithProj(pnumber:pno):-\n",
    "    Works_On(essn:, pno:),\n",
    "    Employee(lname:\"Smith\",ssn:essn);\n",
    "    \n",
    "SmithProj(pnumber:):-\n",
    "    Project(pnumber:, dnum:),\n",
    "    Department(dnumber:dnum,mgr_ssn:),\n",
    "    Employee(ssn:mgr_ssn, lname:\"Smith\");"
   ]
  },
  {
   "cell_type": "markdown",
   "id": "635fc067",
   "metadata": {},
   "source": [
    "#### Query 5: For each employee, retrieve the employee’s first and last name and the first and last name of his or her immediate supervisor."
   ]
  },
  {
   "cell_type": "markdown",
   "id": "2f19f12d",
   "metadata": {},
   "source": [
    "$\\mathrm{\\Pi_{E\\_fname, E\\_lname, S\\_fname, S\\_lname}(EMPLOYEE\\bowtie_{Super\\_Ssn=Ssn}(EMPLOYEE))}$"
   ]
  },
  {
   "cell_type": "code",
   "execution_count": 18,
   "id": "39aec0ce",
   "metadata": {},
   "outputs": [
    {
     "name": "stdout",
     "output_type": "stream",
     "text": [
      "Done.\n"
     ]
    },
    {
     "data": {
      "text/html": [
       "<table>\n",
       "    <thead>\n",
       "        <tr>\n",
       "            <th>E_fname</th>\n",
       "            <th>E_lname</th>\n",
       "            <th>S_fname</th>\n",
       "            <th>S_lname</th>\n",
       "        </tr>\n",
       "    </thead>\n",
       "    <tbody>\n",
       "        <tr>\n",
       "            <td>John</td>\n",
       "            <td>Smith</td>\n",
       "            <td>Franklin</td>\n",
       "            <td>Wong</td>\n",
       "        </tr>\n",
       "        <tr>\n",
       "            <td>Franklin</td>\n",
       "            <td>Wong</td>\n",
       "            <td>James</td>\n",
       "            <td>Borg</td>\n",
       "        </tr>\n",
       "        <tr>\n",
       "            <td>Alicia</td>\n",
       "            <td>Zelaya</td>\n",
       "            <td>Jennifer</td>\n",
       "            <td>Wallace</td>\n",
       "        </tr>\n",
       "        <tr>\n",
       "            <td>Jennifer</td>\n",
       "            <td>Wallace</td>\n",
       "            <td>James</td>\n",
       "            <td>Borg</td>\n",
       "        </tr>\n",
       "        <tr>\n",
       "            <td>Ramesh</td>\n",
       "            <td>Narayan</td>\n",
       "            <td>Franklin</td>\n",
       "            <td>Wong</td>\n",
       "        </tr>\n",
       "        <tr>\n",
       "            <td>Joyce</td>\n",
       "            <td>English</td>\n",
       "            <td>Franklin</td>\n",
       "            <td>Wong</td>\n",
       "        </tr>\n",
       "        <tr>\n",
       "            <td>Ahmad</td>\n",
       "            <td>Jabbar</td>\n",
       "            <td>Jennifer</td>\n",
       "            <td>Wallace</td>\n",
       "        </tr>\n",
       "    </tbody>\n",
       "</table>"
      ],
      "text/plain": [
       "[('John', 'Smith', 'Franklin', 'Wong'),\n",
       " ('Franklin', 'Wong', 'James', 'Borg'),\n",
       " ('Alicia', 'Zelaya', 'Jennifer', 'Wallace'),\n",
       " ('Jennifer', 'Wallace', 'James', 'Borg'),\n",
       " ('Ramesh', 'Narayan', 'Franklin', 'Wong'),\n",
       " ('Joyce', 'English', 'Franklin', 'Wong'),\n",
       " ('Ahmad', 'Jabbar', 'Jennifer', 'Wallace')]"
      ]
     },
     "execution_count": 18,
     "metadata": {},
     "output_type": "execute_result"
    }
   ],
   "source": [
    "%%sql sqlite:///my_database.db\n",
    "\n",
    "SELECT E.Fname as E_fname, E.Lname as E_lname, S.Fname as S_fname, S.Lname as S_lname\n",
    "FROM EMPLOYEE AS E, EMPLOYEE AS S\n",
    "WHERE E.Super_ssn = S.Ssn;"
   ]
  },
  {
   "cell_type": "code",
   "execution_count": 19,
   "id": "15064cab-3ed1-49de-bf38-b9760dac6110",
   "metadata": {},
   "outputs": [
    {
     "name": "stdout",
     "output_type": "stream",
     "text": [
      "Query is stored at \u001b[1mEmpBossName_sql\u001b[0m variable.\n"
     ]
    },
    {
     "data": {
      "image/svg+xml": [
       "<?xml version=\"1.0\" encoding=\"UTF-8\" standalone=\"no\"?>\n",
       "<!DOCTYPE svg PUBLIC \"-//W3C//DTD SVG 1.1//EN\"\n",
       " \"http://www.w3.org/Graphics/SVG/1.1/DTD/svg11.dtd\">\n",
       "<!-- Generated by graphviz version 2.43.0 (0)\n",
       " -->\n",
       "<!-- Title: Concertina Pages: 1 -->\n",
       "<svg width=\"238pt\" height=\"116pt\"\n",
       " viewBox=\"0.00 0.00 237.79 116.00\" xmlns=\"http://www.w3.org/2000/svg\" xmlns:xlink=\"http://www.w3.org/1999/xlink\">\n",
       "<g id=\"graph0\" class=\"graph\" transform=\"scale(1 1) rotate(0) translate(4 112)\">\n",
       "<title>Concertina</title>\n",
       "<polygon fill=\"white\" stroke=\"transparent\" points=\"-4,4 -4,-112 233.79,-112 233.79,4 -4,4\"/>\n",
       "<!-- EmpBossName -->\n",
       "<g id=\"node1\" class=\"node\">\n",
       "<title>EmpBossName</title>\n",
       "<path fill=\"#caff70\" stroke=\"#575757\" d=\"M103.04,-34.14C103.04,-34.14 11.96,-19.86 11.96,-19.86 6.03,-18.93 6.03,-17.07 11.96,-16.14 11.96,-16.14 103.04,-1.86 103.04,-1.86 108.97,-0.93 120.82,-0.93 126.75,-1.86 126.75,-1.86 217.83,-16.14 217.83,-16.14 223.76,-17.07 223.76,-18.93 217.83,-19.86 217.83,-19.86 126.75,-34.14 126.75,-34.14 120.82,-35.07 108.97,-35.07 103.04,-34.14\"/>\n",
       "<text text-anchor=\"middle\" x=\"114.89\" y=\"-14.3\" font-family=\"Times,serif\" font-size=\"14.00\">EmpBossName</text>\n",
       "</g>\n",
       "<!-- Employee -->\n",
       "<g id=\"node2\" class=\"node\">\n",
       "<title>Employee</title>\n",
       "<path fill=\"#b0e2ff\" stroke=\"#575757\" d=\"M158.39,-104.73C158.39,-106.53 138.9,-108 114.89,-108 90.89,-108 71.39,-106.53 71.39,-104.73 71.39,-104.73 71.39,-75.27 71.39,-75.27 71.39,-73.47 90.89,-72 114.89,-72 138.9,-72 158.39,-73.47 158.39,-75.27 158.39,-75.27 158.39,-104.73 158.39,-104.73\"/>\n",
       "<path fill=\"none\" stroke=\"#575757\" d=\"M158.39,-104.73C158.39,-102.92 138.9,-101.45 114.89,-101.45 90.89,-101.45 71.39,-102.92 71.39,-104.73\"/>\n",
       "<text text-anchor=\"middle\" x=\"114.89\" y=\"-86.3\" font-family=\"Times,serif\" font-size=\"14.00\">Employee</text>\n",
       "</g>\n",
       "<!-- Employee&#45;&gt;EmpBossName -->\n",
       "<g id=\"edge1\" class=\"edge\">\n",
       "<title>Employee&#45;&gt;EmpBossName</title>\n",
       "<path fill=\"none\" stroke=\"black\" d=\"M114.89,-71.7C114.89,-63.98 114.89,-54.71 114.89,-46.11\"/>\n",
       "<polygon fill=\"black\" stroke=\"black\" points=\"118.39,-46.1 114.89,-36.1 111.39,-46.1 118.39,-46.1\"/>\n",
       "</g>\n",
       "</g>\n",
       "</svg>\n"
      ],
      "text/plain": [
       "<graphviz.graphs.Digraph at 0x7f1aa355aa00>"
      ]
     },
     "metadata": {},
     "output_type": "display_data"
    },
    {
     "name": "stdout",
     "output_type": "stream",
     "text": [
      "Running predicate: EmpBossName (1 ms)\n",
      "The following table is stored at \u001b[1mEmpBossName\u001b[0m variable.\n"
     ]
    },
    {
     "data": {
      "text/html": [
       "<div>\n",
       "<style scoped>\n",
       "    .dataframe tbody tr th:only-of-type {\n",
       "        vertical-align: middle;\n",
       "    }\n",
       "\n",
       "    .dataframe tbody tr th {\n",
       "        vertical-align: top;\n",
       "    }\n",
       "\n",
       "    .dataframe thead th {\n",
       "        text-align: right;\n",
       "    }\n",
       "</style>\n",
       "<table border=\"1\" class=\"dataframe\">\n",
       "  <thead>\n",
       "    <tr style=\"text-align: right;\">\n",
       "      <th></th>\n",
       "      <th>e_fname</th>\n",
       "      <th>e_lname</th>\n",
       "      <th>s_fname</th>\n",
       "      <th>s_lname</th>\n",
       "    </tr>\n",
       "  </thead>\n",
       "  <tbody>\n",
       "    <tr>\n",
       "      <th>0</th>\n",
       "      <td>John</td>\n",
       "      <td>Smith</td>\n",
       "      <td>Franklin</td>\n",
       "      <td>Wong</td>\n",
       "    </tr>\n",
       "    <tr>\n",
       "      <th>1</th>\n",
       "      <td>Franklin</td>\n",
       "      <td>Wong</td>\n",
       "      <td>James</td>\n",
       "      <td>Borg</td>\n",
       "    </tr>\n",
       "    <tr>\n",
       "      <th>2</th>\n",
       "      <td>Alicia</td>\n",
       "      <td>Zelaya</td>\n",
       "      <td>Jennifer</td>\n",
       "      <td>Wallace</td>\n",
       "    </tr>\n",
       "    <tr>\n",
       "      <th>3</th>\n",
       "      <td>Jennifer</td>\n",
       "      <td>Wallace</td>\n",
       "      <td>James</td>\n",
       "      <td>Borg</td>\n",
       "    </tr>\n",
       "    <tr>\n",
       "      <th>4</th>\n",
       "      <td>Ramesh</td>\n",
       "      <td>Narayan</td>\n",
       "      <td>Franklin</td>\n",
       "      <td>Wong</td>\n",
       "    </tr>\n",
       "    <tr>\n",
       "      <th>5</th>\n",
       "      <td>Joyce</td>\n",
       "      <td>English</td>\n",
       "      <td>Franklin</td>\n",
       "      <td>Wong</td>\n",
       "    </tr>\n",
       "    <tr>\n",
       "      <th>6</th>\n",
       "      <td>Ahmad</td>\n",
       "      <td>Jabbar</td>\n",
       "      <td>Jennifer</td>\n",
       "      <td>Wallace</td>\n",
       "    </tr>\n",
       "  </tbody>\n",
       "</table>\n",
       "</div>"
      ],
      "text/plain": [
       "    e_fname  e_lname   s_fname  s_lname\n",
       "0      John    Smith  Franklin     Wong\n",
       "1  Franklin     Wong     James     Borg\n",
       "2    Alicia   Zelaya  Jennifer  Wallace\n",
       "3  Jennifer  Wallace     James     Borg\n",
       "4    Ramesh  Narayan  Franklin     Wong\n",
       "5     Joyce  English  Franklin     Wong\n",
       "6     Ahmad   Jabbar  Jennifer  Wallace"
      ]
     },
     "metadata": {},
     "output_type": "display_data"
    },
    {
     "name": "stdout",
     "output_type": "stream",
     "text": [
      " \n"
     ]
    }
   ],
   "source": [
    "%%logica EmpBossName\n",
    "\n",
    "EmpBossName(e_fname:x, e_lname:y, s_fname:m,s_lname:l):- \n",
    "    Employee(fname:x, lname:y,super_ssn:),\n",
    "    Employee(fname:m, lname:l,Ssn:super_ssn);"
   ]
  },
  {
   "cell_type": "markdown",
   "id": "f89c9dca",
   "metadata": {},
   "source": [
    "#### Query 6: Select all combinations of EMPLOYEE Ssn and DEPARTMENT Dname (Q10) in the database"
   ]
  },
  {
   "cell_type": "markdown",
   "id": "ddceff38",
   "metadata": {},
   "source": [
    "$\\mathrm{\\sigma_{Ssn, Dname}EMPLOYEE \\times DEPARTMENT}$"
   ]
  },
  {
   "cell_type": "code",
   "execution_count": 20,
   "id": "6e4f4cbc",
   "metadata": {},
   "outputs": [
    {
     "name": "stdout",
     "output_type": "stream",
     "text": [
      "Done.\n"
     ]
    },
    {
     "data": {
      "text/html": [
       "<table>\n",
       "    <thead>\n",
       "        <tr>\n",
       "            <th>ssn</th>\n",
       "            <th>dname</th>\n",
       "        </tr>\n",
       "    </thead>\n",
       "    <tbody>\n",
       "        <tr>\n",
       "            <td>123456789</td>\n",
       "            <td>Research</td>\n",
       "        </tr>\n",
       "        <tr>\n",
       "            <td>123456789</td>\n",
       "            <td>Administration</td>\n",
       "        </tr>\n",
       "        <tr>\n",
       "            <td>123456789</td>\n",
       "            <td>Headquarters</td>\n",
       "        </tr>\n",
       "        <tr>\n",
       "            <td>333445555</td>\n",
       "            <td>Research</td>\n",
       "        </tr>\n",
       "        <tr>\n",
       "            <td>333445555</td>\n",
       "            <td>Administration</td>\n",
       "        </tr>\n",
       "        <tr>\n",
       "            <td>333445555</td>\n",
       "            <td>Headquarters</td>\n",
       "        </tr>\n",
       "        <tr>\n",
       "            <td>999887777</td>\n",
       "            <td>Research</td>\n",
       "        </tr>\n",
       "        <tr>\n",
       "            <td>999887777</td>\n",
       "            <td>Administration</td>\n",
       "        </tr>\n",
       "        <tr>\n",
       "            <td>999887777</td>\n",
       "            <td>Headquarters</td>\n",
       "        </tr>\n",
       "        <tr>\n",
       "            <td>987654321</td>\n",
       "            <td>Research</td>\n",
       "        </tr>\n",
       "        <tr>\n",
       "            <td>987654321</td>\n",
       "            <td>Administration</td>\n",
       "        </tr>\n",
       "        <tr>\n",
       "            <td>987654321</td>\n",
       "            <td>Headquarters</td>\n",
       "        </tr>\n",
       "        <tr>\n",
       "            <td>666884444</td>\n",
       "            <td>Research</td>\n",
       "        </tr>\n",
       "        <tr>\n",
       "            <td>666884444</td>\n",
       "            <td>Administration</td>\n",
       "        </tr>\n",
       "        <tr>\n",
       "            <td>666884444</td>\n",
       "            <td>Headquarters</td>\n",
       "        </tr>\n",
       "        <tr>\n",
       "            <td>453453453</td>\n",
       "            <td>Research</td>\n",
       "        </tr>\n",
       "        <tr>\n",
       "            <td>453453453</td>\n",
       "            <td>Administration</td>\n",
       "        </tr>\n",
       "        <tr>\n",
       "            <td>453453453</td>\n",
       "            <td>Headquarters</td>\n",
       "        </tr>\n",
       "        <tr>\n",
       "            <td>987987987</td>\n",
       "            <td>Research</td>\n",
       "        </tr>\n",
       "        <tr>\n",
       "            <td>987987987</td>\n",
       "            <td>Administration</td>\n",
       "        </tr>\n",
       "        <tr>\n",
       "            <td>987987987</td>\n",
       "            <td>Headquarters</td>\n",
       "        </tr>\n",
       "        <tr>\n",
       "            <td>888665555</td>\n",
       "            <td>Research</td>\n",
       "        </tr>\n",
       "        <tr>\n",
       "            <td>888665555</td>\n",
       "            <td>Administration</td>\n",
       "        </tr>\n",
       "        <tr>\n",
       "            <td>888665555</td>\n",
       "            <td>Headquarters</td>\n",
       "        </tr>\n",
       "    </tbody>\n",
       "</table>"
      ],
      "text/plain": [
       "[(123456789, 'Research'),\n",
       " (123456789, 'Administration'),\n",
       " (123456789, 'Headquarters'),\n",
       " (333445555, 'Research'),\n",
       " (333445555, 'Administration'),\n",
       " (333445555, 'Headquarters'),\n",
       " (999887777, 'Research'),\n",
       " (999887777, 'Administration'),\n",
       " (999887777, 'Headquarters'),\n",
       " (987654321, 'Research'),\n",
       " (987654321, 'Administration'),\n",
       " (987654321, 'Headquarters'),\n",
       " (666884444, 'Research'),\n",
       " (666884444, 'Administration'),\n",
       " (666884444, 'Headquarters'),\n",
       " (453453453, 'Research'),\n",
       " (453453453, 'Administration'),\n",
       " (453453453, 'Headquarters'),\n",
       " (987987987, 'Research'),\n",
       " (987987987, 'Administration'),\n",
       " (987987987, 'Headquarters'),\n",
       " (888665555, 'Research'),\n",
       " (888665555, 'Administration'),\n",
       " (888665555, 'Headquarters')]"
      ]
     },
     "execution_count": 20,
     "metadata": {},
     "output_type": "execute_result"
    }
   ],
   "source": [
    "%%sql sqlite:///my_database.db\n",
    "    \n",
    "SELECT Ssn, Dname\n",
    "FROM EMPLOYEE, DEPARTMENT"
   ]
  },
  {
   "cell_type": "code",
   "execution_count": 21,
   "id": "821edcea",
   "metadata": {},
   "outputs": [
    {
     "name": "stdout",
     "output_type": "stream",
     "text": [
      "Query is stored at \u001b[1mSsnDname_sql\u001b[0m variable.\n"
     ]
    },
    {
     "data": {
      "image/svg+xml": [
       "<?xml version=\"1.0\" encoding=\"UTF-8\" standalone=\"no\"?>\n",
       "<!DOCTYPE svg PUBLIC \"-//W3C//DTD SVG 1.1//EN\"\n",
       " \"http://www.w3.org/Graphics/SVG/1.1/DTD/svg11.dtd\">\n",
       "<!-- Generated by graphviz version 2.43.0 (0)\n",
       " -->\n",
       "<!-- Title: Concertina Pages: 1 -->\n",
       "<svg width=\"216pt\" height=\"116pt\"\n",
       " viewBox=\"0.00 0.00 216.00 116.00\" xmlns=\"http://www.w3.org/2000/svg\" xmlns:xlink=\"http://www.w3.org/1999/xlink\">\n",
       "<g id=\"graph0\" class=\"graph\" transform=\"scale(1 1) rotate(0) translate(4 112)\">\n",
       "<title>Concertina</title>\n",
       "<polygon fill=\"white\" stroke=\"transparent\" points=\"-4,4 -4,-112 212,-112 212,4 -4,4\"/>\n",
       "<!-- Department -->\n",
       "<g id=\"node1\" class=\"node\">\n",
       "<title>Department</title>\n",
       "<path fill=\"#b0e2ff\" stroke=\"#575757\" d=\"M103,-104.73C103,-106.53 79.92,-108 51.5,-108 23.08,-108 0,-106.53 0,-104.73 0,-104.73 0,-75.27 0,-75.27 0,-73.47 23.08,-72 51.5,-72 79.92,-72 103,-73.47 103,-75.27 103,-75.27 103,-104.73 103,-104.73\"/>\n",
       "<path fill=\"none\" stroke=\"#575757\" d=\"M103,-104.73C103,-102.92 79.92,-101.45 51.5,-101.45 23.08,-101.45 0,-102.92 0,-104.73\"/>\n",
       "<text text-anchor=\"middle\" x=\"51.5\" y=\"-86.3\" font-family=\"Times,serif\" font-size=\"14.00\">Department</text>\n",
       "</g>\n",
       "<!-- SsnDname -->\n",
       "<g id=\"node2\" class=\"node\">\n",
       "<title>SsnDname</title>\n",
       "<path fill=\"#caff70\" stroke=\"#575757\" d=\"M95.76,-33.53C95.76,-33.53 33.78,-20.47 33.78,-20.47 27.91,-19.24 27.91,-16.76 33.78,-15.53 33.78,-15.53 95.76,-2.47 95.76,-2.47 101.63,-1.24 113.37,-1.24 119.24,-2.47 119.24,-2.47 181.22,-15.53 181.22,-15.53 187.09,-16.76 187.09,-19.24 181.22,-20.47 181.22,-20.47 119.24,-33.53 119.24,-33.53 113.37,-34.76 101.63,-34.76 95.76,-33.53\"/>\n",
       "<text text-anchor=\"middle\" x=\"107.5\" y=\"-14.3\" font-family=\"Times,serif\" font-size=\"14.00\">SsnDname</text>\n",
       "</g>\n",
       "<!-- Department&#45;&gt;SsnDname -->\n",
       "<g id=\"edge1\" class=\"edge\">\n",
       "<title>Department&#45;&gt;SsnDname</title>\n",
       "<path fill=\"none\" stroke=\"black\" d=\"M65.34,-71.7C72.56,-62.68 81.47,-51.53 89.25,-41.82\"/>\n",
       "<polygon fill=\"black\" stroke=\"black\" points=\"92.2,-43.73 95.71,-33.74 86.73,-39.36 92.2,-43.73\"/>\n",
       "</g>\n",
       "<!-- Employee -->\n",
       "<g id=\"node3\" class=\"node\">\n",
       "<title>Employee</title>\n",
       "<path fill=\"#b0e2ff\" stroke=\"#575757\" d=\"M208,-104.73C208,-106.53 188.5,-108 164.5,-108 140.5,-108 121,-106.53 121,-104.73 121,-104.73 121,-75.27 121,-75.27 121,-73.47 140.5,-72 164.5,-72 188.5,-72 208,-73.47 208,-75.27 208,-75.27 208,-104.73 208,-104.73\"/>\n",
       "<path fill=\"none\" stroke=\"#575757\" d=\"M208,-104.73C208,-102.92 188.5,-101.45 164.5,-101.45 140.5,-101.45 121,-102.92 121,-104.73\"/>\n",
       "<text text-anchor=\"middle\" x=\"164.5\" y=\"-86.3\" font-family=\"Times,serif\" font-size=\"14.00\">Employee</text>\n",
       "</g>\n",
       "<!-- Employee&#45;&gt;SsnDname -->\n",
       "<g id=\"edge2\" class=\"edge\">\n",
       "<title>Employee&#45;&gt;SsnDname</title>\n",
       "<path fill=\"none\" stroke=\"black\" d=\"M150.41,-71.7C142.99,-62.59 133.81,-51.31 125.84,-41.52\"/>\n",
       "<polygon fill=\"black\" stroke=\"black\" points=\"128.53,-39.28 119.5,-33.74 123.1,-43.7 128.53,-39.28\"/>\n",
       "</g>\n",
       "</g>\n",
       "</svg>\n"
      ],
      "text/plain": [
       "<graphviz.graphs.Digraph at 0x7f1aa3470430>"
      ]
     },
     "metadata": {},
     "output_type": "display_data"
    },
    {
     "name": "stdout",
     "output_type": "stream",
     "text": [
      "Running predicate: SsnDname (1 ms)\n",
      "The following table is stored at \u001b[1mSsnDname\u001b[0m variable.\n"
     ]
    },
    {
     "data": {
      "text/html": [
       "<div>\n",
       "<style scoped>\n",
       "    .dataframe tbody tr th:only-of-type {\n",
       "        vertical-align: middle;\n",
       "    }\n",
       "\n",
       "    .dataframe tbody tr th {\n",
       "        vertical-align: top;\n",
       "    }\n",
       "\n",
       "    .dataframe thead th {\n",
       "        text-align: right;\n",
       "    }\n",
       "</style>\n",
       "<table border=\"1\" class=\"dataframe\">\n",
       "  <thead>\n",
       "    <tr style=\"text-align: right;\">\n",
       "      <th></th>\n",
       "      <th>ssn</th>\n",
       "      <th>dname</th>\n",
       "    </tr>\n",
       "  </thead>\n",
       "  <tbody>\n",
       "    <tr>\n",
       "      <th>0</th>\n",
       "      <td>123456789</td>\n",
       "      <td>Research</td>\n",
       "    </tr>\n",
       "    <tr>\n",
       "      <th>1</th>\n",
       "      <td>123456789</td>\n",
       "      <td>Administration</td>\n",
       "    </tr>\n",
       "    <tr>\n",
       "      <th>2</th>\n",
       "      <td>123456789</td>\n",
       "      <td>Headquarters</td>\n",
       "    </tr>\n",
       "    <tr>\n",
       "      <th>3</th>\n",
       "      <td>333445555</td>\n",
       "      <td>Research</td>\n",
       "    </tr>\n",
       "    <tr>\n",
       "      <th>4</th>\n",
       "      <td>333445555</td>\n",
       "      <td>Administration</td>\n",
       "    </tr>\n",
       "    <tr>\n",
       "      <th>5</th>\n",
       "      <td>333445555</td>\n",
       "      <td>Headquarters</td>\n",
       "    </tr>\n",
       "    <tr>\n",
       "      <th>6</th>\n",
       "      <td>999887777</td>\n",
       "      <td>Research</td>\n",
       "    </tr>\n",
       "    <tr>\n",
       "      <th>7</th>\n",
       "      <td>999887777</td>\n",
       "      <td>Administration</td>\n",
       "    </tr>\n",
       "    <tr>\n",
       "      <th>8</th>\n",
       "      <td>999887777</td>\n",
       "      <td>Headquarters</td>\n",
       "    </tr>\n",
       "    <tr>\n",
       "      <th>9</th>\n",
       "      <td>987654321</td>\n",
       "      <td>Research</td>\n",
       "    </tr>\n",
       "    <tr>\n",
       "      <th>10</th>\n",
       "      <td>987654321</td>\n",
       "      <td>Administration</td>\n",
       "    </tr>\n",
       "    <tr>\n",
       "      <th>11</th>\n",
       "      <td>987654321</td>\n",
       "      <td>Headquarters</td>\n",
       "    </tr>\n",
       "    <tr>\n",
       "      <th>12</th>\n",
       "      <td>666884444</td>\n",
       "      <td>Research</td>\n",
       "    </tr>\n",
       "    <tr>\n",
       "      <th>13</th>\n",
       "      <td>666884444</td>\n",
       "      <td>Administration</td>\n",
       "    </tr>\n",
       "    <tr>\n",
       "      <th>14</th>\n",
       "      <td>666884444</td>\n",
       "      <td>Headquarters</td>\n",
       "    </tr>\n",
       "    <tr>\n",
       "      <th>15</th>\n",
       "      <td>453453453</td>\n",
       "      <td>Research</td>\n",
       "    </tr>\n",
       "    <tr>\n",
       "      <th>16</th>\n",
       "      <td>453453453</td>\n",
       "      <td>Administration</td>\n",
       "    </tr>\n",
       "    <tr>\n",
       "      <th>17</th>\n",
       "      <td>453453453</td>\n",
       "      <td>Headquarters</td>\n",
       "    </tr>\n",
       "    <tr>\n",
       "      <th>18</th>\n",
       "      <td>987987987</td>\n",
       "      <td>Research</td>\n",
       "    </tr>\n",
       "    <tr>\n",
       "      <th>19</th>\n",
       "      <td>987987987</td>\n",
       "      <td>Administration</td>\n",
       "    </tr>\n",
       "    <tr>\n",
       "      <th>20</th>\n",
       "      <td>987987987</td>\n",
       "      <td>Headquarters</td>\n",
       "    </tr>\n",
       "    <tr>\n",
       "      <th>21</th>\n",
       "      <td>888665555</td>\n",
       "      <td>Research</td>\n",
       "    </tr>\n",
       "    <tr>\n",
       "      <th>22</th>\n",
       "      <td>888665555</td>\n",
       "      <td>Administration</td>\n",
       "    </tr>\n",
       "    <tr>\n",
       "      <th>23</th>\n",
       "      <td>888665555</td>\n",
       "      <td>Headquarters</td>\n",
       "    </tr>\n",
       "  </tbody>\n",
       "</table>\n",
       "</div>"
      ],
      "text/plain": [
       "          ssn           dname\n",
       "0   123456789        Research\n",
       "1   123456789  Administration\n",
       "2   123456789    Headquarters\n",
       "3   333445555        Research\n",
       "4   333445555  Administration\n",
       "5   333445555    Headquarters\n",
       "6   999887777        Research\n",
       "7   999887777  Administration\n",
       "8   999887777    Headquarters\n",
       "9   987654321        Research\n",
       "10  987654321  Administration\n",
       "11  987654321    Headquarters\n",
       "12  666884444        Research\n",
       "13  666884444  Administration\n",
       "14  666884444    Headquarters\n",
       "15  453453453        Research\n",
       "16  453453453  Administration\n",
       "17  453453453    Headquarters\n",
       "18  987987987        Research\n",
       "19  987987987  Administration\n",
       "20  987987987    Headquarters\n",
       "21  888665555        Research\n",
       "22  888665555  Administration\n",
       "23  888665555    Headquarters"
      ]
     },
     "metadata": {},
     "output_type": "display_data"
    },
    {
     "name": "stdout",
     "output_type": "stream",
     "text": [
      " \n"
     ]
    }
   ],
   "source": [
    "%%logica SsnDname\n",
    "\n",
    "SsnDname(ssn:, dname:):-\n",
    "    Employee(ssn:), Department(dname:);"
   ]
  },
  {
   "cell_type": "markdown",
   "id": "4cccb388",
   "metadata": {},
   "source": [
    "#### Query 7: Show the resulting salaries if every employee working on the ‘ProductX’ project is given a 10% raise"
   ]
  },
  {
   "cell_type": "markdown",
   "id": "f66349b8",
   "metadata": {},
   "source": [
    "$\\mathrm{EMP\\_PROJX \\leftarrow \\sigma_{Pname='ProjectX'}(WORKS\\_ON \\bowtie_{Pno=Pnumber} PROJECT)}$\n",
    "\n",
    "$\\mathrm{RESULT(Fname, Lname, Increased\\_sal) \\leftarrow \\pi_{Fname, Lname, 1.1*Salary}(EMPLOYEE \\bowtie_{Ssn=Essn} EMP\\_PROJX)}$"
   ]
  },
  {
   "cell_type": "code",
   "execution_count": 22,
   "id": "5442d558",
   "metadata": {},
   "outputs": [
    {
     "name": "stdout",
     "output_type": "stream",
     "text": [
      "Done.\n"
     ]
    },
    {
     "data": {
      "text/html": [
       "<table>\n",
       "    <thead>\n",
       "        <tr>\n",
       "            <th>fname</th>\n",
       "            <th>lname</th>\n",
       "            <th>Increased_sal</th>\n",
       "        </tr>\n",
       "    </thead>\n",
       "    <tbody>\n",
       "        <tr>\n",
       "            <td>John</td>\n",
       "            <td>Smith</td>\n",
       "            <td>33000.0</td>\n",
       "        </tr>\n",
       "        <tr>\n",
       "            <td>Joyce</td>\n",
       "            <td>English</td>\n",
       "            <td>27500.000000000004</td>\n",
       "        </tr>\n",
       "    </tbody>\n",
       "</table>"
      ],
      "text/plain": [
       "[('John', 'Smith', 33000.0), ('Joyce', 'English', 27500.000000000004)]"
      ]
     },
     "execution_count": 22,
     "metadata": {},
     "output_type": "execute_result"
    }
   ],
   "source": [
    "%%sql sqlite:///my_database.db\n",
    "    \n",
    "SELECT E.Fname, E.Lname, 1.1 * E.Salary AS Increased_sal\n",
    "FROM EMPLOYEE AS E, WORKS_ON AS W, PROJECT AS P\n",
    "WHERE E.Ssn = W.Essn AND W.Pno = P.Pnumber AND\n",
    "P.Pname = 'ProductX';"
   ]
  },
  {
   "cell_type": "code",
   "execution_count": 23,
   "id": "fde82442-b31e-4ad9-9bdc-bc78361b19cc",
   "metadata": {},
   "outputs": [
    {
     "name": "stdout",
     "output_type": "stream",
     "text": [
      "Query is stored at \u001b[1mIncreSal_sql\u001b[0m variable.\n"
     ]
    },
    {
     "data": {
      "image/svg+xml": [
       "<?xml version=\"1.0\" encoding=\"UTF-8\" standalone=\"no\"?>\n",
       "<!DOCTYPE svg PUBLIC \"-//W3C//DTD SVG 1.1//EN\"\n",
       " \"http://www.w3.org/Graphics/SVG/1.1/DTD/svg11.dtd\">\n",
       "<!-- Generated by graphviz version 2.43.0 (0)\n",
       " -->\n",
       "<!-- Title: Concertina Pages: 1 -->\n",
       "<svg width=\"288pt\" height=\"116pt\"\n",
       " viewBox=\"0.00 0.00 288.00 116.00\" xmlns=\"http://www.w3.org/2000/svg\" xmlns:xlink=\"http://www.w3.org/1999/xlink\">\n",
       "<g id=\"graph0\" class=\"graph\" transform=\"scale(1 1) rotate(0) translate(4 112)\">\n",
       "<title>Concertina</title>\n",
       "<polygon fill=\"white\" stroke=\"transparent\" points=\"-4,4 -4,-112 284,-112 284,4 -4,4\"/>\n",
       "<!-- IncreSal -->\n",
       "<g id=\"node1\" class=\"node\">\n",
       "<title>IncreSal</title>\n",
       "<path fill=\"#caff70\" stroke=\"#575757\" d=\"M138.38,-33C138.38,-33 91.91,-21 91.91,-21 86.1,-19.5 86.1,-16.5 91.91,-15 91.91,-15 138.38,-3 138.38,-3 144.19,-1.5 155.81,-1.5 161.62,-3 161.62,-3 208.09,-15 208.09,-15 213.9,-16.5 213.9,-19.5 208.09,-21 208.09,-21 161.62,-33 161.62,-33 155.81,-34.5 144.19,-34.5 138.38,-33\"/>\n",
       "<text text-anchor=\"middle\" x=\"150\" y=\"-14.3\" font-family=\"Times,serif\" font-size=\"14.00\">IncreSal</text>\n",
       "</g>\n",
       "<!-- Works_On -->\n",
       "<g id=\"node2\" class=\"node\">\n",
       "<title>Works_On</title>\n",
       "<path fill=\"#b0e2ff\" stroke=\"#575757\" d=\"M88,-104.73C88,-106.53 68.28,-108 44,-108 19.72,-108 0,-106.53 0,-104.73 0,-104.73 0,-75.27 0,-75.27 0,-73.47 19.72,-72 44,-72 68.28,-72 88,-73.47 88,-75.27 88,-75.27 88,-104.73 88,-104.73\"/>\n",
       "<path fill=\"none\" stroke=\"#575757\" d=\"M88,-104.73C88,-102.92 68.28,-101.45 44,-101.45 19.72,-101.45 0,-102.92 0,-104.73\"/>\n",
       "<text text-anchor=\"middle\" x=\"44\" y=\"-86.3\" font-family=\"Times,serif\" font-size=\"14.00\">Works_On</text>\n",
       "</g>\n",
       "<!-- Works_On&#45;&gt;IncreSal -->\n",
       "<g id=\"edge1\" class=\"edge\">\n",
       "<title>Works_On&#45;&gt;IncreSal</title>\n",
       "<path fill=\"none\" stroke=\"black\" d=\"M69.66,-72.05C85.69,-61.47 106.31,-47.86 122.64,-37.07\"/>\n",
       "<polygon fill=\"black\" stroke=\"black\" points=\"124.81,-39.83 131.22,-31.4 120.95,-33.99 124.81,-39.83\"/>\n",
       "</g>\n",
       "<!-- Employee -->\n",
       "<g id=\"node3\" class=\"node\">\n",
       "<title>Employee</title>\n",
       "<path fill=\"#b0e2ff\" stroke=\"#575757\" d=\"M193.5,-104.73C193.5,-106.53 174,-108 150,-108 126,-108 106.5,-106.53 106.5,-104.73 106.5,-104.73 106.5,-75.27 106.5,-75.27 106.5,-73.47 126,-72 150,-72 174,-72 193.5,-73.47 193.5,-75.27 193.5,-75.27 193.5,-104.73 193.5,-104.73\"/>\n",
       "<path fill=\"none\" stroke=\"#575757\" d=\"M193.5,-104.73C193.5,-102.92 174,-101.45 150,-101.45 126,-101.45 106.5,-102.92 106.5,-104.73\"/>\n",
       "<text text-anchor=\"middle\" x=\"150\" y=\"-86.3\" font-family=\"Times,serif\" font-size=\"14.00\">Employee</text>\n",
       "</g>\n",
       "<!-- Employee&#45;&gt;IncreSal -->\n",
       "<g id=\"edge2\" class=\"edge\">\n",
       "<title>Employee&#45;&gt;IncreSal</title>\n",
       "<path fill=\"none\" stroke=\"black\" d=\"M150,-71.7C150,-63.98 150,-54.71 150,-46.11\"/>\n",
       "<polygon fill=\"black\" stroke=\"black\" points=\"153.5,-46.1 150,-36.1 146.5,-46.1 153.5,-46.1\"/>\n",
       "</g>\n",
       "<!-- Project -->\n",
       "<g id=\"node4\" class=\"node\">\n",
       "<title>Project</title>\n",
       "<path fill=\"#b0e2ff\" stroke=\"#575757\" d=\"M280,-104.73C280,-106.53 264.76,-108 246,-108 227.24,-108 212,-106.53 212,-104.73 212,-104.73 212,-75.27 212,-75.27 212,-73.47 227.24,-72 246,-72 264.76,-72 280,-73.47 280,-75.27 280,-75.27 280,-104.73 280,-104.73\"/>\n",
       "<path fill=\"none\" stroke=\"#575757\" d=\"M280,-104.73C280,-102.92 264.76,-101.45 246,-101.45 227.24,-101.45 212,-102.92 212,-104.73\"/>\n",
       "<text text-anchor=\"middle\" x=\"246\" y=\"-86.3\" font-family=\"Times,serif\" font-size=\"14.00\">Project</text>\n",
       "</g>\n",
       "<!-- Project&#45;&gt;IncreSal -->\n",
       "<g id=\"edge3\" class=\"edge\">\n",
       "<title>Project&#45;&gt;IncreSal</title>\n",
       "<path fill=\"none\" stroke=\"black\" d=\"M222.76,-72.05C208.47,-61.64 190.16,-48.28 175.47,-37.58\"/>\n",
       "<polygon fill=\"black\" stroke=\"black\" points=\"177.45,-34.68 167.31,-31.62 173.33,-40.34 177.45,-34.68\"/>\n",
       "</g>\n",
       "</g>\n",
       "</svg>\n"
      ],
      "text/plain": [
       "<graphviz.graphs.Digraph at 0x7f1aa34c0460>"
      ]
     },
     "metadata": {},
     "output_type": "display_data"
    },
    {
     "name": "stdout",
     "output_type": "stream",
     "text": [
      "Running predicate: IncreSal (1 ms)\n",
      "The following table is stored at \u001b[1mIncreSal\u001b[0m variable.\n"
     ]
    },
    {
     "data": {
      "text/html": [
       "<div>\n",
       "<style scoped>\n",
       "    .dataframe tbody tr th:only-of-type {\n",
       "        vertical-align: middle;\n",
       "    }\n",
       "\n",
       "    .dataframe tbody tr th {\n",
       "        vertical-align: top;\n",
       "    }\n",
       "\n",
       "    .dataframe thead th {\n",
       "        text-align: right;\n",
       "    }\n",
       "</style>\n",
       "<table border=\"1\" class=\"dataframe\">\n",
       "  <thead>\n",
       "    <tr style=\"text-align: right;\">\n",
       "      <th></th>\n",
       "      <th>fname</th>\n",
       "      <th>lname</th>\n",
       "      <th>increased_sal</th>\n",
       "    </tr>\n",
       "  </thead>\n",
       "  <tbody>\n",
       "    <tr>\n",
       "      <th>0</th>\n",
       "      <td>John</td>\n",
       "      <td>Smith</td>\n",
       "      <td>33000.0</td>\n",
       "    </tr>\n",
       "    <tr>\n",
       "      <th>1</th>\n",
       "      <td>Joyce</td>\n",
       "      <td>English</td>\n",
       "      <td>27500.0</td>\n",
       "    </tr>\n",
       "  </tbody>\n",
       "</table>\n",
       "</div>"
      ],
      "text/plain": [
       "   fname    lname  increased_sal\n",
       "0   John    Smith        33000.0\n",
       "1  Joyce  English        27500.0"
      ]
     },
     "metadata": {},
     "output_type": "display_data"
    },
    {
     "name": "stdout",
     "output_type": "stream",
     "text": [
      " \n"
     ]
    }
   ],
   "source": [
    "%%logica IncreSal\n",
    "\n",
    "IncreSal(fname:, lname:, increased_sal:salary*1.1):-\n",
    "    Employee(fname:, lname:,ssn:, salary:),\n",
    "    Works_On(essn:ssn, pno:), \n",
    "    Project(pname:\"ProductX\",pnumber:pno);"
   ]
  },
  {
   "cell_type": "markdown",
   "id": "d3e04720",
   "metadata": {},
   "source": [
    "## Logica Exercises"
   ]
  },
  {
   "cell_type": "markdown",
   "id": "53c90b69",
   "metadata": {},
   "source": [
    "#### Exercise 1: Retrieve the name and address of all employees who work for the 'Administration' department. "
   ]
  },
  {
   "cell_type": "code",
   "execution_count": 24,
   "id": "fd47981f",
   "metadata": {},
   "outputs": [
    {
     "name": "stderr",
     "output_type": "stream",
     "text": [
      "\u001b[4mParsing\u001b[0m:\n",
      "Q4(Fname:fn, Lname:ln, Address:ad):-\u001b[1m<EMPTY>\u001b[0m\n",
      "\n",
      "[ \u001b[91mError\u001b[0m ] Could not parse proposition.\n"
     ]
    }
   ],
   "source": [
    "%%logica Ex1\n",
    "\n",
    "# Insert your logica query here\n",
    "Ex1(Fname:fn, Lname:ln, Address:ad):-"
   ]
  },
  {
   "cell_type": "markdown",
   "id": "b9567b80",
   "metadata": {},
   "source": [
    "#### Exercise 2: Retrieve the name of each employee who has a dependent with the same sex as the employee."
   ]
  },
  {
   "cell_type": "code",
   "execution_count": 26,
   "id": "4805ee2a",
   "metadata": {},
   "outputs": [
    {
     "name": "stderr",
     "output_type": "stream",
     "text": [
      "\u001b[4mParsing\u001b[0m:\n",
      "Ex2(Fname:fn, Lname:ln, Dependent_name:dn):-\u001b[1m<EMPTY>\u001b[0m\n",
      "\n",
      "[ \u001b[91mError\u001b[0m ] Could not parse proposition.\n"
     ]
    }
   ],
   "source": [
    "%%logica Ex2\n",
    "\n",
    "# Insert your logica query here\n",
    "Ex2(Fname:fn, Lname:ln, Dependent_name:dn):-"
   ]
  },
  {
   "cell_type": "code",
   "execution_count": null,
   "id": "6ef5a49c-ade2-464d-99e9-54a55febd475",
   "metadata": {},
   "outputs": [],
   "source": []
  }
 ],
 "metadata": {
  "kernelspec": {
   "display_name": "Python 3 (ipykernel)",
   "language": "python",
   "name": "python3"
  },
  "language_info": {
   "codemirror_mode": {
    "name": "ipython",
    "version": 3
   },
   "file_extension": ".py",
   "mimetype": "text/x-python",
   "name": "python",
   "nbconvert_exporter": "python",
   "pygments_lexer": "ipython3",
   "version": "3.9.2"
  },
  "vscode": {
   "interpreter": {
    "hash": "8b7eedf106401029ffa3b0a271f73d13ee39815d8ba2ed15df644150c1891f03"
   }
  }
 },
 "nbformat": 4,
 "nbformat_minor": 5
}
