{
 "cells": [
  {
   "cell_type": "markdown",
   "id": "27441829-3bf0-45fd-8d7a-dafaf6947fad",
   "metadata": {},
   "source": [
    "# Company Problem"
   ]
  },
  {
   "cell_type": "markdown",
   "id": "fb7d5965-a607-4107-97fa-2039ece0fc5d",
   "metadata": {},
   "source": [
    "In this notebook, our goal is to familiarize you with Logica while also enabling you to contrast Logica with SQL."
   ]
  },
  {
   "cell_type": "markdown",
   "id": "ea2bb6a1-4751-431e-a25f-8e21b55df47f",
   "metadata": {},
   "source": [
    "### Package Installation"
   ]
  },
  {
   "cell_type": "markdown",
   "id": "e1405820-19cd-47d4-be87-a88776845db2",
   "metadata": {},
   "source": [
    "First-time users need to install the following packages"
   ]
  },
  {
   "cell_type": "code",
   "execution_count": null,
   "id": "3ff4af4b-e77e-46fe-9855-bda28e33068d",
   "metadata": {},
   "outputs": [],
   "source": [
    "# !python3 -m pip install logica\n",
    "# !python3 -m pip install pandas\n",
    "# !pip install ipython-sql"
   ]
  },
  {
   "cell_type": "markdown",
   "id": "2e3f5043-7460-4779-b370-b5b7c26dc1aa",
   "metadata": {},
   "source": [
    "After running the cell above, please restart the kernel to move on"
   ]
  },
  {
   "cell_type": "markdown",
   "id": "d5336421-0f54-4e6b-bfa0-17aec63b9c7f",
   "metadata": {},
   "source": [
    "### Package Import"
   ]
  },
  {
   "cell_type": "markdown",
   "id": "07f5ff1f-ff73-48b9-a421-7dc7677e17db",
   "metadata": {},
   "source": [
    "You can disregard the message when executing the cell below"
   ]
  },
  {
   "cell_type": "code",
   "execution_count": null,
   "id": "bdc4b02a-6333-4ba6-8e4b-2db8c9c69195",
   "metadata": {},
   "outputs": [],
   "source": [
    "from logica import colab_logica\n",
    "import pandas as pd\n",
    "import sqlite3"
   ]
  },
  {
   "cell_type": "code",
   "execution_count": null,
   "id": "a3dca9da-8207-47a2-ac26-cb9760710cae",
   "metadata": {},
   "outputs": [],
   "source": [
    "colab_logica.SetPreamble(\n",
    "    '@Engine(\"sqlite\"); @AttachDatabase(\"mydata\", \"my_database.db\");'\n",
    ")"
   ]
  },
  {
   "cell_type": "code",
   "execution_count": null,
   "id": "e3c7e1d4-c95c-4a1f-82c2-9e3201d0d011",
   "metadata": {},
   "outputs": [],
   "source": [
    "%load_ext sql"
   ]
  },
  {
   "cell_type": "markdown",
   "id": "45392a18-e405-49e4-9c33-7aff747f0be7",
   "metadata": {},
   "source": [
    "### Database Creation"
   ]
  },
  {
   "cell_type": "markdown",
   "id": "d068c2f8-4acc-478b-b3f0-00064c481c56",
   "metadata": {},
   "source": [
    "Logica is typically run on a database. Since we only possess CSV files, we need first create a database."
   ]
  },
  {
   "cell_type": "code",
   "execution_count": null,
   "id": "0d5b18f1-d4d2-4637-afb7-31932fb6340d",
   "metadata": {},
   "outputs": [],
   "source": [
    "Dep = pd.read_csv(\"datasets/Department.csv\")\n",
    "Dpd = pd.read_csv(\"datasets/Dependent.csv\")\n",
    "Dep_loc = pd.read_csv(\"datasets/Dept_Location.csv\")\n",
    "Emp = pd.read_csv(\"datasets/Employee.csv\", dtype={\"Super_ssn\": \"str\"})\n",
    "Proj = pd.read_csv(\"datasets/Project.csv\")\n",
    "Works_On = pd.read_csv(\"datasets/Works_On.csv\", dtype={\"Pno\": \"str\"})"
   ]
  },
  {
   "cell_type": "code",
   "execution_count": null,
   "id": "78ac9632-f8a9-4810-8ba1-2f65dc00f408",
   "metadata": {},
   "outputs": [],
   "source": [
    "Dep.columns = Dep.columns.str.lower()\n",
    "Dpd.columns = Dpd.columns.str.lower()\n",
    "Dep_loc.columns = Dep_loc.columns.str.lower()\n",
    "Emp.columns = Emp.columns.str.lower()\n",
    "Proj.columns = Proj.columns.str.lower()\n",
    "Works_On.columns = Works_On.columns.str.lower()"
   ]
  },
  {
   "cell_type": "code",
   "execution_count": null,
   "id": "451fa7cb-d7c1-4717-a49f-0a843bb0de88",
   "metadata": {},
   "outputs": [],
   "source": [
    "conn = sqlite3.connect(\"my_database.db\")\n",
    "\n",
    "Dep.to_sql(\"Department\", conn, if_exists=\"replace\", index=False)\n",
    "Dpd.to_sql(\"Dependent\", conn, if_exists=\"replace\", index=False)\n",
    "Dep_loc.to_sql(\"Dept_Location\", conn, if_exists=\"replace\", index=False)\n",
    "Emp.to_sql(\"Employee\", conn, if_exists=\"replace\", index=False)\n",
    "Proj.to_sql(\"Project\", conn, if_exists=\"replace\", index=False)\n",
    "Works_On.to_sql(\"Works_On\", conn, if_exists=\"replace\", index=False)\n",
    "\n",
    "conn.close()"
   ]
  },
  {
   "cell_type": "markdown",
   "id": "013c1314-3656-4234-bb5a-a5f6f9a35180",
   "metadata": {},
   "source": [
    "### Queries"
   ]
  },
  {
   "cell_type": "markdown",
   "id": "b8299008-3486-4f67-bedb-cd9d77cf05c0",
   "metadata": {},
   "source": [
    "We've provided a range of queries, in SQL and Logica formats, sourced from the textbook \"FUNDAMENTALS OF Database Systems\". Consider these as your starting point. Enjoy!"
   ]
  },
  {
   "cell_type": "markdown",
   "id": "da79fee8",
   "metadata": {},
   "source": [
    "#### Query 0: Retrieve the birth date and address of the employee(s) whose name is 'John B. Smith'."
   ]
  },
  {
   "cell_type": "markdown",
   "id": "3a77d415",
   "metadata": {},
   "source": [
    "$\\mathrm{\\sigma_{Fname='John' \\land Minit='B' \\land Lname='Smith'}(EMPLOYEE)}$"
   ]
  },
  {
   "cell_type": "code",
   "execution_count": null,
   "id": "8daf6215",
   "metadata": {},
   "outputs": [],
   "source": [
    "%%sql sqlite:///my_database.db\n",
    "SELECT Bdate, Address\n",
    "FROM EMPLOYEE\n",
    "WHERE Fname='John' AND Minit='B' AND Lname='Smith'"
   ]
  },
  {
   "cell_type": "code",
   "execution_count": null,
   "id": "be8ede99-34f1-4522-8f10-df3704696e03",
   "metadata": {},
   "outputs": [],
   "source": [
    "%%logica JohnSmith\n",
    "\n",
    "JohnSmith(bdate:, address:) :- \n",
    "    Employee(bdate:, address:, fname:\"John\", minit:\"B\", lname:\"Smith\");"
   ]
  },
  {
   "cell_type": "markdown",
   "id": "962d3f77-b3fe-47f1-b11a-0c90f269297e",
   "metadata": {},
   "source": [
    "#### Query 1: Retrieve the name and address of all employees who work for the 'Research' department. "
   ]
  },
  {
   "cell_type": "markdown",
   "id": "87c18b8a",
   "metadata": {},
   "source": [
    "$\\mathrm{\\Pi_{Fname, Lname, Address}(\\sigma_{Dname='Research'}(DEPARTMENT\\bowtie_{Dnumber=Dno}(EMPLOYEE))}$"
   ]
  },
  {
   "cell_type": "code",
   "execution_count": null,
   "id": "92b9b590",
   "metadata": {},
   "outputs": [],
   "source": [
    "%%sql sqlite:///my_database.db\n",
    "SELECT Fname,Lname,Address\n",
    "FROM EMPLOYEE,DEPARTMENT\n",
    "WHERE Dname='Research' AND Dnumber=Dno;"
   ]
  },
  {
   "cell_type": "code",
   "execution_count": null,
   "id": "afb740b8-ef07-4dce-9df5-d6ac21597d9d",
   "metadata": {},
   "outputs": [],
   "source": [
    "%%logica ResearchDep\n",
    "\n",
    "ResearchDep(fname:, lname:, address:):- \n",
    "    Employee(fname:, lname:, address:, dno:), \n",
    "    Department(dname:\"Research\", dnumber:dno);"
   ]
  },
  {
   "cell_type": "markdown",
   "id": "81ccd6f9",
   "metadata": {},
   "source": [
    "#### Query 2: For every project located in 'Stafford', list the project number, the controlling department number, and the department manager's last name, address, and birth date. "
   ]
  },
  {
   "cell_type": "markdown",
   "id": "a2b6091f",
   "metadata": {},
   "source": [
    "$\\mathrm{\\Pi_{Pnumber,Dnum,Lname,Address,Bdate}(((\\sigma_{Plocation='Stafford'}(PROJECT))\n",
    "\\bowtie_{Dnum=Dnumber}(DEPARTMENT))\\bowtie_{Mgr\\_ssn=Ssn}(EMPLOYEE))}$"
   ]
  },
  {
   "cell_type": "code",
   "execution_count": null,
   "id": "5e821d05",
   "metadata": {},
   "outputs": [],
   "source": [
    "%%sql sqlite:///my_database.db\n",
    "Select Pnumber,Dnum,Lname,Address,Bdate\n",
    "From Project,Department,Employee\n",
    "Where Dnum=Dnumber And Mgr_ssn=Ssn And Plocation='Stafford'"
   ]
  },
  {
   "cell_type": "code",
   "execution_count": null,
   "id": "5e668d16",
   "metadata": {},
   "outputs": [],
   "source": [
    "%%logica StaffordProj\n",
    "\n",
    "StaffordProj(pnumber:, dnum:, lname:, address:, bdate:):-\n",
    "    Project(pnumber:, dnum:, plocation:\"Stafford\"), \n",
    "    Department(dnumber:dnum, mgr_ssn:),\n",
    "    Employee(lname:, address:, ssn:mgr_ssn, bdate:);"
   ]
  },
  {
   "cell_type": "markdown",
   "id": "0b106a70-83d7-4db1-803d-09b9c7d41b0e",
   "metadata": {},
   "source": [
    "#### Query 3: Who is the boss? The manager of the department that an employee works for!"
   ]
  },
  {
   "cell_type": "markdown",
   "id": "f808c240",
   "metadata": {},
   "source": [
    "$\\mathrm{\\Pi_{SSN, Lname, Address}(EMPLOYEE\\bowtie_{Super\\_Ssn=Ssn}(EMPLOYEE))}$"
   ]
  },
  {
   "cell_type": "code",
   "execution_count": null,
   "id": "812a668c-47c2-44be-acf7-9a38c2abfd1a",
   "metadata": {},
   "outputs": [],
   "source": [
    "%%sql sqlite:///my_database.db\n",
    "\n",
    "SELECT E.SSN as 'Employee', \n",
    "       M.SSN as 'Boss'\n",
    "FROM   Employee E, \n",
    "       Employee M\n",
    "WHERE E.Super_SSN = M.SSN\n",
    "ORDER BY M.SSN;"
   ]
  },
  {
   "cell_type": "code",
   "execution_count": null,
   "id": "ffd7ebc8-98c4-47f7-9e64-c8133c5e08ae",
   "metadata": {},
   "outputs": [],
   "source": [
    "%%logica EmpBoss\n",
    "\n",
    "EmpBoss(employee:ssn,boss:super_ssn):- \n",
    "    Employee(ssn:, super_ssn:),Employee(ssn:super_ssn);"
   ]
  },
  {
   "cell_type": "markdown",
   "id": "00ca3ef2",
   "metadata": {},
   "source": [
    "#### Query 4: Make a list of all project numbers for projects that involve an employee whose last name is ‘Smith’, either as a worker or as a manager of the department that controls the project."
   ]
  },
  {
   "cell_type": "markdown",
   "id": "db0c3d5d",
   "metadata": {},
   "source": [
    "$\\mathrm{SMITHS(Essn) \\leftarrow \\pi_{Ssn}(\\sigma_{Lname='Smith'}(EMPLOYEE))}$\n",
    "\n",
    "$\\mathrm{SMITH\\_WORKER\\_PROJS \\leftarrow \\pi_{Pno}(WORKS\\_ON) \\ast SMITHS}$\n",
    "\n",
    "$\\mathrm{MGRS \\leftarrow \\pi_{Lname,Dnumber}(EMPLOYEE \\bowtie_{Ssn=Mgr\\_ssn}DEPARTMENT)}$\n",
    "\n",
    "$\\mathrm{SMITH\\_MANAGED\\_DEPTS(Dnum) \\leftarrow \\pi_{Dnumber}(\\sigma_{Lname='Smith'}(MGRS))}$\n",
    "\n",
    "$\\mathrm{SMITH\\_MANAGED\\_PROJS(Pno) \\leftarrow \\pi_{Pnumber}(SMITH\\_MANAGED\\_DEPTS * PROJECT)}$\n",
    "\n",
    "$\\mathrm{RESULT \\leftarrow (SMITH\\_WORKER\\_PROJS \\cup SMITH\\_MANAGED\\_PROJS)}$"
   ]
  },
  {
   "cell_type": "code",
   "execution_count": null,
   "id": "1821a67c",
   "metadata": {},
   "outputs": [],
   "source": [
    "%%sql sqlite:///my_database.db\n",
    "\n",
    "SELECT DISTINCT P.Pnumber\n",
    "FROM Project AS P\n",
    "JOIN Department AS D ON P.Dnum = D.Dnumber\n",
    "JOIN Employee AS E ON D.Mgr_ssn = E.ssn\n",
    "WHERE E.Lname = 'Smith'\n",
    "\n",
    "UNION\n",
    "\n",
    "SELECT DISTINCT P.Pnumber\n",
    "FROM Project AS P\n",
    "JOIN Works_on AS W ON P.Pnumber = W.Pno\n",
    "JOIN Employee AS E ON W.Essn = E.Ssn\n",
    "WHERE E.Lname = 'Smith'"
   ]
  },
  {
   "cell_type": "code",
   "execution_count": null,
   "id": "8b604956-754a-4d2f-b343-c950c13cc781",
   "metadata": {},
   "outputs": [],
   "source": [
    "%%logica SmithProj\n",
    "\n",
    "SmithProj(pnumber:pno):-\n",
    "    Works_On(essn:, pno:),\n",
    "    Employee(lname:\"Smith\",ssn:essn);\n",
    "    \n",
    "SmithProj(pnumber:):-\n",
    "    Project(pnumber:, dnum:),\n",
    "    Department(dnumber:dnum,mgr_ssn:),\n",
    "    Employee(ssn:mgr_ssn, lname:\"Smith\");"
   ]
  },
  {
   "cell_type": "markdown",
   "id": "635fc067",
   "metadata": {},
   "source": [
    "#### Query 5: For each employee, retrieve the employee’s first and last name and the first and last name of his or her immediate supervisor."
   ]
  },
  {
   "cell_type": "markdown",
   "id": "2f19f12d",
   "metadata": {},
   "source": [
    "$\\mathrm{\\Pi_{E\\_fname, E\\_lname, S\\_fname, S\\_lname}(EMPLOYEE\\bowtie_{Super\\_Ssn=Ssn}(EMPLOYEE))}$"
   ]
  },
  {
   "cell_type": "code",
   "execution_count": null,
   "id": "39aec0ce",
   "metadata": {},
   "outputs": [],
   "source": [
    "%%sql sqlite:///my_database.db\n",
    "\n",
    "SELECT E.Fname as E_fname, E.Lname as E_lname, S.Fname as S_fname, S.Lname as S_lname\n",
    "FROM EMPLOYEE AS E, EMPLOYEE AS S\n",
    "WHERE E.Super_ssn = S.Ssn;"
   ]
  },
  {
   "cell_type": "code",
   "execution_count": null,
   "id": "15064cab-3ed1-49de-bf38-b9760dac6110",
   "metadata": {},
   "outputs": [],
   "source": [
    "%%logica EmpBossName\n",
    "\n",
    "EmpBossName(e_fname:x, e_lname:y, s_fname:m,s_lname:l):- \n",
    "    Employee(fname:x, lname:y,super_ssn:),\n",
    "    Employee(fname:m, lname:l,Ssn:super_ssn);"
   ]
  },
  {
   "cell_type": "markdown",
   "id": "f89c9dca",
   "metadata": {},
   "source": [
    "#### Query 6: Select all combinations of EMPLOYEE Ssn and DEPARTMENT Dname (Q10) in the database"
   ]
  },
  {
   "cell_type": "markdown",
   "id": "ddceff38",
   "metadata": {},
   "source": [
    "$\\mathrm{\\sigma_{Ssn, Dname}EMPLOYEE \\times DEPARTMENT}$"
   ]
  },
  {
   "cell_type": "code",
   "execution_count": null,
   "id": "6e4f4cbc",
   "metadata": {},
   "outputs": [],
   "source": [
    "%%sql sqlite:///my_database.db\n",
    "    \n",
    "SELECT Ssn, Dname\n",
    "FROM EMPLOYEE, DEPARTMENT"
   ]
  },
  {
   "cell_type": "code",
   "execution_count": null,
   "id": "821edcea",
   "metadata": {},
   "outputs": [],
   "source": [
    "%%logica SsnDname\n",
    "\n",
    "SsnDname(ssn:, dname:):-\n",
    "    Employee(ssn:), Department(dname:);"
   ]
  },
  {
   "cell_type": "markdown",
   "id": "4cccb388",
   "metadata": {},
   "source": [
    "#### Query 7: Show the resulting salaries if every employee working on the ‘ProductX’ project is given a 10% raise"
   ]
  },
  {
   "cell_type": "markdown",
   "id": "f66349b8",
   "metadata": {},
   "source": [
    "$\\mathrm{EMP\\_PROJX \\leftarrow \\sigma_{Pname='ProjectX'}(WORKS\\_ON \\bowtie_{Pno=Pnumber} PROJECT)}$\n",
    "\n",
    "$\\mathrm{RESULT(Fname, Lname, Increased\\_sal) \\leftarrow \\pi_{Fname, Lname, 1.1*Salary}(EMPLOYEE \\bowtie_{Ssn=Essn} EMP\\_PROJX)}$"
   ]
  },
  {
   "cell_type": "code",
   "execution_count": null,
   "id": "5442d558",
   "metadata": {},
   "outputs": [],
   "source": [
    "%%sql sqlite:///my_database.db\n",
    "    \n",
    "SELECT E.Fname, E.Lname, 1.1 * E.Salary AS Increased_sal\n",
    "FROM EMPLOYEE AS E, WORKS_ON AS W, PROJECT AS P\n",
    "WHERE E.Ssn = W.Essn AND W.Pno = P.Pnumber AND\n",
    "P.Pname = 'ProductX';"
   ]
  },
  {
   "cell_type": "code",
   "execution_count": null,
   "id": "fde82442-b31e-4ad9-9bdc-bc78361b19cc",
   "metadata": {},
   "outputs": [],
   "source": [
    "%%logica IncreSal\n",
    "\n",
    "IncreSal(fname:, lname:, increased_sal:salary*1.1):-\n",
    "    Employee(fname:, lname:,ssn:, salary:),\n",
    "    Works_On(essn:ssn, pno:), \n",
    "    Project(pname:\"ProductX\",pnumber:pno);"
   ]
  },
  {
   "cell_type": "markdown",
   "id": "d3e04720",
   "metadata": {},
   "source": [
    "## Logica Exercises"
   ]
  },
  {
   "cell_type": "markdown",
   "id": "53c90b69",
   "metadata": {},
   "source": [
    "#### Exercise: Week 9/Q4: Retrieve the name and address of all employees who work for the 'Administration' department. "
   ]
  },
  {
   "cell_type": "code",
   "execution_count": null,
   "id": "fd47981f",
   "metadata": {},
   "outputs": [],
   "source": [
    "%%logica Q4\n",
    "\n",
    "# Insert your logica query here\n",
    "Q4(Fname:fn, Lname:ln, Address:ad):-"
   ]
  },
  {
   "cell_type": "markdown",
   "id": "b9567b80",
   "metadata": {},
   "source": [
    "#### Exercise: Week 9/Q6: Retrieve the name of each employee who has a dependent with the same sex as the employee."
   ]
  },
  {
   "cell_type": "code",
   "execution_count": null,
   "id": "4805ee2a",
   "metadata": {},
   "outputs": [],
   "source": [
    "%%logica Q6\n",
    "\n",
    "# Insert your logica query here\n",
    "Q6(Fname:fn, Lname:ln, Dependent_name:dn):-"
   ]
  }
 ],
 "metadata": {
  "kernelspec": {
   "display_name": "Python 3 (ipykernel)",
   "language": "python",
   "name": "python3"
  },
  "language_info": {
   "codemirror_mode": {
    "name": "ipython",
    "version": 3
   },
   "file_extension": ".py",
   "mimetype": "text/x-python",
   "name": "python",
   "nbconvert_exporter": "python",
   "pygments_lexer": "ipython3",
   "version": "3.11.3"
  },
  "vscode": {
   "interpreter": {
    "hash": "8b7eedf106401029ffa3b0a271f73d13ee39815d8ba2ed15df644150c1891f03"
   }
  }
 },
 "nbformat": 4,
 "nbformat_minor": 5
}
