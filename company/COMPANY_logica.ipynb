{
 "cells": [
  {
   "cell_type": "markdown",
   "id": "27441829-3bf0-45fd-8d7a-dafaf6947fad",
   "metadata": {},
   "source": [
    "# Company Problem"
   ]
  },
  {
   "cell_type": "markdown",
   "id": "fb7d5965-a607-4107-97fa-2039ece0fc5d",
   "metadata": {},
   "source": [
    "In this notebook, our goal is to familiarize you with Logica while also enabling you to contrast Logica with SQL."
   ]
  },
  {
   "cell_type": "markdown",
   "id": "d5336421-0f54-4e6b-bfa0-17aec63b9c7f",
   "metadata": {},
   "source": [
    "### Package Import"
   ]
  },
  {
   "cell_type": "markdown",
   "id": "07f5ff1f-ff73-48b9-a421-7dc7677e17db",
   "metadata": {},
   "source": [
    "You can disregard the message when executing the cell below"
   ]
  },
  {
   "cell_type": "code",
   "execution_count": 1,
   "id": "bdc4b02a-6333-4ba6-8e4b-2db8c9c69195",
   "metadata": {},
   "outputs": [
    {
     "name": "stdout",
     "output_type": "stream",
     "text": [
      "Could not import google.cloud.bigquery.\n",
      "Could not import google.cloud.auth.\n",
      "Could not import google.colab.widgets.\n"
     ]
    }
   ],
   "source": [
    "from logica import colab_logica\n",
    "import pandas as pd\n",
    "import sqlite3"
   ]
  },
  {
   "cell_type": "code",
   "execution_count": 2,
   "id": "e3c7e1d4-c95c-4a1f-82c2-9e3201d0d011",
   "metadata": {},
   "outputs": [],
   "source": [
    "%load_ext sql"
   ]
  },
  {
   "cell_type": "markdown",
   "id": "45392a18-e405-49e4-9c33-7aff747f0be7",
   "metadata": {},
   "source": [
    "### Database Creation"
   ]
  },
  {
   "cell_type": "markdown",
   "id": "d068c2f8-4acc-478b-b3f0-00064c481c56",
   "metadata": {},
   "source": [
    "Logica is typically run on a database. Since we only possess CSV files, we need first create a database."
   ]
  },
  {
   "cell_type": "code",
   "execution_count": 3,
   "id": "0d5b18f1-d4d2-4637-afb7-31932fb6340d",
   "metadata": {},
   "outputs": [],
   "source": [
    "Dep=pd.read_csv(\"datasets/Department.csv\")\n",
    "Dpd=pd.read_csv(\"datasets/Dependent.csv\")\n",
    "Dep_loc=pd.read_csv(\"datasets/Dept_Location.csv\")\n",
    "Emp=pd.read_csv(\"datasets/Employee.csv\")\n",
    "Proj=pd.read_csv(\"datasets/Project.csv\")\n",
    "Works_On=pd.read_csv(\"datasets/Works_On.csv\")"
   ]
  },
  {
   "cell_type": "code",
   "execution_count": 4,
   "id": "451fa7cb-d7c1-4717-a49f-0a843bb0de88",
   "metadata": {},
   "outputs": [],
   "source": [
    "conn = sqlite3.connect('my_database.db')\n",
    "\n",
    "Dep.to_sql('Department', conn, if_exists='replace', index=False)\n",
    "Dpd.to_sql('Dependent', conn, if_exists='replace', index=False)\n",
    "Dep_loc.to_sql('Dept_Location', conn, if_exists='replace', index=False)\n",
    "Emp.to_sql('Employee', conn, if_exists='replace', index=False)\n",
    "Proj.to_sql('Project', conn, if_exists='replace', index=False)\n",
    "Works_On.to_sql('Works_On', conn, if_exists='replace', index=False)\n",
    "\n",
    "conn.close()"
   ]
  },
  {
   "cell_type": "markdown",
   "id": "013c1314-3656-4234-bb5a-a5f6f9a35180",
   "metadata": {},
   "source": [
    "### Queries"
   ]
  },
  {
   "cell_type": "markdown",
   "id": "b8299008-3486-4f67-bedb-cd9d77cf05c0",
   "metadata": {},
   "source": [
    "We've provided a range of queries, in SQL and Logica formats, sourced from the textbook \"FUNDAMENTALS OF Database Systems\". Consider these as your starting point. Enjoy!"
   ]
  },
  {
   "cell_type": "markdown",
   "id": "da79fee8",
   "metadata": {},
   "source": [
    "#### Query 0: Retrieve the birth date and address of the employee(s) whose name is 'John B. Smith'."
   ]
  },
  {
   "cell_type": "markdown",
   "id": "3a77d415",
   "metadata": {},
   "source": [
    "$\\mathrm{\\sigma_{Fname='John' \\land Minit='B' \\land Lname='Smith'}(EMPLOYEE)}$"
   ]
  },
  {
   "cell_type": "code",
   "execution_count": 5,
   "id": "8daf6215",
   "metadata": {},
   "outputs": [
    {
     "name": "stdout",
     "output_type": "stream",
     "text": [
      "Done.\n"
     ]
    },
    {
     "data": {
      "text/html": [
       "<table>\n",
       "    <thead>\n",
       "        <tr>\n",
       "            <th>Bdate</th>\n",
       "            <th>Address</th>\n",
       "        </tr>\n",
       "    </thead>\n",
       "    <tbody>\n",
       "        <tr>\n",
       "            <td>1965-01-09</td>\n",
       "            <td>731 Fondren,Houston,TX</td>\n",
       "        </tr>\n",
       "    </tbody>\n",
       "</table>"
      ],
      "text/plain": [
       "[('1965-01-09', '731 Fondren,Houston,TX')]"
      ]
     },
     "execution_count": 5,
     "metadata": {},
     "output_type": "execute_result"
    }
   ],
   "source": [
    "%%sql sqlite:///my_database.db\n",
    "SELECT Bdate, Address\n",
    "FROM EMPLOYEE\n",
    "WHERE Fname='John' AND Minit='B' AND Lname='Smith'"
   ]
  },
  {
   "cell_type": "code",
   "execution_count": 6,
   "id": "b1479d8d",
   "metadata": {},
   "outputs": [
    {
     "name": "stdout",
     "output_type": "stream",
     "text": [
      "Query is stored at \u001b[1mQ0_Result_sql\u001b[0m variable.\n"
     ]
    },
    {
     "data": {
      "image/svg+xml": [
       "<?xml version=\"1.0\" encoding=\"UTF-8\" standalone=\"no\"?>\n",
       "<!DOCTYPE svg PUBLIC \"-//W3C//DTD SVG 1.1//EN\"\n",
       " \"http://www.w3.org/Graphics/SVG/1.1/DTD/svg11.dtd\">\n",
       "<!-- Generated by graphviz version 2.43.0 (0)\n",
       " -->\n",
       "<!-- Title: Concertina Pages: 1 -->\n",
       "<svg width=\"172pt\" height=\"116pt\"\n",
       " viewBox=\"0.00 0.00 171.61 116.00\" xmlns=\"http://www.w3.org/2000/svg\" xmlns:xlink=\"http://www.w3.org/1999/xlink\">\n",
       "<g id=\"graph0\" class=\"graph\" transform=\"scale(1 1) rotate(0) translate(4 112)\">\n",
       "<title>Concertina</title>\n",
       "<polygon fill=\"white\" stroke=\"transparent\" points=\"-4,4 -4,-112 167.61,-112 167.61,4 -4,4\"/>\n",
       "<!-- Employee -->\n",
       "<g id=\"node1\" class=\"node\">\n",
       "<title>Employee</title>\n",
       "<path fill=\"#b0e2ff\" stroke=\"#575757\" d=\"M125.3,-104.73C125.3,-106.53 105.81,-108 81.8,-108 57.8,-108 38.3,-106.53 38.3,-104.73 38.3,-104.73 38.3,-75.27 38.3,-75.27 38.3,-73.47 57.8,-72 81.8,-72 105.81,-72 125.3,-73.47 125.3,-75.27 125.3,-75.27 125.3,-104.73 125.3,-104.73\"/>\n",
       "<path fill=\"none\" stroke=\"#575757\" d=\"M125.3,-104.73C125.3,-102.92 105.81,-101.45 81.8,-101.45 57.8,-101.45 38.3,-102.92 38.3,-104.73\"/>\n",
       "<text text-anchor=\"middle\" x=\"81.8\" y=\"-86.3\" font-family=\"Times,serif\" font-size=\"14.00\">Employee</text>\n",
       "</g>\n",
       "<!-- Q0_Result -->\n",
       "<g id=\"node2\" class=\"node\">\n",
       "<title>Q0_Result</title>\n",
       "<path fill=\"#caff70\" stroke=\"#575757\" d=\"M70.09,-33.42C70.09,-33.42 11.91,-20.58 11.91,-20.58 6.05,-19.29 6.05,-16.71 11.91,-15.42 11.91,-15.42 70.09,-2.58 70.09,-2.58 75.95,-1.29 87.66,-1.29 93.52,-2.58 93.52,-2.58 151.7,-15.42 151.7,-15.42 157.56,-16.71 157.56,-19.29 151.7,-20.58 151.7,-20.58 93.52,-33.42 93.52,-33.42 87.66,-34.71 75.95,-34.71 70.09,-33.42\"/>\n",
       "<text text-anchor=\"middle\" x=\"81.8\" y=\"-14.3\" font-family=\"Times,serif\" font-size=\"14.00\">Q0_Result</text>\n",
       "</g>\n",
       "<!-- Employee&#45;&gt;Q0_Result -->\n",
       "<g id=\"edge1\" class=\"edge\">\n",
       "<title>Employee&#45;&gt;Q0_Result</title>\n",
       "<path fill=\"none\" stroke=\"black\" d=\"M81.8,-71.7C81.8,-63.98 81.8,-54.71 81.8,-46.11\"/>\n",
       "<polygon fill=\"black\" stroke=\"black\" points=\"85.31,-46.1 81.8,-36.1 78.31,-46.1 85.31,-46.1\"/>\n",
       "</g>\n",
       "</g>\n",
       "</svg>\n"
      ],
      "text/plain": [
       "<graphviz.graphs.Digraph at 0x7fef25ed5ac0>"
      ]
     },
     "metadata": {},
     "output_type": "display_data"
    },
    {
     "name": "stdout",
     "output_type": "stream",
     "text": [
      "Running predicate: Q0_Result (1 ms)\n",
      "The following table is stored at \u001b[1mQ0_Result\u001b[0m variable.\n"
     ]
    },
    {
     "data": {
      "text/html": [
       "<div>\n",
       "<style scoped>\n",
       "    .dataframe tbody tr th:only-of-type {\n",
       "        vertical-align: middle;\n",
       "    }\n",
       "\n",
       "    .dataframe tbody tr th {\n",
       "        vertical-align: top;\n",
       "    }\n",
       "\n",
       "    .dataframe thead th {\n",
       "        text-align: right;\n",
       "    }\n",
       "</style>\n",
       "<table border=\"1\" class=\"dataframe\">\n",
       "  <thead>\n",
       "    <tr style=\"text-align: right;\">\n",
       "      <th></th>\n",
       "      <th>Bdate</th>\n",
       "      <th>Address</th>\n",
       "    </tr>\n",
       "  </thead>\n",
       "  <tbody>\n",
       "    <tr>\n",
       "      <th>0</th>\n",
       "      <td>1965-01-09</td>\n",
       "      <td>731 Fondren,Houston,TX</td>\n",
       "    </tr>\n",
       "  </tbody>\n",
       "</table>\n",
       "</div>"
      ],
      "text/plain": [
       "        Bdate                 Address\n",
       "0  1965-01-09  731 Fondren,Houston,TX"
      ]
     },
     "metadata": {},
     "output_type": "display_data"
    },
    {
     "name": "stdout",
     "output_type": "stream",
     "text": [
      " \n"
     ]
    }
   ],
   "source": [
    "%%logica Q0_Result\n",
    "@Engine(\"sqlite\");\n",
    "@AttachDatabase(\"mydata\", \"my_database.db\");\n",
    "\n",
    "Q0_Result(Bdate:x, Address:y) :- \n",
    "    Employee(Bdate:x, Address:y, Fname:\"John\", Minit:\"B\", Lname:\"Smith\");"
   ]
  },
  {
   "cell_type": "markdown",
   "id": "962d3f77-b3fe-47f1-b11a-0c90f269297e",
   "metadata": {},
   "source": [
    "#### Query 1: Retrieve the name and address of all employees who work for the 'Research' department. "
   ]
  },
  {
   "cell_type": "markdown",
   "id": "87c18b8a",
   "metadata": {},
   "source": [
    "$\\mathrm{\\Pi_{Fname, Lname, Address}(\\sigma_{Dname='Research'}(DEPARTMENT\\bowtie_{Dnumber=Dno}(EMPLOYEE))}$"
   ]
  },
  {
   "cell_type": "code",
   "execution_count": 7,
   "id": "92b9b590",
   "metadata": {},
   "outputs": [
    {
     "name": "stdout",
     "output_type": "stream",
     "text": [
      "Done.\n"
     ]
    },
    {
     "data": {
      "text/html": [
       "<table>\n",
       "    <thead>\n",
       "        <tr>\n",
       "            <th>Fname</th>\n",
       "            <th>Lname</th>\n",
       "            <th>Address</th>\n",
       "        </tr>\n",
       "    </thead>\n",
       "    <tbody>\n",
       "        <tr>\n",
       "            <td>Franklin</td>\n",
       "            <td>Wong</td>\n",
       "            <td>638 Voss,Houston,TX</td>\n",
       "        </tr>\n",
       "        <tr>\n",
       "            <td>John</td>\n",
       "            <td>Smith</td>\n",
       "            <td>731 Fondren,Houston,TX</td>\n",
       "        </tr>\n",
       "        <tr>\n",
       "            <td>Joyce</td>\n",
       "            <td>English</td>\n",
       "            <td>5631 Rice,Houston,TX</td>\n",
       "        </tr>\n",
       "        <tr>\n",
       "            <td>Ramesh</td>\n",
       "            <td>Narayan</td>\n",
       "            <td>975 Fire Oak,Humble,TX</td>\n",
       "        </tr>\n",
       "    </tbody>\n",
       "</table>"
      ],
      "text/plain": [
       "[('Franklin', 'Wong', '638 Voss,Houston,TX'),\n",
       " ('John', 'Smith', '731 Fondren,Houston,TX'),\n",
       " ('Joyce', 'English', '5631 Rice,Houston,TX'),\n",
       " ('Ramesh', 'Narayan', '975 Fire Oak,Humble,TX')]"
      ]
     },
     "execution_count": 7,
     "metadata": {},
     "output_type": "execute_result"
    }
   ],
   "source": [
    "%%sql sqlite:///my_database.db\n",
    "SELECT Fname,Lname,Address\n",
    "FROM EMPLOYEE,DEPARTMENT\n",
    "WHERE Dname='Research' AND Dnumber=Dno;"
   ]
  },
  {
   "cell_type": "code",
   "execution_count": 8,
   "id": "afb740b8-ef07-4dce-9df5-d6ac21597d9d",
   "metadata": {},
   "outputs": [
    {
     "name": "stdout",
     "output_type": "stream",
     "text": [
      "Query is stored at \u001b[1mQ1_Result_sql\u001b[0m variable.\n"
     ]
    },
    {
     "data": {
      "image/svg+xml": [
       "<?xml version=\"1.0\" encoding=\"UTF-8\" standalone=\"no\"?>\n",
       "<!DOCTYPE svg PUBLIC \"-//W3C//DTD SVG 1.1//EN\"\n",
       " \"http://www.w3.org/Graphics/SVG/1.1/DTD/svg11.dtd\">\n",
       "<!-- Generated by graphviz version 2.43.0 (0)\n",
       " -->\n",
       "<!-- Title: Concertina Pages: 1 -->\n",
       "<svg width=\"216pt\" height=\"116pt\"\n",
       " viewBox=\"0.00 0.00 216.00 116.00\" xmlns=\"http://www.w3.org/2000/svg\" xmlns:xlink=\"http://www.w3.org/1999/xlink\">\n",
       "<g id=\"graph0\" class=\"graph\" transform=\"scale(1 1) rotate(0) translate(4 112)\">\n",
       "<title>Concertina</title>\n",
       "<polygon fill=\"white\" stroke=\"transparent\" points=\"-4,4 -4,-112 212,-112 212,4 -4,4\"/>\n",
       "<!-- Q1_Result -->\n",
       "<g id=\"node1\" class=\"node\">\n",
       "<title>Q1_Result</title>\n",
       "<path fill=\"#caff70\" stroke=\"#575757\" d=\"M87.78,-33.42C87.78,-33.42 29.61,-20.58 29.61,-20.58 23.75,-19.29 23.75,-16.71 29.61,-15.42 29.61,-15.42 87.78,-2.58 87.78,-2.58 93.64,-1.29 105.36,-1.29 111.22,-2.58 111.22,-2.58 169.39,-15.42 169.39,-15.42 175.25,-16.71 175.25,-19.29 169.39,-20.58 169.39,-20.58 111.22,-33.42 111.22,-33.42 105.36,-34.71 93.64,-34.71 87.78,-33.42\"/>\n",
       "<text text-anchor=\"middle\" x=\"99.5\" y=\"-14.3\" font-family=\"Times,serif\" font-size=\"14.00\">Q1_Result</text>\n",
       "</g>\n",
       "<!-- Employee -->\n",
       "<g id=\"node2\" class=\"node\">\n",
       "<title>Employee</title>\n",
       "<path fill=\"#b0e2ff\" stroke=\"#575757\" d=\"M87,-104.73C87,-106.53 67.5,-108 43.5,-108 19.5,-108 0,-106.53 0,-104.73 0,-104.73 0,-75.27 0,-75.27 0,-73.47 19.5,-72 43.5,-72 67.5,-72 87,-73.47 87,-75.27 87,-75.27 87,-104.73 87,-104.73\"/>\n",
       "<path fill=\"none\" stroke=\"#575757\" d=\"M87,-104.73C87,-102.92 67.5,-101.45 43.5,-101.45 19.5,-101.45 0,-102.92 0,-104.73\"/>\n",
       "<text text-anchor=\"middle\" x=\"43.5\" y=\"-86.3\" font-family=\"Times,serif\" font-size=\"14.00\">Employee</text>\n",
       "</g>\n",
       "<!-- Employee&#45;&gt;Q1_Result -->\n",
       "<g id=\"edge1\" class=\"edge\">\n",
       "<title>Employee&#45;&gt;Q1_Result</title>\n",
       "<path fill=\"none\" stroke=\"black\" d=\"M57.34,-71.7C64.56,-62.68 73.47,-51.53 81.25,-41.82\"/>\n",
       "<polygon fill=\"black\" stroke=\"black\" points=\"84.2,-43.73 87.71,-33.74 78.73,-39.36 84.2,-43.73\"/>\n",
       "</g>\n",
       "<!-- Department -->\n",
       "<g id=\"node3\" class=\"node\">\n",
       "<title>Department</title>\n",
       "<path fill=\"#b0e2ff\" stroke=\"#575757\" d=\"M208,-104.73C208,-106.53 184.92,-108 156.5,-108 128.08,-108 105,-106.53 105,-104.73 105,-104.73 105,-75.27 105,-75.27 105,-73.47 128.08,-72 156.5,-72 184.92,-72 208,-73.47 208,-75.27 208,-75.27 208,-104.73 208,-104.73\"/>\n",
       "<path fill=\"none\" stroke=\"#575757\" d=\"M208,-104.73C208,-102.92 184.92,-101.45 156.5,-101.45 128.08,-101.45 105,-102.92 105,-104.73\"/>\n",
       "<text text-anchor=\"middle\" x=\"156.5\" y=\"-86.3\" font-family=\"Times,serif\" font-size=\"14.00\">Department</text>\n",
       "</g>\n",
       "<!-- Department&#45;&gt;Q1_Result -->\n",
       "<g id=\"edge2\" class=\"edge\">\n",
       "<title>Department&#45;&gt;Q1_Result</title>\n",
       "<path fill=\"none\" stroke=\"black\" d=\"M142.41,-71.7C134.99,-62.59 125.81,-51.31 117.84,-41.52\"/>\n",
       "<polygon fill=\"black\" stroke=\"black\" points=\"120.53,-39.28 111.5,-33.74 115.1,-43.7 120.53,-39.28\"/>\n",
       "</g>\n",
       "</g>\n",
       "</svg>\n"
      ],
      "text/plain": [
       "<graphviz.graphs.Digraph at 0x7fef25f2b640>"
      ]
     },
     "metadata": {},
     "output_type": "display_data"
    },
    {
     "name": "stdout",
     "output_type": "stream",
     "text": [
      "Running predicate: Q1_Result (1 ms)\n",
      "The following table is stored at \u001b[1mQ1_Result\u001b[0m variable.\n"
     ]
    },
    {
     "data": {
      "text/html": [
       "<div>\n",
       "<style scoped>\n",
       "    .dataframe tbody tr th:only-of-type {\n",
       "        vertical-align: middle;\n",
       "    }\n",
       "\n",
       "    .dataframe tbody tr th {\n",
       "        vertical-align: top;\n",
       "    }\n",
       "\n",
       "    .dataframe thead th {\n",
       "        text-align: right;\n",
       "    }\n",
       "</style>\n",
       "<table border=\"1\" class=\"dataframe\">\n",
       "  <thead>\n",
       "    <tr style=\"text-align: right;\">\n",
       "      <th></th>\n",
       "      <th>Fname</th>\n",
       "      <th>Lname</th>\n",
       "      <th>address</th>\n",
       "    </tr>\n",
       "  </thead>\n",
       "  <tbody>\n",
       "    <tr>\n",
       "      <th>0</th>\n",
       "      <td>Franklin</td>\n",
       "      <td>Wong</td>\n",
       "      <td>638 Voss,Houston,TX</td>\n",
       "    </tr>\n",
       "    <tr>\n",
       "      <th>1</th>\n",
       "      <td>John</td>\n",
       "      <td>Smith</td>\n",
       "      <td>731 Fondren,Houston,TX</td>\n",
       "    </tr>\n",
       "    <tr>\n",
       "      <th>2</th>\n",
       "      <td>Joyce</td>\n",
       "      <td>English</td>\n",
       "      <td>5631 Rice,Houston,TX</td>\n",
       "    </tr>\n",
       "    <tr>\n",
       "      <th>3</th>\n",
       "      <td>Ramesh</td>\n",
       "      <td>Narayan</td>\n",
       "      <td>975 Fire Oak,Humble,TX</td>\n",
       "    </tr>\n",
       "  </tbody>\n",
       "</table>\n",
       "</div>"
      ],
      "text/plain": [
       "      Fname    Lname                 address\n",
       "0  Franklin     Wong     638 Voss,Houston,TX\n",
       "1      John    Smith  731 Fondren,Houston,TX\n",
       "2     Joyce  English    5631 Rice,Houston,TX\n",
       "3    Ramesh  Narayan  975 Fire Oak,Humble,TX"
      ]
     },
     "metadata": {},
     "output_type": "display_data"
    },
    {
     "name": "stdout",
     "output_type": "stream",
     "text": [
      " \n"
     ]
    }
   ],
   "source": [
    "%%logica Q1_Result\n",
    "@Engine(\"sqlite\");\n",
    "@AttachDatabase(\"mydata\", \"my_database.db\");\n",
    "\n",
    "\n",
    "Q1_Result(Fname:fn, Lname:ln, address:add):- \n",
    "    Employee(Fname:fn, Lname:ln, Address:add, Dno:x), \n",
    "    Department(Dname:\"Research\", Dnumber:y),\n",
    "    x=y;"
   ]
  },
  {
   "cell_type": "markdown",
   "id": "81ccd6f9",
   "metadata": {},
   "source": [
    "#### Query 2: For every project located in 'Stafford', list the project number, the controlling department number, and the department manager's last name, address, and birth date. "
   ]
  },
  {
   "cell_type": "markdown",
   "id": "a2b6091f",
   "metadata": {},
   "source": [
    "$\\mathrm{\\Pi_{Pnumber,Dnum,Lname,Address,Bdate}(((\\sigma_{Plocation='Stafford'}(PROJECT))\n",
    "\\bowtie_{Dnum=Dnumber}(DEPARTMENT))\\bowtie_{Mgr\\_ssn=Ssn}(EMPLOYEE))}$"
   ]
  },
  {
   "cell_type": "code",
   "execution_count": 9,
   "id": "5e821d05",
   "metadata": {},
   "outputs": [
    {
     "name": "stdout",
     "output_type": "stream",
     "text": [
      "Done.\n"
     ]
    },
    {
     "data": {
      "text/html": [
       "<table>\n",
       "    <thead>\n",
       "        <tr>\n",
       "            <th>Pnumber</th>\n",
       "            <th>Dnum</th>\n",
       "            <th>Lname</th>\n",
       "            <th>Address</th>\n",
       "            <th>Bdate</th>\n",
       "        </tr>\n",
       "    </thead>\n",
       "    <tbody>\n",
       "        <tr>\n",
       "            <td>10</td>\n",
       "            <td>4</td>\n",
       "            <td>Wallace</td>\n",
       "            <td>291 Berry,Bellaire,TX</td>\n",
       "            <td>1941-06-20</td>\n",
       "        </tr>\n",
       "        <tr>\n",
       "            <td>30</td>\n",
       "            <td>4</td>\n",
       "            <td>Wallace</td>\n",
       "            <td>291 Berry,Bellaire,TX</td>\n",
       "            <td>1941-06-20</td>\n",
       "        </tr>\n",
       "    </tbody>\n",
       "</table>"
      ],
      "text/plain": [
       "[(10, 4, 'Wallace', '291 Berry,Bellaire,TX', '1941-06-20'),\n",
       " (30, 4, 'Wallace', '291 Berry,Bellaire,TX', '1941-06-20')]"
      ]
     },
     "execution_count": 9,
     "metadata": {},
     "output_type": "execute_result"
    }
   ],
   "source": [
    "%%sql sqlite:///my_database.db\n",
    "Select Pnumber,Dnum,Lname,Address,Bdate\n",
    "From Project,Department,Employee\n",
    "Where Dnum=Dnumber And Mgr_ssn=Ssn And Plocation='Stafford'"
   ]
  },
  {
   "cell_type": "code",
   "execution_count": 10,
   "id": "5e668d16",
   "metadata": {},
   "outputs": [
    {
     "name": "stdout",
     "output_type": "stream",
     "text": [
      "Query is stored at \u001b[1mQ2_Result_sql\u001b[0m variable.\n"
     ]
    },
    {
     "data": {
      "image/svg+xml": [
       "<?xml version=\"1.0\" encoding=\"UTF-8\" standalone=\"no\"?>\n",
       "<!DOCTYPE svg PUBLIC \"-//W3C//DTD SVG 1.1//EN\"\n",
       " \"http://www.w3.org/Graphics/SVG/1.1/DTD/svg11.dtd\">\n",
       "<!-- Generated by graphviz version 2.43.0 (0)\n",
       " -->\n",
       "<!-- Title: Concertina Pages: 1 -->\n",
       "<svg width=\"303pt\" height=\"116pt\"\n",
       " viewBox=\"0.00 0.00 302.50 116.00\" xmlns=\"http://www.w3.org/2000/svg\" xmlns:xlink=\"http://www.w3.org/1999/xlink\">\n",
       "<g id=\"graph0\" class=\"graph\" transform=\"scale(1 1) rotate(0) translate(4 112)\">\n",
       "<title>Concertina</title>\n",
       "<polygon fill=\"white\" stroke=\"transparent\" points=\"-4,4 -4,-112 298.5,-112 298.5,4 -4,4\"/>\n",
       "<!-- Project -->\n",
       "<g id=\"node1\" class=\"node\">\n",
       "<title>Project</title>\n",
       "<path fill=\"#b0e2ff\" stroke=\"#575757\" d=\"M68,-104.73C68,-106.53 52.76,-108 34,-108 15.24,-108 0,-106.53 0,-104.73 0,-104.73 0,-75.27 0,-75.27 0,-73.47 15.24,-72 34,-72 52.76,-72 68,-73.47 68,-75.27 68,-75.27 68,-104.73 68,-104.73\"/>\n",
       "<path fill=\"none\" stroke=\"#575757\" d=\"M68,-104.73C68,-102.92 52.76,-101.45 34,-101.45 15.24,-101.45 0,-102.92 0,-104.73\"/>\n",
       "<text text-anchor=\"middle\" x=\"34\" y=\"-86.3\" font-family=\"Times,serif\" font-size=\"14.00\">Project</text>\n",
       "</g>\n",
       "<!-- Q2_Result -->\n",
       "<g id=\"node4\" class=\"node\">\n",
       "<title>Q2_Result</title>\n",
       "<path fill=\"#caff70\" stroke=\"#575757\" d=\"M118.28,-33.42C118.28,-33.42 60.11,-20.58 60.11,-20.58 54.25,-19.29 54.25,-16.71 60.11,-15.42 60.11,-15.42 118.28,-2.58 118.28,-2.58 124.14,-1.29 135.86,-1.29 141.72,-2.58 141.72,-2.58 199.89,-15.42 199.89,-15.42 205.75,-16.71 205.75,-19.29 199.89,-20.58 199.89,-20.58 141.72,-33.42 141.72,-33.42 135.86,-34.71 124.14,-34.71 118.28,-33.42\"/>\n",
       "<text text-anchor=\"middle\" x=\"130\" y=\"-14.3\" font-family=\"Times,serif\" font-size=\"14.00\">Q2_Result</text>\n",
       "</g>\n",
       "<!-- Project&#45;&gt;Q2_Result -->\n",
       "<g id=\"edge1\" class=\"edge\">\n",
       "<title>Project&#45;&gt;Q2_Result</title>\n",
       "<path fill=\"none\" stroke=\"black\" d=\"M57.24,-72.05C71.34,-61.77 89.37,-48.63 103.95,-37.99\"/>\n",
       "<polygon fill=\"black\" stroke=\"black\" points=\"106.07,-40.78 112.08,-32.06 101.94,-35.13 106.07,-40.78\"/>\n",
       "</g>\n",
       "<!-- Employee -->\n",
       "<g id=\"node2\" class=\"node\">\n",
       "<title>Employee</title>\n",
       "<path fill=\"#b0e2ff\" stroke=\"#575757\" d=\"M173.5,-104.73C173.5,-106.53 154,-108 130,-108 106,-108 86.5,-106.53 86.5,-104.73 86.5,-104.73 86.5,-75.27 86.5,-75.27 86.5,-73.47 106,-72 130,-72 154,-72 173.5,-73.47 173.5,-75.27 173.5,-75.27 173.5,-104.73 173.5,-104.73\"/>\n",
       "<path fill=\"none\" stroke=\"#575757\" d=\"M173.5,-104.73C173.5,-102.92 154,-101.45 130,-101.45 106,-101.45 86.5,-102.92 86.5,-104.73\"/>\n",
       "<text text-anchor=\"middle\" x=\"130\" y=\"-86.3\" font-family=\"Times,serif\" font-size=\"14.00\">Employee</text>\n",
       "</g>\n",
       "<!-- Employee&#45;&gt;Q2_Result -->\n",
       "<g id=\"edge2\" class=\"edge\">\n",
       "<title>Employee&#45;&gt;Q2_Result</title>\n",
       "<path fill=\"none\" stroke=\"black\" d=\"M130,-71.7C130,-63.98 130,-54.71 130,-46.11\"/>\n",
       "<polygon fill=\"black\" stroke=\"black\" points=\"133.5,-46.1 130,-36.1 126.5,-46.1 133.5,-46.1\"/>\n",
       "</g>\n",
       "<!-- Department -->\n",
       "<g id=\"node3\" class=\"node\">\n",
       "<title>Department</title>\n",
       "<path fill=\"#b0e2ff\" stroke=\"#575757\" d=\"M294.5,-104.73C294.5,-106.53 271.42,-108 243,-108 214.58,-108 191.5,-106.53 191.5,-104.73 191.5,-104.73 191.5,-75.27 191.5,-75.27 191.5,-73.47 214.58,-72 243,-72 271.42,-72 294.5,-73.47 294.5,-75.27 294.5,-75.27 294.5,-104.73 294.5,-104.73\"/>\n",
       "<path fill=\"none\" stroke=\"#575757\" d=\"M294.5,-104.73C294.5,-102.92 271.42,-101.45 243,-101.45 214.58,-101.45 191.5,-102.92 191.5,-104.73\"/>\n",
       "<text text-anchor=\"middle\" x=\"243\" y=\"-86.3\" font-family=\"Times,serif\" font-size=\"14.00\">Department</text>\n",
       "</g>\n",
       "<!-- Department&#45;&gt;Q2_Result -->\n",
       "<g id=\"edge3\" class=\"edge\">\n",
       "<title>Department&#45;&gt;Q2_Result</title>\n",
       "<path fill=\"none\" stroke=\"black\" d=\"M215.36,-71.88C198.22,-61.26 176.24,-47.64 158.88,-36.89\"/>\n",
       "<polygon fill=\"black\" stroke=\"black\" points=\"160.61,-33.85 150.27,-31.56 156.93,-39.8 160.61,-33.85\"/>\n",
       "</g>\n",
       "</g>\n",
       "</svg>\n"
      ],
      "text/plain": [
       "<graphviz.graphs.Digraph at 0x7fef25ef6970>"
      ]
     },
     "metadata": {},
     "output_type": "display_data"
    },
    {
     "name": "stdout",
     "output_type": "stream",
     "text": [
      "Running predicate: Q2_Result (1 ms)\n",
      "The following table is stored at \u001b[1mQ2_Result\u001b[0m variable.\n"
     ]
    },
    {
     "data": {
      "text/html": [
       "<div>\n",
       "<style scoped>\n",
       "    .dataframe tbody tr th:only-of-type {\n",
       "        vertical-align: middle;\n",
       "    }\n",
       "\n",
       "    .dataframe tbody tr th {\n",
       "        vertical-align: top;\n",
       "    }\n",
       "\n",
       "    .dataframe thead th {\n",
       "        text-align: right;\n",
       "    }\n",
       "</style>\n",
       "<table border=\"1\" class=\"dataframe\">\n",
       "  <thead>\n",
       "    <tr style=\"text-align: right;\">\n",
       "      <th></th>\n",
       "      <th>Pnumber</th>\n",
       "      <th>Dnum</th>\n",
       "      <th>Lname</th>\n",
       "      <th>Address</th>\n",
       "      <th>Bdate</th>\n",
       "    </tr>\n",
       "  </thead>\n",
       "  <tbody>\n",
       "    <tr>\n",
       "      <th>0</th>\n",
       "      <td>10</td>\n",
       "      <td>4</td>\n",
       "      <td>Wallace</td>\n",
       "      <td>291 Berry,Bellaire,TX</td>\n",
       "      <td>1941-06-20</td>\n",
       "    </tr>\n",
       "    <tr>\n",
       "      <th>1</th>\n",
       "      <td>30</td>\n",
       "      <td>4</td>\n",
       "      <td>Wallace</td>\n",
       "      <td>291 Berry,Bellaire,TX</td>\n",
       "      <td>1941-06-20</td>\n",
       "    </tr>\n",
       "  </tbody>\n",
       "</table>\n",
       "</div>"
      ],
      "text/plain": [
       "   Pnumber  Dnum    Lname                Address       Bdate\n",
       "0       10     4  Wallace  291 Berry,Bellaire,TX  1941-06-20\n",
       "1       30     4  Wallace  291 Berry,Bellaire,TX  1941-06-20"
      ]
     },
     "metadata": {},
     "output_type": "display_data"
    },
    {
     "name": "stdout",
     "output_type": "stream",
     "text": [
      " \n"
     ]
    }
   ],
   "source": [
    "%%logica Q2_Result\n",
    "@Engine(\"sqlite\");\n",
    "@AttachDatabase(\"mydata\", \"my_database.db\");\n",
    "\n",
    "\n",
    "Q2_Result(Pnumber:pn, Dnum:x, Lname:ln, Address:add, Bdate:bd):-\n",
    "    Project(Pnumber:pn, Dnum:x, Plocation: \"Stafford\"), \n",
    "    Department(Dnumber:y, Mgr_ssn:ssn_1),\n",
    "    Employee(Lname:ln, Address:add, Ssn:ssn_2, Bdate:bd),\n",
    "    x=y, ssn_1=ssn_2;"
   ]
  },
  {
   "cell_type": "markdown",
   "id": "0b106a70-83d7-4db1-803d-09b9c7d41b0e",
   "metadata": {},
   "source": [
    "#### Query 3: Who is the boss? The manager of the department that an employee works for!"
   ]
  },
  {
   "cell_type": "markdown",
   "id": "f808c240",
   "metadata": {},
   "source": [
    "$\\mathrm{\\Pi_{SSN, Lname, Address}(EMPLOYEE\\bowtie_{Super\\_Ssn=Ssn}(EMPLOYEE))}$"
   ]
  },
  {
   "cell_type": "code",
   "execution_count": 11,
   "id": "812a668c-47c2-44be-acf7-9a38c2abfd1a",
   "metadata": {},
   "outputs": [
    {
     "name": "stdout",
     "output_type": "stream",
     "text": [
      "Done.\n"
     ]
    },
    {
     "data": {
      "text/html": [
       "<table>\n",
       "    <thead>\n",
       "        <tr>\n",
       "            <th>Employee</th>\n",
       "            <th>Boss</th>\n",
       "        </tr>\n",
       "    </thead>\n",
       "    <tbody>\n",
       "        <tr>\n",
       "            <td>123456789</td>\n",
       "            <td>333445555</td>\n",
       "        </tr>\n",
       "        <tr>\n",
       "            <td>666884444</td>\n",
       "            <td>333445555</td>\n",
       "        </tr>\n",
       "        <tr>\n",
       "            <td>453453453</td>\n",
       "            <td>333445555</td>\n",
       "        </tr>\n",
       "        <tr>\n",
       "            <td>333445555</td>\n",
       "            <td>888665555</td>\n",
       "        </tr>\n",
       "        <tr>\n",
       "            <td>987654321</td>\n",
       "            <td>888665555</td>\n",
       "        </tr>\n",
       "        <tr>\n",
       "            <td>999887777</td>\n",
       "            <td>987654321</td>\n",
       "        </tr>\n",
       "        <tr>\n",
       "            <td>987987987</td>\n",
       "            <td>987654321</td>\n",
       "        </tr>\n",
       "    </tbody>\n",
       "</table>"
      ],
      "text/plain": [
       "[(123456789, 333445555),\n",
       " (666884444, 333445555),\n",
       " (453453453, 333445555),\n",
       " (333445555, 888665555),\n",
       " (987654321, 888665555),\n",
       " (999887777, 987654321),\n",
       " (987987987, 987654321)]"
      ]
     },
     "execution_count": 11,
     "metadata": {},
     "output_type": "execute_result"
    }
   ],
   "source": [
    "%%sql sqlite:///my_database.db\n",
    "\n",
    "SELECT E.SSN as 'Employee', \n",
    "       M.SSN as 'Boss'\n",
    "FROM   Employee E, \n",
    "       Employee M\n",
    "WHERE E.Super_SSN = M.SSN\n",
    "ORDER BY M.SSN;"
   ]
  },
  {
   "cell_type": "code",
   "execution_count": 12,
   "id": "ffd7ebc8-98c4-47f7-9e64-c8133c5e08ae",
   "metadata": {},
   "outputs": [
    {
     "name": "stdout",
     "output_type": "stream",
     "text": [
      "Query is stored at \u001b[1mQ3_Result_sql\u001b[0m variable.\n"
     ]
    },
    {
     "data": {
      "image/svg+xml": [
       "<?xml version=\"1.0\" encoding=\"UTF-8\" standalone=\"no\"?>\n",
       "<!DOCTYPE svg PUBLIC \"-//W3C//DTD SVG 1.1//EN\"\n",
       " \"http://www.w3.org/Graphics/SVG/1.1/DTD/svg11.dtd\">\n",
       "<!-- Generated by graphviz version 2.43.0 (0)\n",
       " -->\n",
       "<!-- Title: Concertina Pages: 1 -->\n",
       "<svg width=\"172pt\" height=\"116pt\"\n",
       " viewBox=\"0.00 0.00 171.61 116.00\" xmlns=\"http://www.w3.org/2000/svg\" xmlns:xlink=\"http://www.w3.org/1999/xlink\">\n",
       "<g id=\"graph0\" class=\"graph\" transform=\"scale(1 1) rotate(0) translate(4 112)\">\n",
       "<title>Concertina</title>\n",
       "<polygon fill=\"white\" stroke=\"transparent\" points=\"-4,4 -4,-112 167.61,-112 167.61,4 -4,4\"/>\n",
       "<!-- Employee -->\n",
       "<g id=\"node1\" class=\"node\">\n",
       "<title>Employee</title>\n",
       "<path fill=\"#b0e2ff\" stroke=\"#575757\" d=\"M125.3,-104.73C125.3,-106.53 105.81,-108 81.8,-108 57.8,-108 38.3,-106.53 38.3,-104.73 38.3,-104.73 38.3,-75.27 38.3,-75.27 38.3,-73.47 57.8,-72 81.8,-72 105.81,-72 125.3,-73.47 125.3,-75.27 125.3,-75.27 125.3,-104.73 125.3,-104.73\"/>\n",
       "<path fill=\"none\" stroke=\"#575757\" d=\"M125.3,-104.73C125.3,-102.92 105.81,-101.45 81.8,-101.45 57.8,-101.45 38.3,-102.92 38.3,-104.73\"/>\n",
       "<text text-anchor=\"middle\" x=\"81.8\" y=\"-86.3\" font-family=\"Times,serif\" font-size=\"14.00\">Employee</text>\n",
       "</g>\n",
       "<!-- Q3_Result -->\n",
       "<g id=\"node2\" class=\"node\">\n",
       "<title>Q3_Result</title>\n",
       "<path fill=\"#caff70\" stroke=\"#575757\" d=\"M70.09,-33.42C70.09,-33.42 11.91,-20.58 11.91,-20.58 6.05,-19.29 6.05,-16.71 11.91,-15.42 11.91,-15.42 70.09,-2.58 70.09,-2.58 75.95,-1.29 87.66,-1.29 93.52,-2.58 93.52,-2.58 151.7,-15.42 151.7,-15.42 157.56,-16.71 157.56,-19.29 151.7,-20.58 151.7,-20.58 93.52,-33.42 93.52,-33.42 87.66,-34.71 75.95,-34.71 70.09,-33.42\"/>\n",
       "<text text-anchor=\"middle\" x=\"81.8\" y=\"-14.3\" font-family=\"Times,serif\" font-size=\"14.00\">Q3_Result</text>\n",
       "</g>\n",
       "<!-- Employee&#45;&gt;Q3_Result -->\n",
       "<g id=\"edge1\" class=\"edge\">\n",
       "<title>Employee&#45;&gt;Q3_Result</title>\n",
       "<path fill=\"none\" stroke=\"black\" d=\"M81.8,-71.7C81.8,-63.98 81.8,-54.71 81.8,-46.11\"/>\n",
       "<polygon fill=\"black\" stroke=\"black\" points=\"85.31,-46.1 81.8,-36.1 78.31,-46.1 85.31,-46.1\"/>\n",
       "</g>\n",
       "</g>\n",
       "</svg>\n"
      ],
      "text/plain": [
       "<graphviz.graphs.Digraph at 0x7fef25f2be20>"
      ]
     },
     "metadata": {},
     "output_type": "display_data"
    },
    {
     "name": "stdout",
     "output_type": "stream",
     "text": [
      "Running predicate: Q3_Result (1 ms)\n",
      "The following table is stored at \u001b[1mQ3_Result\u001b[0m variable.\n"
     ]
    },
    {
     "data": {
      "text/html": [
       "<div>\n",
       "<style scoped>\n",
       "    .dataframe tbody tr th:only-of-type {\n",
       "        vertical-align: middle;\n",
       "    }\n",
       "\n",
       "    .dataframe tbody tr th {\n",
       "        vertical-align: top;\n",
       "    }\n",
       "\n",
       "    .dataframe thead th {\n",
       "        text-align: right;\n",
       "    }\n",
       "</style>\n",
       "<table border=\"1\" class=\"dataframe\">\n",
       "  <thead>\n",
       "    <tr style=\"text-align: right;\">\n",
       "      <th></th>\n",
       "      <th>Employee</th>\n",
       "      <th>Boss</th>\n",
       "    </tr>\n",
       "  </thead>\n",
       "  <tbody>\n",
       "    <tr>\n",
       "      <th>0</th>\n",
       "      <td>333445555</td>\n",
       "      <td>333445555.0</td>\n",
       "    </tr>\n",
       "    <tr>\n",
       "      <th>1</th>\n",
       "      <td>888665555</td>\n",
       "      <td>888665555.0</td>\n",
       "    </tr>\n",
       "    <tr>\n",
       "      <th>2</th>\n",
       "      <td>987654321</td>\n",
       "      <td>987654321.0</td>\n",
       "    </tr>\n",
       "    <tr>\n",
       "      <th>3</th>\n",
       "      <td>888665555</td>\n",
       "      <td>888665555.0</td>\n",
       "    </tr>\n",
       "    <tr>\n",
       "      <th>4</th>\n",
       "      <td>333445555</td>\n",
       "      <td>333445555.0</td>\n",
       "    </tr>\n",
       "    <tr>\n",
       "      <th>5</th>\n",
       "      <td>333445555</td>\n",
       "      <td>333445555.0</td>\n",
       "    </tr>\n",
       "    <tr>\n",
       "      <th>6</th>\n",
       "      <td>987654321</td>\n",
       "      <td>987654321.0</td>\n",
       "    </tr>\n",
       "  </tbody>\n",
       "</table>\n",
       "</div>"
      ],
      "text/plain": [
       "    Employee         Boss\n",
       "0  333445555  333445555.0\n",
       "1  888665555  888665555.0\n",
       "2  987654321  987654321.0\n",
       "3  888665555  888665555.0\n",
       "4  333445555  333445555.0\n",
       "5  333445555  333445555.0\n",
       "6  987654321  987654321.0"
      ]
     },
     "metadata": {},
     "output_type": "display_data"
    },
    {
     "name": "stdout",
     "output_type": "stream",
     "text": [
      " \n"
     ]
    }
   ],
   "source": [
    "%%logica Q3_Result\n",
    "@Engine(\"sqlite\");\n",
    "@AttachDatabase(\"mydata\", \"my_database.db\");\n",
    "\n",
    "Q3_Result(Employee:y,Boss:x):- \n",
    "    Employee(Super_ssn:x),Employee(Ssn:y), x=y;"
   ]
  },
  {
   "cell_type": "markdown",
   "id": "00ca3ef2",
   "metadata": {},
   "source": [
    "#### Query 4: Make a list of all project numbers for projects that involve an employee whose last name is ‘Smith’, either as a worker or as a manager of the department that controls the project."
   ]
  },
  {
   "cell_type": "markdown",
   "id": "db0c3d5d",
   "metadata": {},
   "source": [
    "$\\mathrm{SMITHS(Essn) \\leftarrow \\pi_{Ssn}(\\sigma_{Lname='Smith'}(EMPLOYEE))}$\n",
    "\n",
    "$\\mathrm{SMITH\\_WORKER\\_PROJS \\leftarrow \\pi_{Pno}(WORKS\\_ON) \\ast SMITHS}$\n",
    "\n",
    "$\\mathrm{MGRS \\leftarrow \\pi_{Lname,Dnumber}(EMPLOYEE \\bowtie_{Ssn=Mgr\\_ssn}DEPARTMENT)}$\n",
    "\n",
    "$\\mathrm{SMITH\\_MANAGED\\_DEPTS(Dnum) \\leftarrow \\pi_{Dnumber}(\\sigma_{Lname='Smith'}(MGRS))}$\n",
    "\n",
    "$\\mathrm{SMITH\\_MANAGED\\_PROJS(Pno) \\leftarrow \\pi_{Pnumber}(SMITH\\_MANAGED\\_DEPTS * PROJECT)}$\n",
    "\n",
    "$\\mathrm{RESULT \\leftarrow (SMITH\\_WORKER\\_PROJS \\cup SMITH\\_MANAGED\\_PROJS)}$"
   ]
  },
  {
   "cell_type": "code",
   "execution_count": 13,
   "id": "1821a67c",
   "metadata": {},
   "outputs": [
    {
     "name": "stdout",
     "output_type": "stream",
     "text": [
      "Done.\n"
     ]
    },
    {
     "data": {
      "text/html": [
       "<table>\n",
       "    <thead>\n",
       "        <tr>\n",
       "            <th>Pnumber</th>\n",
       "        </tr>\n",
       "    </thead>\n",
       "    <tbody>\n",
       "        <tr>\n",
       "            <td>1</td>\n",
       "        </tr>\n",
       "        <tr>\n",
       "            <td>2</td>\n",
       "        </tr>\n",
       "    </tbody>\n",
       "</table>"
      ],
      "text/plain": [
       "[(1,), (2,)]"
      ]
     },
     "execution_count": 13,
     "metadata": {},
     "output_type": "execute_result"
    }
   ],
   "source": [
    "%%sql sqlite:///my_database.db\n",
    "\n",
    "SELECT DISTINCT P.Pnumber\n",
    "FROM Project AS P\n",
    "JOIN Department AS D ON P.Dnum = D.Dnumber\n",
    "JOIN Employee AS E ON D.Mgr_ssn = E.ssn\n",
    "WHERE E.Lname = 'Smith'\n",
    "\n",
    "UNION\n",
    "\n",
    "SELECT DISTINCT P.Pnumber\n",
    "FROM Project AS P\n",
    "JOIN Works_on AS W ON P.Pnumber = W.Pno\n",
    "JOIN Employee AS E ON W.Essn = E.Ssn\n",
    "WHERE E.Lname = 'Smith'"
   ]
  },
  {
   "cell_type": "code",
   "execution_count": 14,
   "id": "8b604956-754a-4d2f-b343-c950c13cc781",
   "metadata": {},
   "outputs": [
    {
     "name": "stdout",
     "output_type": "stream",
     "text": [
      "Query is stored at \u001b[1mQ4_Result_sql\u001b[0m variable.\n"
     ]
    },
    {
     "data": {
      "image/svg+xml": [
       "<?xml version=\"1.0\" encoding=\"UTF-8\" standalone=\"no\"?>\n",
       "<!DOCTYPE svg PUBLIC \"-//W3C//DTD SVG 1.1//EN\"\n",
       " \"http://www.w3.org/Graphics/SVG/1.1/DTD/svg11.dtd\">\n",
       "<!-- Generated by graphviz version 2.43.0 (0)\n",
       " -->\n",
       "<!-- Title: Concertina Pages: 1 -->\n",
       "<svg width=\"410pt\" height=\"116pt\"\n",
       " viewBox=\"0.00 0.00 409.50 116.00\" xmlns=\"http://www.w3.org/2000/svg\" xmlns:xlink=\"http://www.w3.org/1999/xlink\">\n",
       "<g id=\"graph0\" class=\"graph\" transform=\"scale(1 1) rotate(0) translate(4 112)\">\n",
       "<title>Concertina</title>\n",
       "<polygon fill=\"white\" stroke=\"transparent\" points=\"-4,4 -4,-112 405.5,-112 405.5,4 -4,4\"/>\n",
       "<!-- Employee -->\n",
       "<g id=\"node1\" class=\"node\">\n",
       "<title>Employee</title>\n",
       "<path fill=\"#b0e2ff\" stroke=\"#575757\" d=\"M87,-104.73C87,-106.53 67.5,-108 43.5,-108 19.5,-108 0,-106.53 0,-104.73 0,-104.73 0,-75.27 0,-75.27 0,-73.47 19.5,-72 43.5,-72 67.5,-72 87,-73.47 87,-75.27 87,-75.27 87,-104.73 87,-104.73\"/>\n",
       "<path fill=\"none\" stroke=\"#575757\" d=\"M87,-104.73C87,-102.92 67.5,-101.45 43.5,-101.45 19.5,-101.45 0,-102.92 0,-104.73\"/>\n",
       "<text text-anchor=\"middle\" x=\"43.5\" y=\"-86.3\" font-family=\"Times,serif\" font-size=\"14.00\">Employee</text>\n",
       "</g>\n",
       "<!-- Q4_Result -->\n",
       "<g id=\"node2\" class=\"node\">\n",
       "<title>Q4_Result</title>\n",
       "<path fill=\"#caff70\" stroke=\"#575757\" d=\"M179.78,-33.42C179.78,-33.42 121.61,-20.58 121.61,-20.58 115.75,-19.29 115.75,-16.71 121.61,-15.42 121.61,-15.42 179.78,-2.58 179.78,-2.58 185.64,-1.29 197.36,-1.29 203.22,-2.58 203.22,-2.58 261.39,-15.42 261.39,-15.42 267.25,-16.71 267.25,-19.29 261.39,-20.58 261.39,-20.58 203.22,-33.42 203.22,-33.42 197.36,-34.71 185.64,-34.71 179.78,-33.42\"/>\n",
       "<text text-anchor=\"middle\" x=\"191.5\" y=\"-14.3\" font-family=\"Times,serif\" font-size=\"14.00\">Q4_Result</text>\n",
       "</g>\n",
       "<!-- Employee&#45;&gt;Q4_Result -->\n",
       "<g id=\"edge2\" class=\"edge\">\n",
       "<title>Employee&#45;&gt;Q4_Result</title>\n",
       "<path fill=\"none\" stroke=\"black\" d=\"M77.83,-72.76C101.8,-61.43 133.66,-46.36 157.55,-35.06\"/>\n",
       "<polygon fill=\"black\" stroke=\"black\" points=\"159.06,-38.22 166.6,-30.78 156.07,-31.89 159.06,-38.22\"/>\n",
       "</g>\n",
       "<!-- Project -->\n",
       "<g id=\"node3\" class=\"node\">\n",
       "<title>Project</title>\n",
       "<path fill=\"#b0e2ff\" stroke=\"#575757\" d=\"M173.5,-104.73C173.5,-106.53 158.26,-108 139.5,-108 120.74,-108 105.5,-106.53 105.5,-104.73 105.5,-104.73 105.5,-75.27 105.5,-75.27 105.5,-73.47 120.74,-72 139.5,-72 158.26,-72 173.5,-73.47 173.5,-75.27 173.5,-75.27 173.5,-104.73 173.5,-104.73\"/>\n",
       "<path fill=\"none\" stroke=\"#575757\" d=\"M173.5,-104.73C173.5,-102.92 158.26,-101.45 139.5,-101.45 120.74,-101.45 105.5,-102.92 105.5,-104.73\"/>\n",
       "<text text-anchor=\"middle\" x=\"139.5\" y=\"-86.3\" font-family=\"Times,serif\" font-size=\"14.00\">Project</text>\n",
       "</g>\n",
       "<!-- Project&#45;&gt;Q4_Result -->\n",
       "<g id=\"edge1\" class=\"edge\">\n",
       "<title>Project&#45;&gt;Q4_Result</title>\n",
       "<path fill=\"none\" stroke=\"black\" d=\"M152.35,-71.7C159.05,-62.68 167.33,-51.53 174.55,-41.82\"/>\n",
       "<polygon fill=\"black\" stroke=\"black\" points=\"177.4,-43.85 180.55,-33.74 171.78,-39.68 177.4,-43.85\"/>\n",
       "</g>\n",
       "<!-- Department -->\n",
       "<g id=\"node4\" class=\"node\">\n",
       "<title>Department</title>\n",
       "<path fill=\"#b0e2ff\" stroke=\"#575757\" d=\"M295,-104.73C295,-106.53 271.92,-108 243.5,-108 215.08,-108 192,-106.53 192,-104.73 192,-104.73 192,-75.27 192,-75.27 192,-73.47 215.08,-72 243.5,-72 271.92,-72 295,-73.47 295,-75.27 295,-75.27 295,-104.73 295,-104.73\"/>\n",
       "<path fill=\"none\" stroke=\"#575757\" d=\"M295,-104.73C295,-102.92 271.92,-101.45 243.5,-101.45 215.08,-101.45 192,-102.92 192,-104.73\"/>\n",
       "<text text-anchor=\"middle\" x=\"243.5\" y=\"-86.3\" font-family=\"Times,serif\" font-size=\"14.00\">Department</text>\n",
       "</g>\n",
       "<!-- Department&#45;&gt;Q4_Result -->\n",
       "<g id=\"edge3\" class=\"edge\">\n",
       "<title>Department&#45;&gt;Q4_Result</title>\n",
       "<path fill=\"none\" stroke=\"black\" d=\"M230.65,-71.7C223.95,-62.68 215.67,-51.53 208.45,-41.82\"/>\n",
       "<polygon fill=\"black\" stroke=\"black\" points=\"211.22,-39.68 202.45,-33.74 205.6,-43.85 211.22,-39.68\"/>\n",
       "</g>\n",
       "<!-- Works_On -->\n",
       "<g id=\"node5\" class=\"node\">\n",
       "<title>Works_On</title>\n",
       "<path fill=\"#b0e2ff\" stroke=\"#575757\" d=\"M401.5,-104.73C401.5,-106.53 381.78,-108 357.5,-108 333.22,-108 313.5,-106.53 313.5,-104.73 313.5,-104.73 313.5,-75.27 313.5,-75.27 313.5,-73.47 333.22,-72 357.5,-72 381.78,-72 401.5,-73.47 401.5,-75.27 401.5,-75.27 401.5,-104.73 401.5,-104.73\"/>\n",
       "<path fill=\"none\" stroke=\"#575757\" d=\"M401.5,-104.73C401.5,-102.92 381.78,-101.45 357.5,-101.45 333.22,-101.45 313.5,-102.92 313.5,-104.73\"/>\n",
       "<text text-anchor=\"middle\" x=\"357.5\" y=\"-86.3\" font-family=\"Times,serif\" font-size=\"14.00\">Works_On</text>\n",
       "</g>\n",
       "<!-- Works_On&#45;&gt;Q4_Result -->\n",
       "<g id=\"edge4\" class=\"edge\">\n",
       "<title>Works_On&#45;&gt;Q4_Result</title>\n",
       "<path fill=\"none\" stroke=\"black\" d=\"M319.42,-72.94C291.79,-61.29 254.68,-45.64 227.54,-34.2\"/>\n",
       "<polygon fill=\"black\" stroke=\"black\" points=\"228.6,-30.85 218.03,-30.19 225.88,-37.3 228.6,-30.85\"/>\n",
       "</g>\n",
       "</g>\n",
       "</svg>\n"
      ],
      "text/plain": [
       "<graphviz.graphs.Digraph at 0x7fef25eb0760>"
      ]
     },
     "metadata": {},
     "output_type": "display_data"
    },
    {
     "name": "stdout",
     "output_type": "stream",
     "text": [
      "Running predicate: Q4_Result (1 ms)\n",
      "The following table is stored at \u001b[1mQ4_Result\u001b[0m variable.\n"
     ]
    },
    {
     "data": {
      "text/html": [
       "<div>\n",
       "<style scoped>\n",
       "    .dataframe tbody tr th:only-of-type {\n",
       "        vertical-align: middle;\n",
       "    }\n",
       "\n",
       "    .dataframe tbody tr th {\n",
       "        vertical-align: top;\n",
       "    }\n",
       "\n",
       "    .dataframe thead th {\n",
       "        text-align: right;\n",
       "    }\n",
       "</style>\n",
       "<table border=\"1\" class=\"dataframe\">\n",
       "  <thead>\n",
       "    <tr style=\"text-align: right;\">\n",
       "      <th></th>\n",
       "      <th>Pnumber</th>\n",
       "    </tr>\n",
       "  </thead>\n",
       "  <tbody>\n",
       "    <tr>\n",
       "      <th>0</th>\n",
       "      <td>1.0</td>\n",
       "    </tr>\n",
       "    <tr>\n",
       "      <th>1</th>\n",
       "      <td>2.0</td>\n",
       "    </tr>\n",
       "  </tbody>\n",
       "</table>\n",
       "</div>"
      ],
      "text/plain": [
       "   Pnumber\n",
       "0      1.0\n",
       "1      2.0"
      ]
     },
     "metadata": {},
     "output_type": "display_data"
    },
    {
     "name": "stdout",
     "output_type": "stream",
     "text": [
      " \n"
     ]
    }
   ],
   "source": [
    "%%logica Q4_Result\n",
    "@Engine(\"sqlite\");\n",
    "@AttachDatabase(\"mydata\", \"my_database.db\");\n",
    "\n",
    "Q4_Result(Pnumber:pno):-\n",
    "    Works_On(Essn:x, Pno:pno),\n",
    "    Employee(Lname:\"Smith\",Ssn:y),\n",
    "    x=y;\n",
    "    \n",
    "Q4_Result(Pnumber:pno):-\n",
    "    Project(Pnumber:pno, Dnum:x),\n",
    "    Department(Dnumber:y,Mgr_ssn:ssn_1),\n",
    "    Employee(Ssn:ssn_2, Lname:\"Smith\"),\n",
    "    x=y,\n",
    "    ssn_1=ssn_2;"
   ]
  },
  {
   "cell_type": "markdown",
   "id": "635fc067",
   "metadata": {},
   "source": [
    "#### Query 5: For each employee, retrieve the employee’s first and last name and the first and last name of his or her immediate supervisor."
   ]
  },
  {
   "cell_type": "markdown",
   "id": "2f19f12d",
   "metadata": {},
   "source": [
    "$\\mathrm{\\Pi_{E\\_fname, E\\_lname, S\\_fname, S\\_lname}(EMPLOYEE\\bowtie_{Super\\_Ssn=Ssn}(EMPLOYEE))}$"
   ]
  },
  {
   "cell_type": "code",
   "execution_count": 15,
   "id": "39aec0ce",
   "metadata": {},
   "outputs": [
    {
     "name": "stdout",
     "output_type": "stream",
     "text": [
      "Done.\n"
     ]
    },
    {
     "data": {
      "text/html": [
       "<table>\n",
       "    <thead>\n",
       "        <tr>\n",
       "            <th>E_fname</th>\n",
       "            <th>E_lname</th>\n",
       "            <th>S_fname</th>\n",
       "            <th>S_lname</th>\n",
       "        </tr>\n",
       "    </thead>\n",
       "    <tbody>\n",
       "        <tr>\n",
       "            <td>John</td>\n",
       "            <td>Smith</td>\n",
       "            <td>Franklin</td>\n",
       "            <td>Wong</td>\n",
       "        </tr>\n",
       "        <tr>\n",
       "            <td>Franklin</td>\n",
       "            <td>Wong</td>\n",
       "            <td>James</td>\n",
       "            <td>Borg</td>\n",
       "        </tr>\n",
       "        <tr>\n",
       "            <td>Alicia</td>\n",
       "            <td>Zelaya</td>\n",
       "            <td>Jennifer</td>\n",
       "            <td>Wallace</td>\n",
       "        </tr>\n",
       "        <tr>\n",
       "            <td>Jennifer</td>\n",
       "            <td>Wallace</td>\n",
       "            <td>James</td>\n",
       "            <td>Borg</td>\n",
       "        </tr>\n",
       "        <tr>\n",
       "            <td>Ramesh</td>\n",
       "            <td>Narayan</td>\n",
       "            <td>Franklin</td>\n",
       "            <td>Wong</td>\n",
       "        </tr>\n",
       "        <tr>\n",
       "            <td>Joyce</td>\n",
       "            <td>English</td>\n",
       "            <td>Franklin</td>\n",
       "            <td>Wong</td>\n",
       "        </tr>\n",
       "        <tr>\n",
       "            <td>Ahmad</td>\n",
       "            <td>Jabbar</td>\n",
       "            <td>Jennifer</td>\n",
       "            <td>Wallace</td>\n",
       "        </tr>\n",
       "    </tbody>\n",
       "</table>"
      ],
      "text/plain": [
       "[('John', 'Smith', 'Franklin', 'Wong'),\n",
       " ('Franklin', 'Wong', 'James', 'Borg'),\n",
       " ('Alicia', 'Zelaya', 'Jennifer', 'Wallace'),\n",
       " ('Jennifer', 'Wallace', 'James', 'Borg'),\n",
       " ('Ramesh', 'Narayan', 'Franklin', 'Wong'),\n",
       " ('Joyce', 'English', 'Franklin', 'Wong'),\n",
       " ('Ahmad', 'Jabbar', 'Jennifer', 'Wallace')]"
      ]
     },
     "execution_count": 15,
     "metadata": {},
     "output_type": "execute_result"
    }
   ],
   "source": [
    "%%sql sqlite:///my_database.db\n",
    "\n",
    "SELECT E.Fname as E_fname, E.Lname as E_lname, S.Fname as S_fname, S.Lname as S_lname\n",
    "FROM EMPLOYEE AS E, EMPLOYEE AS S\n",
    "WHERE E.Super_ssn = S.Ssn;"
   ]
  },
  {
   "cell_type": "code",
   "execution_count": 16,
   "id": "15064cab-3ed1-49de-bf38-b9760dac6110",
   "metadata": {},
   "outputs": [
    {
     "name": "stdout",
     "output_type": "stream",
     "text": [
      "Query is stored at \u001b[1mQ5_Result_sql\u001b[0m variable.\n"
     ]
    },
    {
     "data": {
      "image/svg+xml": [
       "<?xml version=\"1.0\" encoding=\"UTF-8\" standalone=\"no\"?>\n",
       "<!DOCTYPE svg PUBLIC \"-//W3C//DTD SVG 1.1//EN\"\n",
       " \"http://www.w3.org/Graphics/SVG/1.1/DTD/svg11.dtd\">\n",
       "<!-- Generated by graphviz version 2.43.0 (0)\n",
       " -->\n",
       "<!-- Title: Concertina Pages: 1 -->\n",
       "<svg width=\"172pt\" height=\"116pt\"\n",
       " viewBox=\"0.00 0.00 171.61 116.00\" xmlns=\"http://www.w3.org/2000/svg\" xmlns:xlink=\"http://www.w3.org/1999/xlink\">\n",
       "<g id=\"graph0\" class=\"graph\" transform=\"scale(1 1) rotate(0) translate(4 112)\">\n",
       "<title>Concertina</title>\n",
       "<polygon fill=\"white\" stroke=\"transparent\" points=\"-4,4 -4,-112 167.61,-112 167.61,4 -4,4\"/>\n",
       "<!-- Employee -->\n",
       "<g id=\"node1\" class=\"node\">\n",
       "<title>Employee</title>\n",
       "<path fill=\"#b0e2ff\" stroke=\"#575757\" d=\"M125.3,-104.73C125.3,-106.53 105.81,-108 81.8,-108 57.8,-108 38.3,-106.53 38.3,-104.73 38.3,-104.73 38.3,-75.27 38.3,-75.27 38.3,-73.47 57.8,-72 81.8,-72 105.81,-72 125.3,-73.47 125.3,-75.27 125.3,-75.27 125.3,-104.73 125.3,-104.73\"/>\n",
       "<path fill=\"none\" stroke=\"#575757\" d=\"M125.3,-104.73C125.3,-102.92 105.81,-101.45 81.8,-101.45 57.8,-101.45 38.3,-102.92 38.3,-104.73\"/>\n",
       "<text text-anchor=\"middle\" x=\"81.8\" y=\"-86.3\" font-family=\"Times,serif\" font-size=\"14.00\">Employee</text>\n",
       "</g>\n",
       "<!-- Q5_Result -->\n",
       "<g id=\"node2\" class=\"node\">\n",
       "<title>Q5_Result</title>\n",
       "<path fill=\"#caff70\" stroke=\"#575757\" d=\"M70.09,-33.42C70.09,-33.42 11.91,-20.58 11.91,-20.58 6.05,-19.29 6.05,-16.71 11.91,-15.42 11.91,-15.42 70.09,-2.58 70.09,-2.58 75.95,-1.29 87.66,-1.29 93.52,-2.58 93.52,-2.58 151.7,-15.42 151.7,-15.42 157.56,-16.71 157.56,-19.29 151.7,-20.58 151.7,-20.58 93.52,-33.42 93.52,-33.42 87.66,-34.71 75.95,-34.71 70.09,-33.42\"/>\n",
       "<text text-anchor=\"middle\" x=\"81.8\" y=\"-14.3\" font-family=\"Times,serif\" font-size=\"14.00\">Q5_Result</text>\n",
       "</g>\n",
       "<!-- Employee&#45;&gt;Q5_Result -->\n",
       "<g id=\"edge1\" class=\"edge\">\n",
       "<title>Employee&#45;&gt;Q5_Result</title>\n",
       "<path fill=\"none\" stroke=\"black\" d=\"M81.8,-71.7C81.8,-63.98 81.8,-54.71 81.8,-46.11\"/>\n",
       "<polygon fill=\"black\" stroke=\"black\" points=\"85.31,-46.1 81.8,-36.1 78.31,-46.1 85.31,-46.1\"/>\n",
       "</g>\n",
       "</g>\n",
       "</svg>\n"
      ],
      "text/plain": [
       "<graphviz.graphs.Digraph at 0x7fef25f2bee0>"
      ]
     },
     "metadata": {},
     "output_type": "display_data"
    },
    {
     "name": "stdout",
     "output_type": "stream",
     "text": [
      "Running predicate: Q5_Result (2 ms)\n",
      "The following table is stored at \u001b[1mQ5_Result\u001b[0m variable.\n"
     ]
    },
    {
     "data": {
      "text/html": [
       "<div>\n",
       "<style scoped>\n",
       "    .dataframe tbody tr th:only-of-type {\n",
       "        vertical-align: middle;\n",
       "    }\n",
       "\n",
       "    .dataframe tbody tr th {\n",
       "        vertical-align: top;\n",
       "    }\n",
       "\n",
       "    .dataframe thead th {\n",
       "        text-align: right;\n",
       "    }\n",
       "</style>\n",
       "<table border=\"1\" class=\"dataframe\">\n",
       "  <thead>\n",
       "    <tr style=\"text-align: right;\">\n",
       "      <th></th>\n",
       "      <th>E_fname</th>\n",
       "      <th>E_lname</th>\n",
       "      <th>S_fname</th>\n",
       "      <th>S_lname</th>\n",
       "    </tr>\n",
       "  </thead>\n",
       "  <tbody>\n",
       "    <tr>\n",
       "      <th>0</th>\n",
       "      <td>John</td>\n",
       "      <td>Smith</td>\n",
       "      <td>Franklin</td>\n",
       "      <td>Wong</td>\n",
       "    </tr>\n",
       "    <tr>\n",
       "      <th>1</th>\n",
       "      <td>Franklin</td>\n",
       "      <td>Wong</td>\n",
       "      <td>James</td>\n",
       "      <td>Borg</td>\n",
       "    </tr>\n",
       "    <tr>\n",
       "      <th>2</th>\n",
       "      <td>Alicia</td>\n",
       "      <td>Zelaya</td>\n",
       "      <td>Jennifer</td>\n",
       "      <td>Wallace</td>\n",
       "    </tr>\n",
       "    <tr>\n",
       "      <th>3</th>\n",
       "      <td>Jennifer</td>\n",
       "      <td>Wallace</td>\n",
       "      <td>James</td>\n",
       "      <td>Borg</td>\n",
       "    </tr>\n",
       "    <tr>\n",
       "      <th>4</th>\n",
       "      <td>Ramesh</td>\n",
       "      <td>Narayan</td>\n",
       "      <td>Franklin</td>\n",
       "      <td>Wong</td>\n",
       "    </tr>\n",
       "    <tr>\n",
       "      <th>5</th>\n",
       "      <td>Joyce</td>\n",
       "      <td>English</td>\n",
       "      <td>Franklin</td>\n",
       "      <td>Wong</td>\n",
       "    </tr>\n",
       "    <tr>\n",
       "      <th>6</th>\n",
       "      <td>Ahmad</td>\n",
       "      <td>Jabbar</td>\n",
       "      <td>Jennifer</td>\n",
       "      <td>Wallace</td>\n",
       "    </tr>\n",
       "  </tbody>\n",
       "</table>\n",
       "</div>"
      ],
      "text/plain": [
       "    E_fname  E_lname   S_fname  S_lname\n",
       "0      John    Smith  Franklin     Wong\n",
       "1  Franklin     Wong     James     Borg\n",
       "2    Alicia   Zelaya  Jennifer  Wallace\n",
       "3  Jennifer  Wallace     James     Borg\n",
       "4    Ramesh  Narayan  Franklin     Wong\n",
       "5     Joyce  English  Franklin     Wong\n",
       "6     Ahmad   Jabbar  Jennifer  Wallace"
      ]
     },
     "metadata": {},
     "output_type": "display_data"
    },
    {
     "name": "stdout",
     "output_type": "stream",
     "text": [
      " \n"
     ]
    }
   ],
   "source": [
    "%%logica Q5_Result\n",
    "\n",
    "@Engine(\"sqlite\");\n",
    "@AttachDatabase(\"mydata\", \"my_database.db\");\n",
    "\n",
    "Q5_Result(E_fname:fn_x, E_lname:ln_x, S_fname:fn_y,S_lname:ln_y):- \n",
    "    Employee(Fname:fn_x, Lname:ln_x,Super_ssn:x),\n",
    "    Employee(Fname:fn_y, Lname:ln_y,Ssn:y), \n",
    "    x=y;"
   ]
  },
  {
   "cell_type": "markdown",
   "id": "f89c9dca",
   "metadata": {},
   "source": [
    "#### Query 6: Select all combinations of EMPLOYEE Ssn and DEPARTMENT Dname (Q10) in the database"
   ]
  },
  {
   "cell_type": "markdown",
   "id": "ddceff38",
   "metadata": {},
   "source": [
    "$\\mathrm{\\sigma_{Ssn, Dname}EMPLOYEE \\times DEPARTMENT}$"
   ]
  },
  {
   "cell_type": "code",
   "execution_count": 17,
   "id": "6e4f4cbc",
   "metadata": {},
   "outputs": [
    {
     "name": "stdout",
     "output_type": "stream",
     "text": [
      "Done.\n"
     ]
    },
    {
     "data": {
      "text/html": [
       "<table>\n",
       "    <thead>\n",
       "        <tr>\n",
       "            <th>Ssn</th>\n",
       "            <th>Dname</th>\n",
       "        </tr>\n",
       "    </thead>\n",
       "    <tbody>\n",
       "        <tr>\n",
       "            <td>123456789</td>\n",
       "            <td>Research</td>\n",
       "        </tr>\n",
       "        <tr>\n",
       "            <td>123456789</td>\n",
       "            <td>Administration</td>\n",
       "        </tr>\n",
       "        <tr>\n",
       "            <td>123456789</td>\n",
       "            <td>Headquarters</td>\n",
       "        </tr>\n",
       "        <tr>\n",
       "            <td>333445555</td>\n",
       "            <td>Research</td>\n",
       "        </tr>\n",
       "        <tr>\n",
       "            <td>333445555</td>\n",
       "            <td>Administration</td>\n",
       "        </tr>\n",
       "        <tr>\n",
       "            <td>333445555</td>\n",
       "            <td>Headquarters</td>\n",
       "        </tr>\n",
       "        <tr>\n",
       "            <td>999887777</td>\n",
       "            <td>Research</td>\n",
       "        </tr>\n",
       "        <tr>\n",
       "            <td>999887777</td>\n",
       "            <td>Administration</td>\n",
       "        </tr>\n",
       "        <tr>\n",
       "            <td>999887777</td>\n",
       "            <td>Headquarters</td>\n",
       "        </tr>\n",
       "        <tr>\n",
       "            <td>987654321</td>\n",
       "            <td>Research</td>\n",
       "        </tr>\n",
       "        <tr>\n",
       "            <td>987654321</td>\n",
       "            <td>Administration</td>\n",
       "        </tr>\n",
       "        <tr>\n",
       "            <td>987654321</td>\n",
       "            <td>Headquarters</td>\n",
       "        </tr>\n",
       "        <tr>\n",
       "            <td>666884444</td>\n",
       "            <td>Research</td>\n",
       "        </tr>\n",
       "        <tr>\n",
       "            <td>666884444</td>\n",
       "            <td>Administration</td>\n",
       "        </tr>\n",
       "        <tr>\n",
       "            <td>666884444</td>\n",
       "            <td>Headquarters</td>\n",
       "        </tr>\n",
       "        <tr>\n",
       "            <td>453453453</td>\n",
       "            <td>Research</td>\n",
       "        </tr>\n",
       "        <tr>\n",
       "            <td>453453453</td>\n",
       "            <td>Administration</td>\n",
       "        </tr>\n",
       "        <tr>\n",
       "            <td>453453453</td>\n",
       "            <td>Headquarters</td>\n",
       "        </tr>\n",
       "        <tr>\n",
       "            <td>987987987</td>\n",
       "            <td>Research</td>\n",
       "        </tr>\n",
       "        <tr>\n",
       "            <td>987987987</td>\n",
       "            <td>Administration</td>\n",
       "        </tr>\n",
       "        <tr>\n",
       "            <td>987987987</td>\n",
       "            <td>Headquarters</td>\n",
       "        </tr>\n",
       "        <tr>\n",
       "            <td>888665555</td>\n",
       "            <td>Research</td>\n",
       "        </tr>\n",
       "        <tr>\n",
       "            <td>888665555</td>\n",
       "            <td>Administration</td>\n",
       "        </tr>\n",
       "        <tr>\n",
       "            <td>888665555</td>\n",
       "            <td>Headquarters</td>\n",
       "        </tr>\n",
       "    </tbody>\n",
       "</table>"
      ],
      "text/plain": [
       "[(123456789, 'Research'),\n",
       " (123456789, 'Administration'),\n",
       " (123456789, 'Headquarters'),\n",
       " (333445555, 'Research'),\n",
       " (333445555, 'Administration'),\n",
       " (333445555, 'Headquarters'),\n",
       " (999887777, 'Research'),\n",
       " (999887777, 'Administration'),\n",
       " (999887777, 'Headquarters'),\n",
       " (987654321, 'Research'),\n",
       " (987654321, 'Administration'),\n",
       " (987654321, 'Headquarters'),\n",
       " (666884444, 'Research'),\n",
       " (666884444, 'Administration'),\n",
       " (666884444, 'Headquarters'),\n",
       " (453453453, 'Research'),\n",
       " (453453453, 'Administration'),\n",
       " (453453453, 'Headquarters'),\n",
       " (987987987, 'Research'),\n",
       " (987987987, 'Administration'),\n",
       " (987987987, 'Headquarters'),\n",
       " (888665555, 'Research'),\n",
       " (888665555, 'Administration'),\n",
       " (888665555, 'Headquarters')]"
      ]
     },
     "execution_count": 17,
     "metadata": {},
     "output_type": "execute_result"
    }
   ],
   "source": [
    "%%sql sqlite:///my_database.db\n",
    "    \n",
    "SELECT Ssn, Dname\n",
    "FROM EMPLOYEE, DEPARTMENT"
   ]
  },
  {
   "cell_type": "code",
   "execution_count": 18,
   "id": "821edcea",
   "metadata": {},
   "outputs": [
    {
     "name": "stdout",
     "output_type": "stream",
     "text": [
      "Query is stored at \u001b[1mQ6_Result_sql\u001b[0m variable.\n"
     ]
    },
    {
     "data": {
      "image/svg+xml": [
       "<?xml version=\"1.0\" encoding=\"UTF-8\" standalone=\"no\"?>\n",
       "<!DOCTYPE svg PUBLIC \"-//W3C//DTD SVG 1.1//EN\"\n",
       " \"http://www.w3.org/Graphics/SVG/1.1/DTD/svg11.dtd\">\n",
       "<!-- Generated by graphviz version 2.43.0 (0)\n",
       " -->\n",
       "<!-- Title: Concertina Pages: 1 -->\n",
       "<svg width=\"216pt\" height=\"116pt\"\n",
       " viewBox=\"0.00 0.00 216.00 116.00\" xmlns=\"http://www.w3.org/2000/svg\" xmlns:xlink=\"http://www.w3.org/1999/xlink\">\n",
       "<g id=\"graph0\" class=\"graph\" transform=\"scale(1 1) rotate(0) translate(4 112)\">\n",
       "<title>Concertina</title>\n",
       "<polygon fill=\"white\" stroke=\"transparent\" points=\"-4,4 -4,-112 212,-112 212,4 -4,4\"/>\n",
       "<!-- Employee -->\n",
       "<g id=\"node1\" class=\"node\">\n",
       "<title>Employee</title>\n",
       "<path fill=\"#b0e2ff\" stroke=\"#575757\" d=\"M87,-104.73C87,-106.53 67.5,-108 43.5,-108 19.5,-108 0,-106.53 0,-104.73 0,-104.73 0,-75.27 0,-75.27 0,-73.47 19.5,-72 43.5,-72 67.5,-72 87,-73.47 87,-75.27 87,-75.27 87,-104.73 87,-104.73\"/>\n",
       "<path fill=\"none\" stroke=\"#575757\" d=\"M87,-104.73C87,-102.92 67.5,-101.45 43.5,-101.45 19.5,-101.45 0,-102.92 0,-104.73\"/>\n",
       "<text text-anchor=\"middle\" x=\"43.5\" y=\"-86.3\" font-family=\"Times,serif\" font-size=\"14.00\">Employee</text>\n",
       "</g>\n",
       "<!-- Q6_Result -->\n",
       "<g id=\"node3\" class=\"node\">\n",
       "<title>Q6_Result</title>\n",
       "<path fill=\"#caff70\" stroke=\"#575757\" d=\"M87.78,-33.42C87.78,-33.42 29.61,-20.58 29.61,-20.58 23.75,-19.29 23.75,-16.71 29.61,-15.42 29.61,-15.42 87.78,-2.58 87.78,-2.58 93.64,-1.29 105.36,-1.29 111.22,-2.58 111.22,-2.58 169.39,-15.42 169.39,-15.42 175.25,-16.71 175.25,-19.29 169.39,-20.58 169.39,-20.58 111.22,-33.42 111.22,-33.42 105.36,-34.71 93.64,-34.71 87.78,-33.42\"/>\n",
       "<text text-anchor=\"middle\" x=\"99.5\" y=\"-14.3\" font-family=\"Times,serif\" font-size=\"14.00\">Q6_Result</text>\n",
       "</g>\n",
       "<!-- Employee&#45;&gt;Q6_Result -->\n",
       "<g id=\"edge1\" class=\"edge\">\n",
       "<title>Employee&#45;&gt;Q6_Result</title>\n",
       "<path fill=\"none\" stroke=\"black\" d=\"M57.34,-71.7C64.56,-62.68 73.47,-51.53 81.25,-41.82\"/>\n",
       "<polygon fill=\"black\" stroke=\"black\" points=\"84.2,-43.73 87.71,-33.74 78.73,-39.36 84.2,-43.73\"/>\n",
       "</g>\n",
       "<!-- Department -->\n",
       "<g id=\"node2\" class=\"node\">\n",
       "<title>Department</title>\n",
       "<path fill=\"#b0e2ff\" stroke=\"#575757\" d=\"M208,-104.73C208,-106.53 184.92,-108 156.5,-108 128.08,-108 105,-106.53 105,-104.73 105,-104.73 105,-75.27 105,-75.27 105,-73.47 128.08,-72 156.5,-72 184.92,-72 208,-73.47 208,-75.27 208,-75.27 208,-104.73 208,-104.73\"/>\n",
       "<path fill=\"none\" stroke=\"#575757\" d=\"M208,-104.73C208,-102.92 184.92,-101.45 156.5,-101.45 128.08,-101.45 105,-102.92 105,-104.73\"/>\n",
       "<text text-anchor=\"middle\" x=\"156.5\" y=\"-86.3\" font-family=\"Times,serif\" font-size=\"14.00\">Department</text>\n",
       "</g>\n",
       "<!-- Department&#45;&gt;Q6_Result -->\n",
       "<g id=\"edge2\" class=\"edge\">\n",
       "<title>Department&#45;&gt;Q6_Result</title>\n",
       "<path fill=\"none\" stroke=\"black\" d=\"M142.41,-71.7C134.99,-62.59 125.81,-51.31 117.84,-41.52\"/>\n",
       "<polygon fill=\"black\" stroke=\"black\" points=\"120.53,-39.28 111.5,-33.74 115.1,-43.7 120.53,-39.28\"/>\n",
       "</g>\n",
       "</g>\n",
       "</svg>\n"
      ],
      "text/plain": [
       "<graphviz.graphs.Digraph at 0x7fef25ef63a0>"
      ]
     },
     "metadata": {},
     "output_type": "display_data"
    },
    {
     "name": "stdout",
     "output_type": "stream",
     "text": [
      "Running predicate: Q6_Result (1 ms)\n",
      "The following table is stored at \u001b[1mQ6_Result\u001b[0m variable.\n"
     ]
    },
    {
     "data": {
      "text/html": [
       "<div>\n",
       "<style scoped>\n",
       "    .dataframe tbody tr th:only-of-type {\n",
       "        vertical-align: middle;\n",
       "    }\n",
       "\n",
       "    .dataframe tbody tr th {\n",
       "        vertical-align: top;\n",
       "    }\n",
       "\n",
       "    .dataframe thead th {\n",
       "        text-align: right;\n",
       "    }\n",
       "</style>\n",
       "<table border=\"1\" class=\"dataframe\">\n",
       "  <thead>\n",
       "    <tr style=\"text-align: right;\">\n",
       "      <th></th>\n",
       "      <th>Ssn</th>\n",
       "      <th>Dname</th>\n",
       "    </tr>\n",
       "  </thead>\n",
       "  <tbody>\n",
       "    <tr>\n",
       "      <th>0</th>\n",
       "      <td>123456789</td>\n",
       "      <td>Research</td>\n",
       "    </tr>\n",
       "    <tr>\n",
       "      <th>1</th>\n",
       "      <td>123456789</td>\n",
       "      <td>Administration</td>\n",
       "    </tr>\n",
       "    <tr>\n",
       "      <th>2</th>\n",
       "      <td>123456789</td>\n",
       "      <td>Headquarters</td>\n",
       "    </tr>\n",
       "    <tr>\n",
       "      <th>3</th>\n",
       "      <td>333445555</td>\n",
       "      <td>Research</td>\n",
       "    </tr>\n",
       "    <tr>\n",
       "      <th>4</th>\n",
       "      <td>333445555</td>\n",
       "      <td>Administration</td>\n",
       "    </tr>\n",
       "    <tr>\n",
       "      <th>5</th>\n",
       "      <td>333445555</td>\n",
       "      <td>Headquarters</td>\n",
       "    </tr>\n",
       "    <tr>\n",
       "      <th>6</th>\n",
       "      <td>999887777</td>\n",
       "      <td>Research</td>\n",
       "    </tr>\n",
       "    <tr>\n",
       "      <th>7</th>\n",
       "      <td>999887777</td>\n",
       "      <td>Administration</td>\n",
       "    </tr>\n",
       "    <tr>\n",
       "      <th>8</th>\n",
       "      <td>999887777</td>\n",
       "      <td>Headquarters</td>\n",
       "    </tr>\n",
       "    <tr>\n",
       "      <th>9</th>\n",
       "      <td>987654321</td>\n",
       "      <td>Research</td>\n",
       "    </tr>\n",
       "    <tr>\n",
       "      <th>10</th>\n",
       "      <td>987654321</td>\n",
       "      <td>Administration</td>\n",
       "    </tr>\n",
       "    <tr>\n",
       "      <th>11</th>\n",
       "      <td>987654321</td>\n",
       "      <td>Headquarters</td>\n",
       "    </tr>\n",
       "    <tr>\n",
       "      <th>12</th>\n",
       "      <td>666884444</td>\n",
       "      <td>Research</td>\n",
       "    </tr>\n",
       "    <tr>\n",
       "      <th>13</th>\n",
       "      <td>666884444</td>\n",
       "      <td>Administration</td>\n",
       "    </tr>\n",
       "    <tr>\n",
       "      <th>14</th>\n",
       "      <td>666884444</td>\n",
       "      <td>Headquarters</td>\n",
       "    </tr>\n",
       "    <tr>\n",
       "      <th>15</th>\n",
       "      <td>453453453</td>\n",
       "      <td>Research</td>\n",
       "    </tr>\n",
       "    <tr>\n",
       "      <th>16</th>\n",
       "      <td>453453453</td>\n",
       "      <td>Administration</td>\n",
       "    </tr>\n",
       "    <tr>\n",
       "      <th>17</th>\n",
       "      <td>453453453</td>\n",
       "      <td>Headquarters</td>\n",
       "    </tr>\n",
       "    <tr>\n",
       "      <th>18</th>\n",
       "      <td>987987987</td>\n",
       "      <td>Research</td>\n",
       "    </tr>\n",
       "    <tr>\n",
       "      <th>19</th>\n",
       "      <td>987987987</td>\n",
       "      <td>Administration</td>\n",
       "    </tr>\n",
       "    <tr>\n",
       "      <th>20</th>\n",
       "      <td>987987987</td>\n",
       "      <td>Headquarters</td>\n",
       "    </tr>\n",
       "    <tr>\n",
       "      <th>21</th>\n",
       "      <td>888665555</td>\n",
       "      <td>Research</td>\n",
       "    </tr>\n",
       "    <tr>\n",
       "      <th>22</th>\n",
       "      <td>888665555</td>\n",
       "      <td>Administration</td>\n",
       "    </tr>\n",
       "    <tr>\n",
       "      <th>23</th>\n",
       "      <td>888665555</td>\n",
       "      <td>Headquarters</td>\n",
       "    </tr>\n",
       "  </tbody>\n",
       "</table>\n",
       "</div>"
      ],
      "text/plain": [
       "          Ssn           Dname\n",
       "0   123456789        Research\n",
       "1   123456789  Administration\n",
       "2   123456789    Headquarters\n",
       "3   333445555        Research\n",
       "4   333445555  Administration\n",
       "5   333445555    Headquarters\n",
       "6   999887777        Research\n",
       "7   999887777  Administration\n",
       "8   999887777    Headquarters\n",
       "9   987654321        Research\n",
       "10  987654321  Administration\n",
       "11  987654321    Headquarters\n",
       "12  666884444        Research\n",
       "13  666884444  Administration\n",
       "14  666884444    Headquarters\n",
       "15  453453453        Research\n",
       "16  453453453  Administration\n",
       "17  453453453    Headquarters\n",
       "18  987987987        Research\n",
       "19  987987987  Administration\n",
       "20  987987987    Headquarters\n",
       "21  888665555        Research\n",
       "22  888665555  Administration\n",
       "23  888665555    Headquarters"
      ]
     },
     "metadata": {},
     "output_type": "display_data"
    },
    {
     "name": "stdout",
     "output_type": "stream",
     "text": [
      " \n"
     ]
    }
   ],
   "source": [
    "%%logica Q6_Result\n",
    "@Engine(\"sqlite\");\n",
    "@AttachDatabase(\"mydata\", \"my_database.db\");\n",
    "\n",
    "Q6_Result(Ssn:x, Dname:y):-\n",
    "    Employee(Ssn:x), Department(Dname:y);"
   ]
  },
  {
   "cell_type": "markdown",
   "id": "4cccb388",
   "metadata": {},
   "source": [
    "#### Query 7: Show the resulting salaries if every employee working on the ‘ProductX’ project is given a 10% raise"
   ]
  },
  {
   "cell_type": "markdown",
   "id": "f66349b8",
   "metadata": {},
   "source": [
    "$\\mathrm{EMP\\_PROJX \\leftarrow \\sigma_{Pname='ProjectX'}(WORKS\\_ON \\bowtie_{Pno=Pnumber} PROJECT)}$\n",
    "\n",
    "$\\mathrm{RESULT(Fname, Lname, Increased\\_sal) \\leftarrow \\pi_{Fname, Lname, 1.1*Salary}(EMPLOYEE \\bowtie_{Ssn=Essn} EMP\\_PROJX)}$"
   ]
  },
  {
   "cell_type": "code",
   "execution_count": 19,
   "id": "5442d558",
   "metadata": {},
   "outputs": [
    {
     "name": "stdout",
     "output_type": "stream",
     "text": [
      "Done.\n"
     ]
    },
    {
     "data": {
      "text/html": [
       "<table>\n",
       "    <thead>\n",
       "        <tr>\n",
       "            <th>Fname</th>\n",
       "            <th>Lname</th>\n",
       "            <th>Increased_sal</th>\n",
       "        </tr>\n",
       "    </thead>\n",
       "    <tbody>\n",
       "        <tr>\n",
       "            <td>John</td>\n",
       "            <td>Smith</td>\n",
       "            <td>33000.0</td>\n",
       "        </tr>\n",
       "        <tr>\n",
       "            <td>Joyce</td>\n",
       "            <td>English</td>\n",
       "            <td>27500.000000000004</td>\n",
       "        </tr>\n",
       "    </tbody>\n",
       "</table>"
      ],
      "text/plain": [
       "[('John', 'Smith', 33000.0), ('Joyce', 'English', 27500.000000000004)]"
      ]
     },
     "execution_count": 19,
     "metadata": {},
     "output_type": "execute_result"
    }
   ],
   "source": [
    "%%sql sqlite:///my_database.db\n",
    "    \n",
    "SELECT E.Fname, E.Lname, 1.1 * E.Salary AS Increased_sal\n",
    "FROM EMPLOYEE AS E, WORKS_ON AS W, PROJECT AS P\n",
    "WHERE E.Ssn = W.Essn AND W.Pno = P.Pnumber AND\n",
    "P.Pname = 'ProductX';"
   ]
  },
  {
   "cell_type": "code",
   "execution_count": 20,
   "id": "fde82442-b31e-4ad9-9bdc-bc78361b19cc",
   "metadata": {},
   "outputs": [
    {
     "name": "stdout",
     "output_type": "stream",
     "text": [
      "Query is stored at \u001b[1mQ7_Result_sql\u001b[0m variable.\n"
     ]
    },
    {
     "data": {
      "image/svg+xml": [
       "<?xml version=\"1.0\" encoding=\"UTF-8\" standalone=\"no\"?>\n",
       "<!DOCTYPE svg PUBLIC \"-//W3C//DTD SVG 1.1//EN\"\n",
       " \"http://www.w3.org/Graphics/SVG/1.1/DTD/svg11.dtd\">\n",
       "<!-- Generated by graphviz version 2.43.0 (0)\n",
       " -->\n",
       "<!-- Title: Concertina Pages: 1 -->\n",
       "<svg width=\"288pt\" height=\"116pt\"\n",
       " viewBox=\"0.00 0.00 288.00 116.00\" xmlns=\"http://www.w3.org/2000/svg\" xmlns:xlink=\"http://www.w3.org/1999/xlink\">\n",
       "<g id=\"graph0\" class=\"graph\" transform=\"scale(1 1) rotate(0) translate(4 112)\">\n",
       "<title>Concertina</title>\n",
       "<polygon fill=\"white\" stroke=\"transparent\" points=\"-4,4 -4,-112 284,-112 284,4 -4,4\"/>\n",
       "<!-- Project -->\n",
       "<g id=\"node1\" class=\"node\">\n",
       "<title>Project</title>\n",
       "<path fill=\"#b0e2ff\" stroke=\"#575757\" d=\"M68,-104.73C68,-106.53 52.76,-108 34,-108 15.24,-108 0,-106.53 0,-104.73 0,-104.73 0,-75.27 0,-75.27 0,-73.47 15.24,-72 34,-72 52.76,-72 68,-73.47 68,-75.27 68,-75.27 68,-104.73 68,-104.73\"/>\n",
       "<path fill=\"none\" stroke=\"#575757\" d=\"M68,-104.73C68,-102.92 52.76,-101.45 34,-101.45 15.24,-101.45 0,-102.92 0,-104.73\"/>\n",
       "<text text-anchor=\"middle\" x=\"34\" y=\"-86.3\" font-family=\"Times,serif\" font-size=\"14.00\">Project</text>\n",
       "</g>\n",
       "<!-- Q7_Result -->\n",
       "<g id=\"node3\" class=\"node\">\n",
       "<title>Q7_Result</title>\n",
       "<path fill=\"#caff70\" stroke=\"#575757\" d=\"M118.28,-33.42C118.28,-33.42 60.11,-20.58 60.11,-20.58 54.25,-19.29 54.25,-16.71 60.11,-15.42 60.11,-15.42 118.28,-2.58 118.28,-2.58 124.14,-1.29 135.86,-1.29 141.72,-2.58 141.72,-2.58 199.89,-15.42 199.89,-15.42 205.75,-16.71 205.75,-19.29 199.89,-20.58 199.89,-20.58 141.72,-33.42 141.72,-33.42 135.86,-34.71 124.14,-34.71 118.28,-33.42\"/>\n",
       "<text text-anchor=\"middle\" x=\"130\" y=\"-14.3\" font-family=\"Times,serif\" font-size=\"14.00\">Q7_Result</text>\n",
       "</g>\n",
       "<!-- Project&#45;&gt;Q7_Result -->\n",
       "<g id=\"edge1\" class=\"edge\">\n",
       "<title>Project&#45;&gt;Q7_Result</title>\n",
       "<path fill=\"none\" stroke=\"black\" d=\"M57.24,-72.05C71.34,-61.77 89.37,-48.63 103.95,-37.99\"/>\n",
       "<polygon fill=\"black\" stroke=\"black\" points=\"106.07,-40.78 112.08,-32.06 101.94,-35.13 106.07,-40.78\"/>\n",
       "</g>\n",
       "<!-- Employee -->\n",
       "<g id=\"node2\" class=\"node\">\n",
       "<title>Employee</title>\n",
       "<path fill=\"#b0e2ff\" stroke=\"#575757\" d=\"M173.5,-104.73C173.5,-106.53 154,-108 130,-108 106,-108 86.5,-106.53 86.5,-104.73 86.5,-104.73 86.5,-75.27 86.5,-75.27 86.5,-73.47 106,-72 130,-72 154,-72 173.5,-73.47 173.5,-75.27 173.5,-75.27 173.5,-104.73 173.5,-104.73\"/>\n",
       "<path fill=\"none\" stroke=\"#575757\" d=\"M173.5,-104.73C173.5,-102.92 154,-101.45 130,-101.45 106,-101.45 86.5,-102.92 86.5,-104.73\"/>\n",
       "<text text-anchor=\"middle\" x=\"130\" y=\"-86.3\" font-family=\"Times,serif\" font-size=\"14.00\">Employee</text>\n",
       "</g>\n",
       "<!-- Employee&#45;&gt;Q7_Result -->\n",
       "<g id=\"edge2\" class=\"edge\">\n",
       "<title>Employee&#45;&gt;Q7_Result</title>\n",
       "<path fill=\"none\" stroke=\"black\" d=\"M130,-71.7C130,-63.98 130,-54.71 130,-46.11\"/>\n",
       "<polygon fill=\"black\" stroke=\"black\" points=\"133.5,-46.1 130,-36.1 126.5,-46.1 133.5,-46.1\"/>\n",
       "</g>\n",
       "<!-- Works_On -->\n",
       "<g id=\"node4\" class=\"node\">\n",
       "<title>Works_On</title>\n",
       "<path fill=\"#b0e2ff\" stroke=\"#575757\" d=\"M280,-104.73C280,-106.53 260.28,-108 236,-108 211.72,-108 192,-106.53 192,-104.73 192,-104.73 192,-75.27 192,-75.27 192,-73.47 211.72,-72 236,-72 260.28,-72 280,-73.47 280,-75.27 280,-75.27 280,-104.73 280,-104.73\"/>\n",
       "<path fill=\"none\" stroke=\"#575757\" d=\"M280,-104.73C280,-102.92 260.28,-101.45 236,-101.45 211.72,-101.45 192,-102.92 192,-104.73\"/>\n",
       "<text text-anchor=\"middle\" x=\"236\" y=\"-86.3\" font-family=\"Times,serif\" font-size=\"14.00\">Works_On</text>\n",
       "</g>\n",
       "<!-- Works_On&#45;&gt;Q7_Result -->\n",
       "<g id=\"edge3\" class=\"edge\">\n",
       "<title>Works_On&#45;&gt;Q7_Result</title>\n",
       "<path fill=\"none\" stroke=\"black\" d=\"M210.34,-72.05C194.52,-61.61 174.23,-48.21 157.99,-37.49\"/>\n",
       "<polygon fill=\"black\" stroke=\"black\" points=\"159.72,-34.43 149.45,-31.84 155.86,-40.27 159.72,-34.43\"/>\n",
       "</g>\n",
       "</g>\n",
       "</svg>\n"
      ],
      "text/plain": [
       "<graphviz.graphs.Digraph at 0x7fef25e935e0>"
      ]
     },
     "metadata": {},
     "output_type": "display_data"
    },
    {
     "name": "stdout",
     "output_type": "stream",
     "text": [
      "Running predicate: Q7_Result (1 ms)\n",
      "The following table is stored at \u001b[1mQ7_Result\u001b[0m variable.\n"
     ]
    },
    {
     "data": {
      "text/html": [
       "<div>\n",
       "<style scoped>\n",
       "    .dataframe tbody tr th:only-of-type {\n",
       "        vertical-align: middle;\n",
       "    }\n",
       "\n",
       "    .dataframe tbody tr th {\n",
       "        vertical-align: top;\n",
       "    }\n",
       "\n",
       "    .dataframe thead th {\n",
       "        text-align: right;\n",
       "    }\n",
       "</style>\n",
       "<table border=\"1\" class=\"dataframe\">\n",
       "  <thead>\n",
       "    <tr style=\"text-align: right;\">\n",
       "      <th></th>\n",
       "      <th>Fname</th>\n",
       "      <th>Lname</th>\n",
       "      <th>Increased_Sal</th>\n",
       "    </tr>\n",
       "  </thead>\n",
       "  <tbody>\n",
       "    <tr>\n",
       "      <th>0</th>\n",
       "      <td>John</td>\n",
       "      <td>Smith</td>\n",
       "      <td>33000.0</td>\n",
       "    </tr>\n",
       "    <tr>\n",
       "      <th>1</th>\n",
       "      <td>Joyce</td>\n",
       "      <td>English</td>\n",
       "      <td>27500.0</td>\n",
       "    </tr>\n",
       "  </tbody>\n",
       "</table>\n",
       "</div>"
      ],
      "text/plain": [
       "   Fname    Lname  Increased_Sal\n",
       "0   John    Smith        33000.0\n",
       "1  Joyce  English        27500.0"
      ]
     },
     "metadata": {},
     "output_type": "display_data"
    },
    {
     "name": "stdout",
     "output_type": "stream",
     "text": [
      " \n"
     ]
    }
   ],
   "source": [
    "%%logica Q7_Result\n",
    "@Engine(\"sqlite\");\n",
    "@AttachDatabase(\"mydata\", \"my_database.db\");\n",
    "\n",
    "Q7_Result(Fname:fn, Lname:ln, Increased_Sal:sl*1.1):-\n",
    "    Employee(Fname:fn, Lname:ln,SSn:ssn1, Salary:sl),\n",
    "    Works_On(Essn:ssn2, Pno:x), \n",
    "    Project(Pname:\"ProductX\",Pnumber:y),\n",
    "    ssn1=ssn2, x=y;"
   ]
  },
  {
   "cell_type": "markdown",
   "id": "d3e04720",
   "metadata": {},
   "source": [
    "## Logica Exercises"
   ]
  },
  {
   "cell_type": "markdown",
   "id": "53c90b69",
   "metadata": {},
   "source": [
    "#### Exercise: Week 9/Q4: Retrieve the name and address of all employees who work for the 'Administration' department. "
   ]
  },
  {
   "cell_type": "code",
   "execution_count": 21,
   "id": "fd47981f",
   "metadata": {},
   "outputs": [
    {
     "name": "stderr",
     "output_type": "stream",
     "text": [
      "\u001b[4mParsing\u001b[0m:\n",
      "Q4(Fname:fn, Lname:ln, Address:ad):-\u001b[1m<EMPTY>\u001b[0m\n",
      "\n",
      "[ \u001b[91mError\u001b[0m ] Could not parse proposition.\n"
     ]
    }
   ],
   "source": [
    "%%logica Q4\n",
    "@Engine(\"sqlite\");\n",
    "@AttachDatabase(\"mydata\", \"my_database.db\");\n",
    "\n",
    "# Insert your logica query here\n",
    "Q4(Fname:fn, Lname:ln, Address:ad):-"
   ]
  },
  {
   "cell_type": "markdown",
   "id": "b9567b80",
   "metadata": {},
   "source": [
    "#### Exercise: Week 9/Q6: Retrieve the name of each employee who has a dependent with the same sex as the employee."
   ]
  },
  {
   "cell_type": "code",
   "execution_count": 22,
   "id": "4805ee2a",
   "metadata": {},
   "outputs": [
    {
     "name": "stderr",
     "output_type": "stream",
     "text": [
      "\u001b[4mParsing\u001b[0m:\n",
      "Q6(Fname:fn, Lname:ln, Dependent_name:dn):-\u001b[1m<EMPTY>\u001b[0m\n",
      "\n",
      "[ \u001b[91mError\u001b[0m ] Could not parse proposition.\n"
     ]
    }
   ],
   "source": [
    "%%logica Q6\n",
    "@Engine(\"sqlite\");\n",
    "@AttachDatabase(\"mydata\", \"my_database.db\");\n",
    "\n",
    "# Insert your logica query here\n",
    "Q6(Fname:fn, Lname:ln, Dependent_name:dn):-"
   ]
  },
  {
   "cell_type": "markdown",
   "id": "7cc93a43",
   "metadata": {},
   "source": []
  }
 ],
 "metadata": {
  "kernelspec": {
   "display_name": "Python 3 (ipykernel)",
   "language": "python",
   "name": "python3"
  },
  "language_info": {
   "codemirror_mode": {
    "name": "ipython",
    "version": 3
   },
   "file_extension": ".py",
   "mimetype": "text/x-python",
   "name": "python",
   "nbconvert_exporter": "python",
   "pygments_lexer": "ipython3",
   "version": "3.9.2"
  },
  "vscode": {
   "interpreter": {
    "hash": "8b7eedf106401029ffa3b0a271f73d13ee39815d8ba2ed15df644150c1891f03"
   }
  }
 },
 "nbformat": 4,
 "nbformat_minor": 5
}
