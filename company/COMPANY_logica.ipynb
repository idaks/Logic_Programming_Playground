{
 "cells": [
  {
   "cell_type": "markdown",
   "id": "27441829-3bf0-45fd-8d7a-dafaf6947fad",
   "metadata": {},
   "source": [
    "# Company Problem"
   ]
  },
  {
   "cell_type": "markdown",
   "id": "fb7d5965-a607-4107-97fa-2039ece0fc5d",
   "metadata": {},
   "source": [
    "In this notebook, our goal is to familiarize you with Logica while also enabling you to contrast Logica with SQL."
   ]
  },
  {
   "cell_type": "markdown",
   "id": "d5336421-0f54-4e6b-bfa0-17aec63b9c7f",
   "metadata": {},
   "source": [
    "### Package Import"
   ]
  },
  {
   "cell_type": "markdown",
   "id": "07f5ff1f-ff73-48b9-a421-7dc7677e17db",
   "metadata": {},
   "source": [
    "You can disregard the message when executing the cell below"
   ]
  },
  {
   "cell_type": "code",
   "execution_count": null,
   "id": "bdc4b02a-6333-4ba6-8e4b-2db8c9c69195",
   "metadata": {},
   "outputs": [],
   "source": [
    "from logica import colab_logica\n",
    "import pandas as pd\n",
    "import sqlite3"
   ]
  },
  {
   "cell_type": "code",
   "execution_count": null,
   "id": "e3c7e1d4-c95c-4a1f-82c2-9e3201d0d011",
   "metadata": {},
   "outputs": [],
   "source": [
    "%load_ext sql"
   ]
  },
  {
   "cell_type": "markdown",
   "id": "45392a18-e405-49e4-9c33-7aff747f0be7",
   "metadata": {},
   "source": [
    "### Database Creation"
   ]
  },
  {
   "cell_type": "markdown",
   "id": "d068c2f8-4acc-478b-b3f0-00064c481c56",
   "metadata": {},
   "source": [
    "Logica is typically run on a database. Since we only possess CSV files, we need first create a database."
   ]
  },
  {
   "cell_type": "code",
   "execution_count": null,
   "id": "0d5b18f1-d4d2-4637-afb7-31932fb6340d",
   "metadata": {},
   "outputs": [],
   "source": [
    "Dep=pd.read_csv(\"datasets/Department.csv\")\n",
    "Dpd=pd.read_csv(\"datasets/Dependent.csv\")\n",
    "Dep_loc=pd.read_csv(\"datasets/Dept_Location.csv\")\n",
    "Emp=pd.read_csv(\"datasets/Employee.csv\")\n",
    "Proj=pd.read_csv(\"datasets/Project.csv\")\n",
    "Works_On=pd.read_csv(\"datasets/Works_On.csv\")"
   ]
  },
  {
   "cell_type": "code",
   "execution_count": null,
   "id": "451fa7cb-d7c1-4717-a49f-0a843bb0de88",
   "metadata": {},
   "outputs": [],
   "source": [
    "conn = sqlite3.connect('my_database.db')\n",
    "\n",
    "Dep.to_sql('Department', conn, if_exists='replace', index=False)\n",
    "Dpd.to_sql('Dependent', conn, if_exists='replace', index=False)\n",
    "Dep_loc.to_sql('Dept_Location', conn, if_exists='replace', index=False)\n",
    "Emp.to_sql('Employee', conn, if_exists='replace', index=False)\n",
    "Proj.to_sql('Project', conn, if_exists='replace', index=False)\n",
    "Works_On.to_sql('Works_On', conn, if_exists='replace', index=False)\n",
    "\n",
    "conn.close()"
   ]
  },
  {
   "cell_type": "markdown",
   "id": "013c1314-3656-4234-bb5a-a5f6f9a35180",
   "metadata": {},
   "source": [
    "### Queries"
   ]
  },
  {
   "cell_type": "markdown",
   "id": "b8299008-3486-4f67-bedb-cd9d77cf05c0",
   "metadata": {},
   "source": [
    "We've provided a range of queries, in SQL and Logica formats, sourced from the textbook \"FUNDAMENTALS OF Database Systems\". Consider these as your starting point. Enjoy!"
   ]
  },
  {
   "cell_type": "markdown",
   "id": "da79fee8",
   "metadata": {},
   "source": [
    "#### Query 0: Retrieve the birth date and address of the employee(s) whose name is 'John B. Smith'."
   ]
  },
  {
   "cell_type": "markdown",
   "id": "3a77d415",
   "metadata": {},
   "source": [
    "$\\mathrm{\\sigma_{Fname='John' \\land Minit='B' \\land Lname='Smith'}(EMPLOYEE)}$"
   ]
  },
  {
   "cell_type": "code",
   "execution_count": null,
   "id": "8daf6215",
   "metadata": {},
   "outputs": [],
   "source": [
    "%%sql sqlite:///my_database.db\n",
    "SELECT Bdate, Address\n",
    "FROM EMPLOYEE\n",
    "WHERE Fname='John' AND Minit='B' AND Lname='Smith'"
   ]
  },
  {
   "cell_type": "code",
   "execution_count": null,
   "id": "b1479d8d",
   "metadata": {},
   "outputs": [],
   "source": [
    "%%logica Q0_Result\n",
    "@Engine(\"sqlite\");\n",
    "@AttachDatabase(\"mydata\", \"my_database.db\");\n",
    "\n",
    "Q0_Result(Bdate:x, Address:y) :- \n",
    "    Employee(Bdate:x, Address:y, Fname:\"John\", Minit:\"B\", Lname:\"Smith\");"
   ]
  },
  {
   "cell_type": "markdown",
   "id": "962d3f77-b3fe-47f1-b11a-0c90f269297e",
   "metadata": {},
   "source": [
    "#### Query 1: Retrieve the name and address of all employees who work for the 'Research' department. "
   ]
  },
  {
   "cell_type": "markdown",
   "id": "87c18b8a",
   "metadata": {},
   "source": [
    "$\\mathrm{\\Pi_{Fname, Lname, Address}(\\sigma_{Dname='Research'}(DEPARTMENT\\bowtie_{Dnumber=Dno}(EMPLOYEE))}$"
   ]
  },
  {
   "cell_type": "code",
   "execution_count": null,
   "id": "92b9b590",
   "metadata": {},
   "outputs": [],
   "source": [
    "%%sql sqlite:///my_database.db\n",
    "SELECT Fname,Lname,Address\n",
    "FROM EMPLOYEE,DEPARTMENT\n",
    "WHERE Dname='Research' AND Dnumber=Dno;"
   ]
  },
  {
   "cell_type": "code",
   "execution_count": null,
   "id": "afb740b8-ef07-4dce-9df5-d6ac21597d9d",
   "metadata": {},
   "outputs": [],
   "source": [
    "%%logica Q1_Result\n",
    "@Engine(\"sqlite\");\n",
    "@AttachDatabase(\"mydata\", \"my_database.db\");\n",
    "\n",
    "\n",
    "Q1_Result(Fname:fn, Lname:ln, address:add):- \n",
    "    Employee(Fname:fn, Lname:ln, Address:add, Dno:x), \n",
    "    Department(Dname:\"Research\", Dnumber:y),\n",
    "    x=y;"
   ]
  },
  {
   "cell_type": "markdown",
   "id": "81ccd6f9",
   "metadata": {},
   "source": [
    "#### Query 2: For every project located in 'Stafford', list the project number, the controlling department number, and the department manager's last name, address, and birth date. "
   ]
  },
  {
   "cell_type": "markdown",
   "id": "a2b6091f",
   "metadata": {},
   "source": [
    "$\\mathrm{\\Pi_{Pnumber,Dnum,Lname,Address,Bdate}(((\\sigma_{Plocation='Stafford'}(PROJECT))\n",
    "\\bowtie_{Dnum=Dnumber}(DEPARTMENT))\\bowtie_{Mgr\\_ssn=Ssn}(EMPLOYEE))}$"
   ]
  },
  {
   "cell_type": "code",
   "execution_count": null,
   "id": "5e821d05",
   "metadata": {},
   "outputs": [],
   "source": [
    "%%sql sqlite:///my_database.db\n",
    "Select Pnumber,Dnum,Lname,Address,Bdate\n",
    "From Project,Department,Employee\n",
    "Where Dnum=Dnumber And Mgr_ssn=Ssn And Plocation='Stafford'"
   ]
  },
  {
   "cell_type": "code",
   "execution_count": null,
   "id": "5e668d16",
   "metadata": {},
   "outputs": [],
   "source": [
    "%%logica Q2_Result\n",
    "@Engine(\"sqlite\");\n",
    "@AttachDatabase(\"mydata\", \"my_database.db\");\n",
    "\n",
    "\n",
    "Q2_Result(Pnumber:pn, Dnum:x, Lname:ln, Address:add, Bdate:bd):-\n",
    "    Project(Pnumber:pn, Dnum:x, Plocation: \"Stafford\"), \n",
    "    Department(Dnumber:y, Mgr_ssn:ssn_1),\n",
    "    Employee(Lname:ln, Address:add, Ssn:ssn_2, Bdate:bd),\n",
    "    x=y, ssn_1=ssn_2;"
   ]
  },
  {
   "cell_type": "markdown",
   "id": "0b106a70-83d7-4db1-803d-09b9c7d41b0e",
   "metadata": {},
   "source": [
    "#### Query 3: Who is the boss? The manager of the department that an employee works for!"
   ]
  },
  {
   "cell_type": "markdown",
   "id": "f808c240",
   "metadata": {},
   "source": [
    "$\\mathrm{\\Pi_{SSN, Lname, Address}(EMPLOYEE\\bowtie_{Super\\_Ssn=Ssn}(EMPLOYEE))}$"
   ]
  },
  {
   "cell_type": "code",
   "execution_count": null,
   "id": "812a668c-47c2-44be-acf7-9a38c2abfd1a",
   "metadata": {},
   "outputs": [],
   "source": [
    "%%sql sqlite:///my_database.db\n",
    "\n",
    "SELECT E.SSN as 'Employee', \n",
    "       M.SSN as 'Boss'\n",
    "FROM   Employee E, \n",
    "       Employee M\n",
    "WHERE E.Super_SSN = M.SSN\n",
    "ORDER BY M.SSN;"
   ]
  },
  {
   "cell_type": "code",
   "execution_count": null,
   "id": "ffd7ebc8-98c4-47f7-9e64-c8133c5e08ae",
   "metadata": {},
   "outputs": [],
   "source": [
    "%%logica Q3_Result\n",
    "@Engine(\"sqlite\");\n",
    "@AttachDatabase(\"mydata\", \"my_database.db\");\n",
    "\n",
    "Q3_Result(Employee:y,Boss:x):- \n",
    "    Employee(Super_ssn:x),Employee(Ssn:y), x=y;"
   ]
  },
  {
   "cell_type": "markdown",
   "id": "00ca3ef2",
   "metadata": {},
   "source": [
    "#### Query 4: Make a list of all project numbers for projects that involve an employee whose last name is ‘Smith’, either as a worker or as a manager of the department that controls the project."
   ]
  },
  {
   "cell_type": "markdown",
   "id": "db0c3d5d",
   "metadata": {},
   "source": [
    "$\\mathrm{SMITHS(Essn) \\leftarrow \\pi_{Ssn}(\\sigma_{Lname='Smith'}(EMPLOYEE))}$\n",
    "\n",
    "$\\mathrm{SMITH\\_WORKER\\_PROJS \\leftarrow \\pi_{Pno}(WORKS\\_ON) \\ast SMITHS}$\n",
    "\n",
    "$\\mathrm{MGRS \\leftarrow \\pi_{Lname,Dnumber}(EMPLOYEE \\bowtie_{Ssn=Mgr\\_ssn}DEPARTMENT)}$\n",
    "\n",
    "$\\mathrm{SMITH\\_MANAGED\\_DEPTS(Dnum) \\leftarrow \\pi_{Dnumber}(\\sigma_{Lname='Smith'}(MGRS))}$\n",
    "\n",
    "$\\mathrm{SMITH\\_MANAGED\\_PROJS(Pno) \\leftarrow \\pi_{Pnumber}(SMITH\\_MANAGED\\_DEPTS * PROJECT)}$\n",
    "\n",
    "$\\mathrm{RESULT \\leftarrow (SMITH\\_WORKER\\_PROJS \\cup SMITH\\_MANAGED\\_PROJS)}$"
   ]
  },
  {
   "cell_type": "code",
   "execution_count": null,
   "id": "1821a67c",
   "metadata": {},
   "outputs": [],
   "source": [
    "%%sql sqlite:///my_database.db\n",
    "\n",
    "SELECT DISTINCT P.Pnumber\n",
    "FROM Project AS P\n",
    "JOIN Department AS D ON P.Dnum = D.Dnumber\n",
    "JOIN Employee AS E ON D.Mgr_ssn = E.ssn\n",
    "WHERE E.Lname = 'Smith'\n",
    "\n",
    "UNION\n",
    "\n",
    "SELECT DISTINCT P.Pnumber\n",
    "FROM Project AS P\n",
    "JOIN Works_on AS W ON P.Pnumber = W.Pno\n",
    "JOIN Employee AS E ON W.Essn = E.Ssn\n",
    "WHERE E.Lname = 'Smith'"
   ]
  },
  {
   "cell_type": "code",
   "execution_count": null,
   "id": "8b604956-754a-4d2f-b343-c950c13cc781",
   "metadata": {},
   "outputs": [],
   "source": [
    "%%logica Q4_Result\n",
    "@Engine(\"sqlite\");\n",
    "@AttachDatabase(\"mydata\", \"my_database.db\");\n",
    "\n",
    "Q4_Result(Pnumber:pno):-\n",
    "    Works_On(Essn:x, Pno:pno),\n",
    "    Employee(Lname:\"Smith\",Ssn:y),\n",
    "    x=y;\n",
    "    \n",
    "Q4_Result(Pnumber:pno):-\n",
    "    Project(Pnumber:pno, Dnum:x),\n",
    "    Department(Dnumber:y,Mgr_ssn:ssn_1),\n",
    "    Employee(Ssn:ssn_2, Lname:\"Smith\"),\n",
    "    x=y,\n",
    "    ssn_1=ssn_2;"
   ]
  },
  {
   "cell_type": "markdown",
   "id": "635fc067",
   "metadata": {},
   "source": [
    "#### Query 5: For each employee, retrieve the employee’s first and last name and the first and last name of his or her immediate supervisor."
   ]
  },
  {
   "cell_type": "markdown",
   "id": "2f19f12d",
   "metadata": {},
   "source": [
    "$\\mathrm{\\Pi_{E\\_fname, E\\_lname, S\\_fname, S\\_lname}(EMPLOYEE\\bowtie_{Super\\_Ssn=Ssn}(EMPLOYEE))}$"
   ]
  },
  {
   "cell_type": "code",
   "execution_count": null,
   "id": "39aec0ce",
   "metadata": {},
   "outputs": [],
   "source": [
    "%%sql sqlite:///my_database.db\n",
    "\n",
    "SELECT E.Fname as E_fname, E.Lname as E_lname, S.Fname as S_fname, S.Lname as S_lname\n",
    "FROM EMPLOYEE AS E, EMPLOYEE AS S\n",
    "WHERE E.Super_ssn = S.Ssn;"
   ]
  },
  {
   "cell_type": "code",
   "execution_count": null,
   "id": "15064cab-3ed1-49de-bf38-b9760dac6110",
   "metadata": {},
   "outputs": [],
   "source": [
    "%%logica Q5_Result\n",
    "\n",
    "@Engine(\"sqlite\");\n",
    "@AttachDatabase(\"mydata\", \"my_database.db\");\n",
    "\n",
    "Q5_Result(E_fname:fn_x, E_lname:ln_x, S_fname:fn_y,S_lname:ln_y):- \n",
    "    Employee(Fname:fn_x, Lname:ln_x,Super_ssn:x),\n",
    "    Employee(Fname:fn_y, Lname:ln_y,Ssn:y), \n",
    "    x=y;"
   ]
  },
  {
   "cell_type": "markdown",
   "id": "f89c9dca",
   "metadata": {},
   "source": [
    "#### Query 6: Select all combinations of EMPLOYEE Ssn and DEPARTMENT Dname (Q10) in the database"
   ]
  },
  {
   "cell_type": "markdown",
   "id": "ddceff38",
   "metadata": {},
   "source": [
    "$\\mathrm{\\sigma_{Ssn, Dname}EMPLOYEE \\times DEPARTMENT}$"
   ]
  },
  {
   "cell_type": "code",
   "execution_count": null,
   "id": "6e4f4cbc",
   "metadata": {},
   "outputs": [],
   "source": [
    "%%sql sqlite:///my_database.db\n",
    "    \n",
    "SELECT Ssn, Dname\n",
    "FROM EMPLOYEE, DEPARTMENT"
   ]
  },
  {
   "cell_type": "code",
   "execution_count": null,
   "id": "821edcea",
   "metadata": {},
   "outputs": [],
   "source": [
    "%%logica Q6_Result\n",
    "@Engine(\"sqlite\");\n",
    "@AttachDatabase(\"mydata\", \"my_database.db\");\n",
    "\n",
    "Q6_Result(Ssn:x, Dname:y):-\n",
    "    Employee(Ssn:x), Department(Dname:y);"
   ]
  },
  {
   "cell_type": "markdown",
   "id": "4cccb388",
   "metadata": {},
   "source": [
    "#### Query 7: Show the resulting salaries if every employee working on the ‘ProductX’ project is given a 10% raise"
   ]
  },
  {
   "cell_type": "markdown",
   "id": "f66349b8",
   "metadata": {},
   "source": [
    "$\\mathrm{EMP\\_PROJX \\leftarrow \\sigma_{Pname='ProjectX'}(WORKS\\_ON \\bowtie_{Pno=Pnumber} PROJECT)}$\n",
    "\n",
    "$\\mathrm{RESULT(Fname, Lname, Increased\\_sal) \\leftarrow \\pi_{Fname, Lname, 1.1*Salary}(EMPLOYEE \\bowtie_{Ssn=Essn} EMP\\_PROJX)}$"
   ]
  },
  {
   "cell_type": "code",
   "execution_count": null,
   "id": "5442d558",
   "metadata": {},
   "outputs": [],
   "source": [
    "%%sql sqlite:///my_database.db\n",
    "    \n",
    "SELECT E.Fname, E.Lname, 1.1 * E.Salary AS Increased_sal\n",
    "FROM EMPLOYEE AS E, WORKS_ON AS W, PROJECT AS P\n",
    "WHERE E.Ssn = W.Essn AND W.Pno = P.Pnumber AND\n",
    "P.Pname = 'ProductX';"
   ]
  },
  {
   "cell_type": "code",
   "execution_count": null,
   "id": "fde82442-b31e-4ad9-9bdc-bc78361b19cc",
   "metadata": {},
   "outputs": [],
   "source": [
    "%%logica Q7_Result\n",
    "@Engine(\"sqlite\");\n",
    "@AttachDatabase(\"mydata\", \"my_database.db\");\n",
    "\n",
    "Q7_Result(Fname:fn, Lname:ln, Increased_Sal:sl*1.1):-\n",
    "    Employee(Fname:fn, Lname:ln,SSn:ssn1, Salary:sl),\n",
    "    Works_On(Essn:ssn2, Pno:x), \n",
    "    Project(Pname:\"ProductX\",Pnumber:y),\n",
    "    ssn1=ssn2, x=y;"
   ]
  },
  {
   "cell_type": "markdown",
   "id": "d3e04720",
   "metadata": {},
   "source": [
    "## Logica Exercises"
   ]
  },
  {
   "cell_type": "markdown",
   "id": "53c90b69",
   "metadata": {},
   "source": [
    "#### Query 8: Retrieve the name and address of all employees who work for the 'Administration' department. "
   ]
  },
  {
   "cell_type": "code",
   "execution_count": null,
   "id": "fd47981f",
   "metadata": {},
   "outputs": [],
   "source": [
    "%%logica Q8_Result\n",
    "@Engine(\"sqlite\");\n",
    "@AttachDatabase(\"mydata\", \"my_database.db\");\n",
    "\n",
    "# Insert your logica query here"
   ]
  },
  {
   "cell_type": "markdown",
   "id": "b9567b80",
   "metadata": {},
   "source": [
    "#### Query 9: Retrieve the name of each employee who has a dependent with the same sex as the employee."
   ]
  },
  {
   "cell_type": "code",
   "execution_count": null,
   "id": "4805ee2a",
   "metadata": {},
   "outputs": [],
   "source": [
    "%%logica Q9_Result\n",
    "@Engine(\"sqlite\");\n",
    "@AttachDatabase(\"mydata\", \"my_database.db\");\n",
    "\n",
    "# Insert your logica query here"
   ]
  },
  {
   "cell_type": "markdown",
   "id": "7cc93a43",
   "metadata": {},
   "source": []
  }
 ],
 "metadata": {
  "kernelspec": {
   "display_name": "Python 3 (ipykernel)",
   "language": "python",
   "name": "python3"
  },
  "language_info": {
   "codemirror_mode": {
    "name": "ipython",
    "version": 3
   },
   "file_extension": ".py",
   "mimetype": "text/x-python",
   "name": "python",
   "nbconvert_exporter": "python",
   "pygments_lexer": "ipython3",
   "version": "3.9.2"
  },
  "vscode": {
   "interpreter": {
    "hash": "8b7eedf106401029ffa3b0a271f73d13ee39815d8ba2ed15df644150c1891f03"
   }
  }
 },
 "nbformat": 4,
 "nbformat_minor": 5
}
