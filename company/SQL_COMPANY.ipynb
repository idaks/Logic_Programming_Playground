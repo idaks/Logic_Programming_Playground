{
 "cells": [
  {
   "cell_type": "markdown",
   "id": "616e44df-876b-4104-94b9-63c69f2ae583",
   "metadata": {},
   "source": [
    "# Loading CSV files into SQLite (the CLI way)"
   ]
  },
  {
   "cell_type": "markdown",
   "id": "861950a2-23e6-4c1a-abb4-2ad1f735498a",
   "metadata": {},
   "source": [
    "#### Do we have any CSV files?"
   ]
  },
  {
   "cell_type": "code",
   "execution_count": 1,
   "id": "3783617a-c2c6-4756-b3a7-6642665ef482",
   "metadata": {},
   "outputs": [
    {
     "name": "stdout",
     "output_type": "stream",
     "text": [
      "datasets/Department.csv\n",
      "datasets/Dependent.csv\n",
      "datasets/Dept_Location.csv\n",
      "datasets/Employee.csv\n",
      "datasets/Project.csv\n",
      "datasets/Works_On.csv\n"
     ]
    }
   ],
   "source": [
    "!ls -1 datasets/*.csv"
   ]
  },
  {
   "cell_type": "markdown",
   "id": "3787cfae-1310-4a0b-8b35-edff3c1fce55",
   "metadata": {},
   "source": [
    "#### Great! How large are they?"
   ]
  },
  {
   "cell_type": "code",
   "execution_count": 2,
   "id": "b2086b2e-2e66-4f2f-a032-93ae5aeffdb1",
   "metadata": {},
   "outputs": [
    {
     "name": "stdout",
     "output_type": "stream",
     "text": [
      "       3       4     145 datasets/Department.csv\n",
      "       7       8     306 datasets/Dependent.csv\n",
      "       5       6      76 datasets/Dept_Location.csv\n",
      "       9      18     704 datasets/Employee.csv\n",
      "       6       7     184 datasets/Project.csv\n",
      "      17      17     305 datasets/Works_On.csv\n",
      "      47      60    1720 total\n"
     ]
    }
   ],
   "source": [
    "!wc datasets/*.csv"
   ]
  },
  {
   "cell_type": "markdown",
   "id": "ff3a0cdc-142b-4b89-b88b-88d9bd902f4d",
   "metadata": {},
   "source": [
    "#### Let's look at the first couple of lines in each CSV file:"
   ]
  },
  {
   "cell_type": "code",
   "execution_count": 3,
   "id": "0f1038b4-99e5-450c-b378-a52c65e0ecbd",
   "metadata": {},
   "outputs": [
    {
     "name": "stdout",
     "output_type": "stream",
     "text": [
      "==> datasets/Department.csv <==\n",
      "Dname,Dnumber,Mgr_ssn,Mgr_start_date\n",
      "Research,5,333445555,1988-05-22\n",
      "Administration,4,987654321,1995-01-01\n",
      "\n",
      "==> datasets/Dependent.csv <==\n",
      "Essn,Dependent_name,Sex,Bdate,Relationship\n",
      "333445555,Alice,F,1986-04-05,Daughter\n",
      "333445555,Theodore,M,1983-10-25,Son\n",
      "\n",
      "==> datasets/Dept_Location.csv <==\n",
      "Dnumber,Dlocation\n",
      "1,Houston\n",
      "4,Stafford\n",
      "\n",
      "==> datasets/Employee.csv <==\n",
      "Fname,Minit,Lname,Ssn,Bdate,Address,Sex,Salary,Super_ssn,Dno\n",
      "John,B,Smith,123456789,1965-01-09,\"731 Fondren,Houston,TX\",M,30000,333445555,5\n",
      "Franklin,T,Wong,333445555,1955-12-08,\"638 Voss,Houston,TX\",M,40000,888665555,5\n",
      "\n",
      "==> datasets/Project.csv <==\n",
      "Pname,Pnumber,Plocation,Dnum\n",
      "ProductX,1,Bellaire,5\n",
      "ProductY,2,Sugarland,5\n",
      "\n",
      "==> datasets/Works_On.csv <==\n",
      "Essn,Pno,Hours\n",
      "123456789,1,32.5\n",
      "123456789,2,7.5\n"
     ]
    }
   ],
   "source": [
    "!head -n3 datasets/*.csv"
   ]
  },
  {
   "cell_type": "markdown",
   "id": "0325ef22-1680-4c7b-8fac-9bd3ddac3d7e",
   "metadata": {},
   "source": [
    "#### Let's review some SQLite-specific \"dot\" commands for importing CSV files directly"
   ]
  },
  {
   "cell_type": "code",
   "execution_count": 4,
   "id": "08c3586b-d665-49cc-be69-0e13e85e287a",
   "metadata": {},
   "outputs": [
    {
     "name": "stdout",
     "output_type": "stream",
     "text": [
      "Overwriting load-csv-files.sql\n"
     ]
    }
   ],
   "source": [
    "%%file load-csv-files.sql\n",
    "\n",
    "-- We want to use CSV (comma-separated values) files: \n",
    ".mode csv \n",
    "\n",
    "-- Import csv-file into a table\n",
    ".import datasets/Employee.csv Employee\n",
    ".import datasets/Department.csv Department\n",
    ".import datasets/Dependent.csv Dependent\n",
    ".import datasets/Dept_Location.csv Dept_Location\n",
    ".import datasets/Project.csv Project\n",
    ".import datasets/Works_On.csv Works_On\n",
    "\n",
    "-- make output prettier \n",
    ".mode columns\n",
    ".headers on\n",
    ".echo on\n",
    "\n",
    "-- Display the database schema (table names only)\n",
    ".tables \n",
    "\n",
    "-- Show the number of rows for each table:\n",
    "\n",
    "SELECT count(*) FROM Employee;\n",
    "\n",
    "SELECT count(*) FROM Department;\n",
    "\n",
    "SELECT count(*) FROM Dependent;\n",
    "\n",
    "SELECT count(*) FROM Dept_Location;\n",
    "\n",
    "SELECT count(*) FROM Project;\n",
    "\n",
    "-- SELECT count(*) FROM Works_on;\n",
    "\n",
    "-- Show the first couple of rows of each table:\n",
    "\n",
    "SELECT * FROM Employee LIMIT 3; \n",
    "\n",
    "SELECT * FROM Department LIMIT 3;\n",
    "\n",
    "SELECT * FROM Dependent LIMIT 3;\n",
    "\n",
    "SELECT * FROM Dept_Location LIMIT 3;\n",
    "\n",
    "SELECT * FROM Project LIMIT 3;\n",
    "\n",
    "SELECT * FROM Works_on LIMIT 3;\n",
    "\n",
    ".schema\n",
    "\n",
    ".exit\n"
   ]
  },
  {
   "cell_type": "markdown",
   "id": "bb48616b-a0a4-4292-8436-8c27faa6a982",
   "metadata": {},
   "source": [
    "#### Remove the COMPANY database file (if it exists)"
   ]
  },
  {
   "cell_type": "code",
   "execution_count": 5,
   "id": "5729ed5c-7c8e-4d86-be90-6f306af1e82a",
   "metadata": {},
   "outputs": [],
   "source": [
    "!rm COMPANY.db"
   ]
  },
  {
   "cell_type": "markdown",
   "id": "87b5b83e-063b-4d4d-95cd-4fc0050e05e8",
   "metadata": {},
   "source": [
    "#### Create COMPANY database by running the load script"
   ]
  },
  {
   "cell_type": "code",
   "execution_count": 6,
   "id": "aa6a2a0e-0e6f-443a-81ef-8bb468ba87e9",
   "metadata": {},
   "outputs": [
    {
     "name": "stdout",
     "output_type": "stream",
     "text": [
      "\n",
      "-- Display the database schema (table names only)\n",
      ".tables \n",
      "Department     Dept_Location  Project      \n",
      "Dependent      Employee       Works_On     \n",
      "\n",
      "-- Show the number of rows for each table:\n",
      "\n",
      "SELECT count(*) FROM Employee;\n",
      "count(*)\n",
      "--------\n",
      "8       \n",
      "\n",
      "SELECT count(*) FROM Department;\n",
      "count(*)\n",
      "--------\n",
      "3       \n",
      "\n",
      "SELECT count(*) FROM Dependent;\n",
      "count(*)\n",
      "--------\n",
      "7       \n",
      "\n",
      "SELECT count(*) FROM Dept_Location;\n",
      "count(*)\n",
      "--------\n",
      "5       \n",
      "\n",
      "SELECT count(*) FROM Project;\n",
      "count(*)\n",
      "--------\n",
      "6       \n",
      "\n",
      "-- SELECT count(*) FROM Works_on;\n",
      "\n",
      "-- Show the first couple of rows of each table:\n",
      "\n",
      "SELECT * FROM Employee LIMIT 3; \n",
      "Fname     Minit  Lname   Ssn        Bdate       Address                 Sex  Salary  Super_ssn  Dno\n",
      "--------  -----  ------  ---------  ----------  ----------------------  ---  ------  ---------  ---\n",
      "John      B      Smith   123456789  1965-01-09  731 Fondren,Houston,TX  M    30000   333445555  5  \n",
      "Franklin  T      Wong    333445555  1955-12-08  638 Voss,Houston,TX     M    40000   888665555  5  \n",
      "Alicia    J      Zelaya  999887777  1968-01-19  3321 Castle,Spring,TX   F    25000   987654321  4  \n",
      "\n",
      "SELECT * FROM Department LIMIT 3;\n",
      "Dname           Dnumber  Mgr_ssn    Mgr_start_date\n",
      "--------------  -------  ---------  --------------\n",
      "Research        5        333445555  1988-05-22    \n",
      "Administration  4        987654321  1995-01-01    \n",
      "Headquarters    1        888665555  1981-06-19    \n",
      "\n",
      "SELECT * FROM Dependent LIMIT 3;\n",
      "Essn       Dependent_name  Sex  Bdate       Relationship\n",
      "---------  --------------  ---  ----------  ------------\n",
      "333445555  Alice           F    1986-04-05  Daughter    \n",
      "333445555  Theodore        M    1983-10-25  Son         \n",
      "333445555  Joy             F    1958-05-03  Spouse      \n",
      "\n",
      "SELECT * FROM Dept_Location LIMIT 3;\n",
      "Dnumber  Dlocation\n",
      "-------  ---------\n",
      "1        Houston  \n",
      "4        Stafford \n",
      "5        Bellaire \n",
      "\n",
      "SELECT * FROM Project LIMIT 3;\n",
      "Pname     Pnumber  Plocation  Dnum\n",
      "--------  -------  ---------  ----\n",
      "ProductX  1        Bellaire   5   \n",
      "ProductY  2        Sugarland  5   \n",
      "ProductZ  3        Houston    5   \n",
      "\n",
      "SELECT * FROM Works_on LIMIT 3;\n",
      "Essn       Pno  Hours\n",
      "---------  ---  -----\n",
      "123456789  1    32.5 \n",
      "123456789  2    7.5  \n",
      "666884444  3    40.0 \n",
      "\n",
      ".schema\n",
      "CREATE TABLE IF NOT EXISTS \"Employee\"(\n",
      "\"Fname\" TEXT, \"Minit\" TEXT, \"Lname\" TEXT, \"Ssn\" TEXT,\n",
      " \"Bdate\" TEXT, \"Address\" TEXT, \"Sex\" TEXT, \"Salary\" TEXT,\n",
      " \"Super_ssn\" TEXT, \"Dno\" TEXT);\n",
      "CREATE TABLE IF NOT EXISTS \"Department\"(\n",
      "\"Dname\" TEXT, \"Dnumber\" TEXT, \"Mgr_ssn\" TEXT, \"Mgr_start_date\" TEXT);\n",
      "CREATE TABLE IF NOT EXISTS \"Dependent\"(\n",
      "\"Essn\" TEXT, \"Dependent_name\" TEXT, \"Sex\" TEXT, \"Bdate\" TEXT,\n",
      " \"Relationship\" TEXT);\n",
      "CREATE TABLE IF NOT EXISTS \"Dept_Location\"(\n",
      "\"Dnumber\" TEXT, \"Dlocation\" TEXT);\n",
      "CREATE TABLE IF NOT EXISTS \"Project\"(\n",
      "\"Pname\" TEXT, \"Pnumber\" TEXT, \"Plocation\" TEXT, \"Dnum\" TEXT);\n",
      "CREATE TABLE IF NOT EXISTS \"Works_On\"(\n",
      "\"Essn\" TEXT, \"Pno\" TEXT, \"Hours\" TEXT);\n",
      "\n",
      ".exit\n"
     ]
    }
   ],
   "source": [
    "!sqlite3 COMPANY.db < load-csv-files.sql"
   ]
  },
  {
   "cell_type": "markdown",
   "id": "f9cda536-9f11-4499-a97c-5c8757a88489",
   "metadata": {},
   "source": [
    "#### Uhh.. that schema looks a bit ugly. We need to edit this .. "
   ]
  },
  {
   "cell_type": "markdown",
   "id": "239de325-4e2a-4f00-90db-c14e2802e7fa",
   "metadata": {},
   "source": [
    "#### Let's create a SQL \"dump\", then edit it as needed"
   ]
  },
  {
   "cell_type": "code",
   "execution_count": 7,
   "id": "fb77c3e6-ead2-4c66-a58e-272cdf16d0df",
   "metadata": {},
   "outputs": [],
   "source": [
    "!sqlite3 COMPANY.db .dump > COMPANY-dump.sql"
   ]
  },
  {
   "cell_type": "code",
   "execution_count": 8,
   "id": "b12a6c11-bcc7-4bfd-b29c-d0a3a22ca7ef",
   "metadata": {},
   "outputs": [
    {
     "name": "stdout",
     "output_type": "stream",
     "text": [
      "PRAGMA foreign_keys=OFF;\n",
      "BEGIN TRANSACTION;\n",
      "CREATE TABLE IF NOT EXISTS \"Employee\"(\n",
      "\"Fname\" TEXT, \"Minit\" TEXT, \"Lname\" TEXT, \"Ssn\" TEXT,\n",
      " \"Bdate\" TEXT, \"Address\" TEXT, \"Sex\" TEXT, \"Salary\" TEXT,\n",
      " \"Super_ssn\" TEXT, \"Dno\" TEXT);\n",
      "INSERT INTO Employee VALUES('John','B','Smith','123456789','1965-01-09','731 Fondren,Houston,TX','M','30000','333445555','5');\n",
      "INSERT INTO Employee VALUES('Franklin','T','Wong','333445555','1955-12-08','638 Voss,Houston,TX','M','40000','888665555','5');\n",
      "INSERT INTO Employee VALUES('Alicia','J','Zelaya','999887777','1968-01-19','3321 Castle,Spring,TX','F','25000','987654321','4');\n",
      "INSERT INTO Employee VALUES('Jennifer','S','Wallace','987654321','1941-06-20','291 Berry,Bellaire,TX','F','43000','888665555','4');\n"
     ]
    }
   ],
   "source": [
    "!head COMPANY-dump.sql"
   ]
  },
  {
   "cell_type": "markdown",
   "id": "591c50fd-2a79-4afd-bd53-a5ccd5c75bb5",
   "metadata": {},
   "source": [
    "#### After editing it might look like this:"
   ]
  },
  {
   "cell_type": "code",
   "execution_count": 9,
   "id": "d8fe7ce1-f130-421a-be49-417f4df69311",
   "metadata": {},
   "outputs": [
    {
     "name": "stdout",
     "output_type": "stream",
     "text": [
      "Overwriting COMPANY-schema-edited.sql\n"
     ]
    }
   ],
   "source": [
    "%%file COMPANY-schema-edited.sql\n",
    "\n",
    "-- NOTE: With Foreign Keys set to ON, we have a problem. Why??\n",
    "PRAGMA foreign_keys=OFF;\n",
    "\n",
    "CREATE TABLE Employee(\n",
    "       Fname TEXT,\n",
    "       Minit TEXT,\n",
    "       Lname TEXT,\n",
    "       Ssn PRIMARY KEY,\n",
    "       Bdate TEXT,\n",
    "       Address TEXT,\n",
    "       Sex TEXT,\n",
    "       Salary TEXT,\n",
    "       Super_ssn TEXT REFERENCES Employee ON DELETE CASCADE, -- careful here! Do we really want this? \n",
    "       Dno INTEGER REFERENCES Department\n",
    "       );\n",
    "\n",
    "INSERT INTO Employee VALUES('James','E','Borg','888665555','1937-11-10','450 Stone,Houston,TX','M','55000',NULL,'1');\n",
    "INSERT INTO Employee VALUES('John','B','Smith','123456789','1965-01-09','731 Fondren,Houston,TX','M','30000','333445556','5');\n",
    "INSERT INTO Employee VALUES('Franklin','T','Wong','333445555','1955-12-08','638 Voss,Houston,TX','M','40000','888665555','5');\n",
    "INSERT INTO Employee VALUES('Alicia','J','Zelaya','999887777','1968-01-19','3321 Castle,Spring,TX','F','25000','987654321','4');\n",
    "INSERT INTO Employee VALUES('Jennifer','S','Wallace','987654321','1941-06-20','291 Berry,Bellaire,TX','F','43000','888665555','4');\n",
    "INSERT INTO Employee VALUES('Ramesh','K','Narayan','666884444','1962-09-15','975 Fire Oak,Humble,TX','M','38000','333445555','5');\n",
    "INSERT INTO Employee VALUES('Joyce','A','English','453453453','1972-07-31','5631 Rice,Houston,TX','F','25000','333445555','5');\n",
    "INSERT INTO Employee VALUES('Ahmad','V','Jabbar','987987987','1969-03-29','980 Dallas,Houston,TX','M','25000','987654321','4');\n",
    "\n",
    "\n",
    "CREATE TABLE Department(\n",
    "       Dname TEXT,\n",
    "       Dnumber INTEGER PRIMARY KEY,\n",
    "       Mgr_ssn TEXT REFERENCES Employee,\n",
    "       Mgr_start_date TEXT\n",
    "       );\n",
    "\n",
    "INSERT INTO Department VALUES('Research','5','333445555','1988-05-22');\n",
    "INSERT INTO Department VALUES('Administration','4','987654321','1995-01-01');\n",
    "INSERT INTO Department VALUES('Headquarters','1','888665555','1981-06-19');\n",
    "\n",
    "\n",
    "CREATE TABLE Dependent(\n",
    "       Essn TEXT REFERENCES Employee,\n",
    "       Dependent_name TEXT,\n",
    "       Sex TEXT,\n",
    "       Bdate TEXT,\n",
    "       Relationship TEXT\n",
    "       );\n",
    "\n",
    "INSERT INTO Dependent VALUES('333445555','Alice','F','1986-04-05','Daughter');\n",
    "INSERT INTO Dependent VALUES('333445555','Theodore','M','1983-10-25','Son');\n",
    "INSERT INTO Dependent VALUES('333445555','Joy','F','1958-05-03','Spouse');\n",
    "INSERT INTO Dependent VALUES('987654321','Abner','M','1942-02-28','Spouse');\n",
    "INSERT INTO Dependent VALUES('123456789','Michael','M','1988-01-04','Son');\n",
    "INSERT INTO Dependent VALUES('123456789','Alice','F','1988-12-30','Daughter');\n",
    "INSERT INTO Dependent VALUES('123456789','Elizabeth','F','1967-05-05','Spouse');\n",
    "\n",
    "CREATE TABLE Dept_Location(\n",
    "       Dnumber INTEGER REFERENCES Department,\n",
    "       Dlocation TEXT\n",
    "       );\n",
    "\n",
    "INSERT INTO Dept_Location VALUES('1','Houston');\n",
    "INSERT INTO Dept_Location VALUES('4','Stafford');\n",
    "INSERT INTO Dept_Location VALUES('5','Bellaire');\n",
    "INSERT INTO Dept_Location VALUES('5','Sugarland');\n",
    "INSERT INTO Dept_Location VALUES('5','Houston');\n",
    "\n",
    "CREATE TABLE Project(\n",
    "       Pname TEXT,\n",
    "       Pnumber INTEGER PRIMARY KEY,\n",
    "       Plocation TEXT,\n",
    "       Dnum INTEGER REFERENCES Department\n",
    "       );\n",
    "\n",
    "INSERT INTO Project VALUES('ProductX','1','Bellaire','5');\n",
    "INSERT INTO Project VALUES('ProductY','2','Sugarland','5');\n",
    "INSERT INTO Project VALUES('ProductZ','3','Houston','5');\n",
    "INSERT INTO Project VALUES('Computerization','10','Stafford','4');\n",
    "INSERT INTO Project VALUES('Reorganization','20','Houston','1');\n",
    "INSERT INTO Project VALUES('Newbenefits','30','Stafford','4');\n",
    "\n",
    "CREATE TABLE Works_On(\n",
    "       Essn TEXT REFERENCES Employee,\n",
    "       Pno INTEGER REFERENCES Project,\n",
    "       Hours TEXT\n",
    "       );\n",
    "\n",
    "INSERT INTO Works_On VALUES('123456789','1','32.5');\n",
    "INSERT INTO Works_On VALUES('123456789','2','7.5');\n",
    "INSERT INTO Works_On VALUES('666884444','3','40.0');\n",
    "INSERT INTO Works_On VALUES('453453453','1','20.0');\n",
    "INSERT INTO Works_On VALUES('453453453','2','20.0');\n",
    "INSERT INTO Works_On VALUES('333445555','2','10.0');\n",
    "INSERT INTO Works_On VALUES('333445555','3','10.0');\n",
    "INSERT INTO Works_On VALUES('333445555','10','10.0');\n",
    "INSERT INTO Works_On VALUES('333445555','20','10.0');\n",
    "INSERT INTO Works_On VALUES('999887777','30','30.0');\n",
    "INSERT INTO Works_On VALUES('999887777','10','10.0');\n",
    "INSERT INTO Works_On VALUES('987987987','10','35.0');\n",
    "INSERT INTO Works_On VALUES('987987987','30','5.0');\n",
    "INSERT INTO Works_On VALUES('987654321','30','20.0');\n",
    "INSERT INTO Works_On VALUES('987654321','20','15.0');\n",
    "INSERT INTO Works_On VALUES('888665555','20',NULL);\n",
    "\n",
    "PRAGMA foreign_keys=ON;\n",
    "\n",
    ".schema\n"
   ]
  },
  {
   "cell_type": "markdown",
   "id": "95d6fbe4-b81d-4e23-bb74-71f80af0e1e3",
   "metadata": {},
   "source": [
    "#### Let's rebuild the database from this SQL file"
   ]
  },
  {
   "cell_type": "code",
   "execution_count": 10,
   "id": "35f318f4-a05a-4ad7-96ac-54693aab5b87",
   "metadata": {},
   "outputs": [
    {
     "name": "stdout",
     "output_type": "stream",
     "text": [
      "CREATE TABLE Employee(\n",
      "       Fname TEXT,\n",
      "       Minit TEXT,\n",
      "       Lname TEXT,\n",
      "       Ssn PRIMARY KEY,\n",
      "       Bdate TEXT,\n",
      "       Address TEXT,\n",
      "       Sex TEXT,\n",
      "       Salary TEXT,\n",
      "       Super_ssn TEXT REFERENCES Employee ON DELETE CASCADE, -- careful here! Do we really want this? \n",
      "       Dno INTEGER REFERENCES Department\n",
      "       );\n",
      "CREATE TABLE Department(\n",
      "       Dname TEXT,\n",
      "       Dnumber INTEGER PRIMARY KEY,\n",
      "       Mgr_ssn TEXT REFERENCES Employee,\n",
      "       Mgr_start_date TEXT\n",
      "       );\n",
      "CREATE TABLE Dependent(\n",
      "       Essn TEXT REFERENCES Employee,\n",
      "       Dependent_name TEXT,\n",
      "       Sex TEXT,\n",
      "       Bdate TEXT,\n",
      "       Relationship TEXT\n",
      "       );\n",
      "CREATE TABLE Dept_Location(\n",
      "       Dnumber INTEGER REFERENCES Department,\n",
      "       Dlocation TEXT\n",
      "       );\n",
      "CREATE TABLE Project(\n",
      "       Pname TEXT,\n",
      "       Pnumber INTEGER PRIMARY KEY,\n",
      "       Plocation TEXT,\n",
      "       Dnum INTEGER REFERENCES Department\n",
      "       );\n",
      "CREATE TABLE Works_On(\n",
      "       Essn TEXT REFERENCES Employee,\n",
      "       Pno INTEGER REFERENCES Project,\n",
      "       Hours TEXT\n",
      "       );\n"
     ]
    }
   ],
   "source": [
    "!rm COMPANY.db\n",
    "!sqlite3 COMPANY.db < COMPANY-schema-edited.sql"
   ]
  },
  {
   "cell_type": "markdown",
   "id": "52473f49-6176-4c17-98a7-ee5fe63cb85c",
   "metadata": {},
   "source": [
    "#### Looking good. We could do more fancy things with the schema.. But on to queries instead!"
   ]
  },
  {
   "cell_type": "code",
   "execution_count": 11,
   "id": "e1a694d3-44b9-4da5-bbb9-d66179f0bf68",
   "metadata": {},
   "outputs": [
    {
     "name": "stdout",
     "output_type": "stream",
     "text": [
      "Overwriting simple-queries.sql\n"
     ]
    }
   ],
   "source": [
    "%%file simple-queries.sql\n",
    "\n",
    "-- Do nice columnar output\n",
    ".mode columns\n",
    "\n",
    ".print 'Q1: How many employees do we have?'\n",
    ".print ''\n",
    "\n",
    "SELECT COUNT(*) as '#Employees' FROM Employee;\n",
    "\n",
    ".print ''\n",
    ".print 'Q2: Who is the boss? The manager of the department that an employee works for!'\n",
    ".print ''\n",
    "\n",
    "SELECT E.SSN as 'Employee', \n",
    "       M.SSN as 'Boss'\n",
    "FROM   Employee E, \n",
    "       Employee M\n",
    "WHERE E.Super_SSN = M.SSN\n",
    "ORDER BY M.SSN;\n",
    "\n",
    ".print ''\n",
    ".print 'Q3: OK, we need names:'\n",
    ".print ''\n",
    "\n",
    "SELECT E.LName || ', ' || E.FName as 'Employee', \n",
    "       M.LName || ', ' || M.FName as 'Boss'\n",
    "FROM   Employee E, \n",
    "       Employee M\n",
    "WHERE E.Super_SSN = M.SSN;"
   ]
  },
  {
   "cell_type": "markdown",
   "id": "3344f4fa-1985-4828-a750-b0866038c5a1",
   "metadata": {},
   "source": [
    "#### Now running those simple queries:"
   ]
  },
  {
   "cell_type": "code",
   "execution_count": 12,
   "id": "5a845087-8e04-4205-a39d-c17fa4cd9785",
   "metadata": {},
   "outputs": [
    {
     "name": "stdout",
     "output_type": "stream",
     "text": [
      "Q1: How many employees do we have?\n",
      "\n",
      "#Employees\n",
      "----------\n",
      "8         \n",
      "\n",
      "Q2: Who is the boss? The manager of the department that an employee works for!\n",
      "\n",
      "Employee   Boss     \n",
      "---------  ---------\n",
      "666884444  333445555\n",
      "453453453  333445555\n",
      "333445555  888665555\n",
      "987654321  888665555\n",
      "999887777  987654321\n",
      "987987987  987654321\n",
      "\n",
      "Q3: OK, we need names:\n",
      "\n",
      "Employee           Boss             \n",
      "-----------------  -----------------\n",
      "Wong, Franklin     Borg, James      \n",
      "Zelaya, Alicia     Wallace, Jennifer\n",
      "Wallace, Jennifer  Borg, James      \n",
      "Narayan, Ramesh    Wong, Franklin   \n",
      "English, Joyce     Wong, Franklin   \n",
      "Jabbar, Ahmad      Wallace, Jennifer\n"
     ]
    }
   ],
   "source": [
    "!sqlite3 COMPANY.db < simple-queries.sql"
   ]
  },
  {
   "cell_type": "markdown",
   "id": "aeb04883-c511-424e-b83f-f0e08f0b52b7",
   "metadata": {},
   "source": [
    "# SQL Exercises"
   ]
  },
  {
   "cell_type": "markdown",
   "id": "7f6376d7-4f6a-4d32-a702-e7c84e08611f",
   "metadata": {},
   "source": [
    "### Query Q4: Retrieve the name and address of all employees who work for the \"Administration\" department."
   ]
  },
  {
   "cell_type": "code",
   "execution_count": 13,
   "id": "ce494764",
   "metadata": {
    "scrolled": true
   },
   "outputs": [
    {
     "name": "stdout",
     "output_type": "stream",
     "text": [
      "Overwriting week9-Q4.sql\n"
     ]
    }
   ],
   "source": [
    "%%file week9-Q4.sql\n",
    "\n",
    ".mode columns\n",
    "\n",
    ".print 'Q4: Retrieve the name and address of all employees who work for the \"Administration\" department.'\n",
    ".print ''\n",
    "\n",
    "SELECT FName, Minit, Lname, Address \n",
    "FROM   Employee E, Department D\n",
    "WHERE  E.Dno = D.Dnumber AND D.Dname = 'Administration';"
   ]
  },
  {
   "cell_type": "code",
   "execution_count": 14,
   "id": "38ed55eb-c256-48d0-a246-bf6c809c1ff5",
   "metadata": {},
   "outputs": [
    {
     "name": "stdout",
     "output_type": "stream",
     "text": [
      "Q4: Retrieve the name and address of all employees who work for the \"Administration\" department.\n",
      "\n",
      "Fname     Minit  Lname    Address              \n",
      "--------  -----  -------  ---------------------\n",
      "Alicia    J      Zelaya   3321 Castle,Spring,TX\n",
      "Jennifer  S      Wallace  291 Berry,Bellaire,TX\n",
      "Ahmad     V      Jabbar   980 Dallas,Houston,TX\n"
     ]
    }
   ],
   "source": [
    "!sqlite3 COMPANY.db < week9-Q4.sql"
   ]
  },
  {
   "cell_type": "markdown",
   "id": "ebd1f18a-6c42-4f1e-9f23-9b55e37c19ca",
   "metadata": {},
   "source": [
    "### Substring Pattern Matching and Arithmetic Operators\n",
    "- Using the **LIKE** comparison operator for pattern matching\n",
    "- Partial strings are specified using two reserved characters:\n",
    "  > % replaces an arbitrary number of zero or more characters\n",
    "  \n",
    "  > underscore (_) replaces a single character"
   ]
  },
  {
   "cell_type": "markdown",
   "id": "1a04799d-b47f-4b59-beb5-c8bebd6a7955",
   "metadata": {},
   "source": [
    "### Query Q5: Retrieve all project names that include the string \"Product\"."
   ]
  },
  {
   "cell_type": "code",
   "execution_count": 15,
   "id": "2c3959f0-a44a-4a7b-b36d-d0869d1eacc8",
   "metadata": {},
   "outputs": [
    {
     "name": "stdout",
     "output_type": "stream",
     "text": [
      "Overwriting week9-Q5.sql\n"
     ]
    }
   ],
   "source": [
    "%%file week9-Q5.sql\n",
    "\n",
    ".mode columns\n",
    "\n",
    ".print 'Q5: Retrieve all project names that include the string \"Product\".'\n",
    ".print ''\n",
    "\n",
    "# Insert your SQL query here:\n",
    "SELECT Pname\n",
    "FROM   Project\n",
    "WHERE  Pname LIKE '%Product%';"
   ]
  },
  {
   "cell_type": "code",
   "execution_count": 16,
   "id": "948d2249-5202-447d-a13d-f124771004c5",
   "metadata": {},
   "outputs": [
    {
     "name": "stdout",
     "output_type": "stream",
     "text": [
      "Q5: Retrieve all project names that include the string \"Product\".\n",
      "\n",
      "Pname   \n",
      "--------\n",
      "ProductX\n",
      "ProductY\n",
      "ProductZ\n"
     ]
    }
   ],
   "source": [
    "!sqlite3 COMPANY.db < week9-Q5.sql"
   ]
  },
  {
   "cell_type": "markdown",
   "id": "d0409a5e-20e2-4970-8de4-37421d347fb5",
   "metadata": {},
   "source": [
    "## Nested Queries "
   ]
  },
  {
   "cell_type": "markdown",
   "id": "5a4160ce-9e2b-4138-834f-ebe19e75de11",
   "metadata": {},
   "source": [
    "### Query Q6: Retrieve the name of each employee who has a dependent with the same sex as the employee."
   ]
  },
  {
   "cell_type": "code",
   "execution_count": 17,
   "id": "255f4ba4-be53-4eee-b9ca-b501af80aa47",
   "metadata": {},
   "outputs": [
    {
     "name": "stdout",
     "output_type": "stream",
     "text": [
      "Overwriting week9-Q6.sql\n"
     ]
    }
   ],
   "source": [
    "%%file week9-Q6.sql\n",
    "\n",
    ".mode columns\n",
    "\n",
    ".print 'Q6: Retrieve the name of each employee who has a dependent with the same sex as the employee.'\n",
    ".print ''\n",
    "\n",
    "# Insert your SQL query here:\n",
    "SELECT E.Fname, E.Lname\n",
    "FROM   Employee AS E\n",
    "WHERE  E.Ssn IN (SELECT D.Essn\n",
    "                FROM Dependent AS D\n",
    "                WHERE E.Sex=D.Sex);\n",
    "\n",
    ".print ''\n",
    ".print '... same as before, but with a simple join and report also dependent names'\n",
    ".print ''\n",
    "\n",
    "# Insert your SQL query here:\n",
    "SELECT E.Fname, E.Lname, D.Dependent_name \n",
    "FROM   Employee E, Dependent D\n",
    "WHERE E.Ssn = D.Essn AND E.Sex=D.Sex;\n",
    "    "
   ]
  },
  {
   "cell_type": "code",
   "execution_count": 18,
   "id": "fe19ed2b-574e-4577-9dc1-4bee7c816438",
   "metadata": {},
   "outputs": [
    {
     "name": "stdout",
     "output_type": "stream",
     "text": [
      "Q6: Retrieve the name of each employee who has a dependent with the same sex as the employee.\n",
      "\n",
      "Fname     Lname\n",
      "--------  -----\n",
      "John      Smith\n",
      "Franklin  Wong \n",
      "\n",
      "... same as before, but with a simple join and report also dependent names\n",
      "\n",
      "Fname     Lname  Dependent_name\n",
      "--------  -----  --------------\n",
      "Franklin  Wong   Theodore      \n",
      "John      Smith  Michael       \n"
     ]
    }
   ],
   "source": [
    "!sqlite3 COMPANY.db < week9-Q6.sql"
   ]
  },
  {
   "cell_type": "markdown",
   "id": "460a1950-58c7-4c95-9a51-18374cfc8cbe",
   "metadata": {},
   "source": [
    "## Aggregate Functions in SQL \n",
    "- Aggregate functions are used to summarize information from multiple tuples into a single-tuple summary.\n",
    "  > Grouping is used to create subgroups of tuples before summarization.\n",
    "  \n",
    "  > A number of built-in aggregate functions exist: COUNT, SUM, MAX, MIN, and AVG.\n",
    "  \n",
    "  > HAVING clause "
   ]
  },
  {
   "cell_type": "markdown",
   "id": "ad50e444-a965-45db-99e1-47ae286a5d5c",
   "metadata": {},
   "source": [
    "### Query Q7: Find the sum of the salaries, the maximum salary, and the minimum salary for all female employees."
   ]
  },
  {
   "cell_type": "code",
   "execution_count": 19,
   "id": "c27595bf-d1f2-4130-b4e9-18821639e360",
   "metadata": {},
   "outputs": [
    {
     "name": "stdout",
     "output_type": "stream",
     "text": [
      "Overwriting week9-Q7.sql\n"
     ]
    }
   ],
   "source": [
    "%%file week9-Q7.sql\n",
    "\n",
    ".mode columns\n",
    "\n",
    ".print 'Q7: Find the sum of the salaries, the maximum salary, and the minimum salary for all female employees.'\n",
    ".print ''\n",
    "\n",
    "# Insert your SQL query here:\n",
    "SELECT SUM(Salary) as 'Total_salary', MAX(Salary) as 'Max_salary', MIN(Salary) as 'Min_salary'\n",
    "FROM   Employee\n",
    "WHERE  sex = 'F';\n"
   ]
  },
  {
   "cell_type": "code",
   "execution_count": 20,
   "id": "d9ea046b-2ae3-4b48-8a21-bec20d97b059",
   "metadata": {},
   "outputs": [
    {
     "name": "stdout",
     "output_type": "stream",
     "text": [
      "Q7: Find the sum of the salaries, the maximum salary, and the minimum salary for all female employees.\n",
      "\n",
      "Total_salary  Max_salary  Min_salary\n",
      "------------  ----------  ----------\n",
      "93000         43000       25000     \n"
     ]
    }
   ],
   "source": [
    "!sqlite3 COMPANY.db < week9-Q7.sql"
   ]
  },
  {
   "cell_type": "markdown",
   "id": "c3d15fd6-4d9b-41c4-9cca-eae1c8eb790a",
   "metadata": {},
   "source": [
    "### Query Q8: Retrieve the total number of employees in the \"Research\" department. "
   ]
  },
  {
   "cell_type": "code",
   "execution_count": 21,
   "id": "6a95c3fd-2007-4e84-b530-037ff9dd5c88",
   "metadata": {},
   "outputs": [
    {
     "name": "stdout",
     "output_type": "stream",
     "text": [
      "Overwriting week9-Q8.sql\n"
     ]
    }
   ],
   "source": [
    "%%file week9-Q8.sql\n",
    "\n",
    ".mode columns\n",
    "\n",
    ".print 'Q8: Retrieve the total number of employees in the \"Research\" department. '\n",
    ".print ''\n",
    "\n",
    "# Insert your SQL query here:\n",
    "SELECT  COUNT(*) as 'Number of Employees'\n",
    "FROM Employee E, Department D\n",
    "WHERE E.Dno = D.Dnumber AND\n",
    "      D.Dname = 'Research';\n",
    "    "
   ]
  },
  {
   "cell_type": "code",
   "execution_count": 22,
   "id": "8ee4d017-e72d-4372-87fb-5e80bbdc5b14",
   "metadata": {},
   "outputs": [
    {
     "name": "stdout",
     "output_type": "stream",
     "text": [
      "Q8: Retrieve the total number of employees in the \"Research\" department. \n",
      "\n",
      "Number of Employees\n",
      "-------------------\n",
      "4                  \n"
     ]
    }
   ],
   "source": [
    "!sqlite3 COMPANY.db < week9-Q8.sql"
   ]
  },
  {
   "cell_type": "code",
   "execution_count": 5,
   "id": "8fa741de-e11c-4e6d-901d-78eeb1e2fe25",
   "metadata": {},
   "outputs": [
    {
     "name": "stdout",
     "output_type": "stream",
     "text": [
      "Overwriting week9-Q9.sql\n"
     ]
    }
   ],
   "source": [
    "%%file week9-Q9.sql\n",
    "\n",
    ".mode columns\n",
    "\n",
    ".print 'Q9: For each depar....'\n",
    ".print ''\n",
    "\n",
    "# Insert your SQL query here:\n",
    "SELECT  Dno, COUNT(*) as 'Number of Employees'\n",
    "FROM Employee E, Department D\n",
    "GROUP BY Dno;\n",
    "    "
   ]
  },
  {
   "cell_type": "code",
   "execution_count": 6,
   "id": "085a603b-5216-4e0e-a5b2-83708dc54745",
   "metadata": {},
   "outputs": [
    {
     "name": "stdout",
     "output_type": "stream",
     "text": [
      "Q9: ....\n",
      "\n",
      "Dno  Number of Employees\n",
      "---  -------------------\n",
      "1    3                  \n",
      "4    9                  \n",
      "5    12                 \n"
     ]
    }
   ],
   "source": [
    "!sqlite3 COMPANY.db < week9-Q9.sql"
   ]
  },
  {
   "cell_type": "code",
   "execution_count": null,
   "id": "2369307a-2c6a-4cab-9079-26df3022c869",
   "metadata": {},
   "outputs": [],
   "source": []
  }
 ],
 "metadata": {
  "kernelspec": {
   "display_name": "Python 3 (ipykernel)",
   "language": "python",
   "name": "python3"
  },
  "language_info": {
   "codemirror_mode": {
    "name": "ipython",
    "version": 3
   },
   "file_extension": ".py",
   "mimetype": "text/x-python",
   "name": "python",
   "nbconvert_exporter": "python",
   "pygments_lexer": "ipython3",
   "version": "3.12.0"
  },
  "vscode": {
   "interpreter": {
    "hash": "31f2aee4e71d21fbe5cf8b01ff0e069b9275f58929596ceb00d14d90e3e16cd6"
   }
  }
 },
 "nbformat": 4,
 "nbformat_minor": 5
}
