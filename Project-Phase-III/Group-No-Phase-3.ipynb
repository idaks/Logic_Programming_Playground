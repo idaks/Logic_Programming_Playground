{
 "cells": [
  {
   "cell_type": "markdown",
   "id": "27441829-3bf0-45fd-8d7a-dafaf6947fad",
   "metadata": {},
   "source": [
    "# Project Phase III: Logica Design and Queries"
   ]
  },
  {
   "cell_type": "markdown",
   "id": "fb7d5965-a607-4107-97fa-2039ece0fc5d",
   "metadata": {},
   "source": [
    "Based on the feedback you received from previous milstones, using Logica to design the model and translate SQL queries in this notebook.\n",
    "\n",
    "Note: You might check **company/Logica_COMPANY.ipynb** for more information "
   ]
  },
  {
   "cell_type": "markdown",
   "id": "ea2bb6a1-4751-431e-a25f-8e21b55df47f",
   "metadata": {},
   "source": [
    "### Package Installation"
   ]
  },
  {
   "cell_type": "markdown",
   "id": "e1405820-19cd-47d4-be87-a88776845db2",
   "metadata": {},
   "source": [
    "First-time users need to install the following packages"
   ]
  },
  {
   "cell_type": "code",
   "execution_count": null,
   "id": "3ff4af4b-e77e-46fe-9855-bda28e33068d",
   "metadata": {},
   "outputs": [],
   "source": [
    "!python3 -m pip install logica\n",
    "!python3 -m pip install pandas\n",
    "!pip install ipython-sql"
   ]
  },
  {
   "cell_type": "markdown",
   "id": "2e3f5043-7460-4779-b370-b5b7c26dc1aa",
   "metadata": {},
   "source": [
    "After running the cell above, please restart the kernel to move on"
   ]
  },
  {
   "cell_type": "markdown",
   "id": "d5336421-0f54-4e6b-bfa0-17aec63b9c7f",
   "metadata": {},
   "source": [
    "### Package Import"
   ]
  },
  {
   "cell_type": "markdown",
   "id": "07f5ff1f-ff73-48b9-a421-7dc7677e17db",
   "metadata": {},
   "source": [
    "You can disregard the messages (\"Could not import ...\") when executing the cell below"
   ]
  },
  {
   "cell_type": "code",
   "execution_count": null,
   "id": "bdc4b02a-6333-4ba6-8e4b-2db8c9c69195",
   "metadata": {},
   "outputs": [],
   "source": [
    "from logica import colab_logica\n",
    "import pandas as pd\n",
    "import sqlite3"
   ]
  },
  {
   "cell_type": "code",
   "execution_count": null,
   "id": "a3dca9da-8207-47a2-ac26-cb9760710cae",
   "metadata": {},
   "outputs": [],
   "source": [
    "colab_logica.SetPreamble(\n",
    "    '@Engine(\"sqlite\"); @AttachDatabase(\"mydata\", \"my_database.db\");'\n",
    ")"
   ]
  },
  {
   "cell_type": "code",
   "execution_count": null,
   "id": "e3c7e1d4-c95c-4a1f-82c2-9e3201d0d011",
   "metadata": {},
   "outputs": [],
   "source": [
    "%load_ext sql"
   ]
  },
  {
   "cell_type": "markdown",
   "id": "45392a18-e405-49e4-9c33-7aff747f0be7",
   "metadata": {},
   "source": [
    "### Database Creation [10pts]"
   ]
  },
  {
   "cell_type": "markdown",
   "id": "d068c2f8-4acc-478b-b3f0-00064c481c56",
   "metadata": {},
   "source": [
    "Logica is typically run on a database. Since we only possess CSV files, we need first create a database.\n",
    "\n",
    "**Note: Upload your csv files to `datasets` folder.**"
   ]
  },
  {
   "cell_type": "code",
   "execution_count": null,
   "id": "0d5b18f1-d4d2-4637-afb7-31932fb6340d",
   "metadata": {},
   "outputs": [],
   "source": [
    "# Read csv files as Pandas DataFrame [2pts]\n",
    "# Insert your code below:"
   ]
  },
  {
   "cell_type": "code",
   "execution_count": null,
   "id": "78ac9632-f8a9-4810-8ba1-2f65dc00f408",
   "metadata": {},
   "outputs": [],
   "source": [
    "# Lowercase the columns from all of the tables [Ignore this step if they're already lowercase] [2pts]\n",
    "# Insert your code below: "
   ]
  },
  {
   "cell_type": "code",
   "execution_count": null,
   "id": "451fa7cb-d7c1-4717-a49f-0a843bb0de88",
   "metadata": {},
   "outputs": [],
   "source": [
    "# Using sqlite3 to create database and create tables [6pts]\n",
    "# Note: Name the database with your group ID\n",
    "# Insert your code below:\n",
    "conn = sqlite3.connect(\".db\")\n",
    "\n",
    "\n",
    "\n",
    "\n",
    "conn.close()"
   ]
  },
  {
   "cell_type": "markdown",
   "id": "013c1314-3656-4234-bb5a-a5f6f9a35180",
   "metadata": {},
   "source": [
    "### Queries [30pts]\n",
    "#### Translate your SQL queries from Project Milestone II to Logica queries\n",
    "\n",
    "To earn the full points, please ensure you fulfill all the three requirements as following:\n",
    "- Write the queries in English [2pts]\n",
    "- Write the queries in SQL (copy-paste from phase II)[2pts]\n",
    "- Write the queries in Logica [7pts]\n",
    "\n",
    "Note: If you find it hard to do the translation, provide 2 to 3 sentences to explain "
   ]
  },
  {
   "cell_type": "markdown",
   "id": "da79fee8",
   "metadata": {},
   "source": [
    "#### Query 0: Your Query in English"
   ]
  },
  {
   "cell_type": "code",
   "execution_count": null,
   "id": "8daf6215",
   "metadata": {},
   "outputs": [],
   "source": [
    "%%sql sqlite:///database_name.db\n",
    "# Insert your SQL query here:"
   ]
  },
  {
   "cell_type": "code",
   "execution_count": null,
   "id": "be8ede99-34f1-4522-8f10-df3704696e03",
   "metadata": {},
   "outputs": [],
   "source": [
    "%%logica query_name\n",
    "# Insert your Logica query here:"
   ]
  },
  {
   "cell_type": "markdown",
   "id": "962d3f77-b3fe-47f1-b11a-0c90f269297e",
   "metadata": {},
   "source": [
    "#### Query 1:  Your query in English"
   ]
  },
  {
   "cell_type": "code",
   "execution_count": null,
   "id": "92b9b590",
   "metadata": {},
   "outputs": [],
   "source": [
    "%%sql sqlite:///database_name.db\n",
    "# Insert your SQL query here:"
   ]
  },
  {
   "cell_type": "code",
   "execution_count": null,
   "id": "afb740b8-ef07-4dce-9df5-d6ac21597d9d",
   "metadata": {},
   "outputs": [],
   "source": [
    "%%logica query_name\n",
    "# Insert your Logica query here:"
   ]
  },
  {
   "cell_type": "markdown",
   "id": "81ccd6f9",
   "metadata": {},
   "source": [
    "#### Query 2: Your query in English"
   ]
  },
  {
   "cell_type": "code",
   "execution_count": null,
   "id": "5e821d05",
   "metadata": {},
   "outputs": [],
   "source": [
    "%%sql sqlite:///database_name.db\n",
    "# Insert your SQL query here:"
   ]
  },
  {
   "cell_type": "code",
   "execution_count": null,
   "id": "5e668d16",
   "metadata": {},
   "outputs": [],
   "source": [
    "%%logica query_name\n",
    "# Insert your Logica query here:"
   ]
  }
 ],
 "metadata": {
  "kernelspec": {
   "display_name": "Python 3 (ipykernel)",
   "language": "python",
   "name": "python3"
  },
  "language_info": {
   "codemirror_mode": {
    "name": "ipython",
    "version": 3
   },
   "file_extension": ".py",
   "mimetype": "text/x-python",
   "name": "python",
   "nbconvert_exporter": "python",
   "pygments_lexer": "ipython3",
   "version": "3.9.2"
  },
  "vscode": {
   "interpreter": {
    "hash": "8b7eedf106401029ffa3b0a271f73d13ee39815d8ba2ed15df644150c1891f03"
   }
  }
 },
 "nbformat": 4,
 "nbformat_minor": 5
}
